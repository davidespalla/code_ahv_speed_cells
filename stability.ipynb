{
 "cells": [
  {
   "cell_type": "code",
   "execution_count": null,
   "metadata": {},
   "outputs": [],
   "source": [
    "%pylab inline\n",
    "import pandas as pd\n",
    "#import seaborn as sns\n",
    "from scipy.stats import pearsonr\n",
    "#sns.set()"
   ]
  },
  {
   "cell_type": "markdown",
   "metadata": {},
   "source": [
    "# Speed"
   ]
  },
  {
   "cell_type": "code",
   "execution_count": null,
   "metadata": {},
   "outputs": [],
   "source": [
    "#trial data\n",
    "speed=pd.read_csv(\"../TrialData/filteredSpeed.csv\")\n",
    "trialMetadata=pd.read_csv(\"../TrialData/metadata.csv\",index_col=0)\n",
    "#cells data\n",
    "rate=pd.read_csv(\"../CellData/firingRate.csv\")\n",
    "cellMetadata=pd.read_csv(\"../CellData/metadata1.csv\",index_col=0)\n",
    "speed.columns=trialMetadata[\"trialIndex\"].values"
   ]
  },
  {
   "cell_type": "markdown",
   "metadata": {},
   "source": [
    "## First and Second Half"
   ]
  },
  {
   "cell_type": "code",
   "execution_count": null,
   "metadata": {},
   "outputs": [],
   "source": [
    "speed1Half=speed[:int(len(speed)/2)]\n",
    "speed2Half=speed[int(len(speed)/2):]\n",
    "rate1Half=rate[:int(len(speed)/2)]\n",
    "rate2Half=rate[int(len(speed)/2):]\n",
    "#Downsampling"
   ]
  },
  {
   "cell_type": "code",
   "execution_count": null,
   "metadata": {},
   "outputs": [],
   "source": [
    "speedScore1Half=np.zeros(len(rate.T))\n",
    "speedScore2Half=np.zeros(len(rate.T))\n",
    "for i in range(len(rate.columns)):\n",
    "        trialId=cellMetadata.loc[rate.columns[i],:][\"trialIndex\"]\n",
    "        if cellMetadata[\"include\"][rate.columns[i]]==1:\n",
    "            x1 = rate1Half[rate.columns[i]].values\n",
    "            y1 = speed1Half[trialId].values\n",
    "            x2 = rate2Half[rate.columns[i]].values\n",
    "            y2 = speed2Half[trialId].values\n",
    "            bad1 = ~np.logical_or(np.isnan(x1), np.isnan(y1))\n",
    "            bad2 = ~np.logical_or(np.isnan(x2), np.isnan(y2))\n",
    "            a1=np.compress(bad1, x1)  \n",
    "            b1=np.compress(bad1, y1) \n",
    "            a2=np.compress(bad2, x2)  \n",
    "            b2=np.compress(bad2, y2) \n",
    "            try:\n",
    "                speedScore1Half[i]=pearsonr(a1,b1)[0]\n",
    "                speedScore2Half[i]=pearsonr(a2,b2)[0]\n",
    "            except ValueError:\n",
    "                speedScore1Half[i]=np.nan\n",
    "                speedScore2Half[i]=np.nan\n",
    "        else:\n",
    "            speedScore1Half[i]=np.nan\n",
    "            speedScore2Half[i]=np.nan\n",
    "        if i %100==0:\n",
    "            print(\"Scored cell: \"+str(i))"
   ]
  },
  {
   "cell_type": "code",
   "execution_count": null,
   "metadata": {},
   "outputs": [],
   "source": [
    "cellMetadata[\"1HalfSpeedScore\"]=speedScore1Half\n",
    "cellMetadata[\"2HalfSpeedScore\"]=speedScore2Half"
   ]
  },
  {
   "cell_type": "markdown",
   "metadata": {},
   "source": [
    "## Plot"
   ]
  },
  {
   "cell_type": "code",
   "execution_count": null,
   "metadata": {},
   "outputs": [],
   "source": [
    "colors=[]\n",
    "cells = cellMetadata[cellMetadata['include']==1]\n",
    "for i in cells.index:\n",
    "    cell=cells.loc[i]\n",
    "    if cell[\"speedModulated\"]==1 and not ( isnan(cell['1HalfSpeedScore']) or isnan(cell['2HalfSpeedScore'])) :\n",
    "        colors.append(\"#ED1C24\")\n",
    "    elif not ( isnan(cell['1HalfSpeedScore']) or isnan(cell['2HalfSpeedScore'])) :\n",
    "        colors.append('#A3A3A3')"
   ]
  },
  {
   "cell_type": "code",
   "execution_count": null,
   "metadata": {},
   "outputs": [],
   "source": [
    "#Whole Population\n",
    "figure(figsize=(6,6))\n",
    "x=cellMetadata[\"1HalfSpeedScore\"].values\n",
    "y=cellMetadata[\"2HalfSpeedScore\"].values\n",
    "bad = ~np.logical_or(np.isnan(x), np.isnan(y))\n",
    "a=np.compress(bad, x)  \n",
    "b=np.compress(bad, y) \n",
    "scatter(a,b,c=colors)\n",
    "plt.axis((-0.5,0.5,-0.5,0.5))\n",
    "#axvline(x=cellMetadata[\"speedTh\"].values[0],linestyle='--')\n",
    "#axhline(y=cellMetadata[\"2HalfSpeedTh\"].values[0],linestyle='--')\n",
    "xlabel(\"1HalfSpeedScore, correlation=\"+str(pearsonr(a,b)[0])+\", pvalue=\"+str(pearsonr(a,b)[1]))\n",
    "ylabel(\"2HalfSpeedScore\")\n",
    "print(\"PrS:\"+str(pearsonr(a,b)))\n",
    "savefig(\"speedScore_Stability_1Half2Half.svg\")"
   ]
  },
  {
   "cell_type": "markdown",
   "metadata": {},
   "source": [
    "# Angular velocity"
   ]
  },
  {
   "cell_type": "code",
   "execution_count": null,
   "metadata": {},
   "outputs": [],
   "source": [
    "#trial data\n",
    "angularVelocity=pd.read_csv(\"../TrialData/filteredAngularVelocity.csv\")\n",
    "trialMetadata=pd.read_csv(\"../TrialData/metadata.csv\",index_col=0)\n",
    "#cells data\n",
    "rate=pd.read_csv(\"../CellData/firingRate.csv\")\n",
    "cellMetadata=pd.read_csv(\"../CellData/metadata1.csv\",index_col=0)\n",
    "angularVelocity.columns=trialMetadata[\"trialIndex\"].values"
   ]
  },
  {
   "cell_type": "markdown",
   "metadata": {},
   "source": [
    "## First and Second Half"
   ]
  },
  {
   "cell_type": "code",
   "execution_count": null,
   "metadata": {},
   "outputs": [],
   "source": [
    "angularVelocity1Half=angularVelocity[:int(len(angularVelocity)/2)]\n",
    "angularVelocity2Half=angularVelocity[int(len(angularVelocity)/2):]\n",
    "rate1Half=rate[:int(len(angularVelocity)/2)]\n",
    "rate2Half=rate[int(len(angularVelocity)/2):]\n",
    "#Downsampling"
   ]
  },
  {
   "cell_type": "code",
   "execution_count": null,
   "metadata": {},
   "outputs": [],
   "source": [
    "angularVelocityScore1Half=np.zeros(len(rate.T))\n",
    "angularVelocityScore2Half=np.zeros(len(rate.T))\n",
    "for i in range(len(rate.columns)):\n",
    "        trialId=cellMetadata.loc[rate.columns[i],:][\"trialIndex\"]\n",
    "        if cellMetadata[\"include\"][rate.columns[i]]==1:\n",
    "            x1 = rate1Half[rate.columns[i]].values\n",
    "            y1 = angularVelocity1Half[trialId].values\n",
    "            x2 = rate2Half[rate.columns[i]].values\n",
    "            y2 = angularVelocity2Half[trialId].values\n",
    "            bad1 = ~np.logical_or(np.isnan(x1), np.isnan(y1))\n",
    "            bad2 = ~np.logical_or(np.isnan(x2), np.isnan(y2))\n",
    "            a1=np.compress(bad1, x1)  \n",
    "            b1=np.compress(bad1, y1) \n",
    "            a2=np.compress(bad2, x2)  \n",
    "            b2=np.compress(bad2, y2) \n",
    "            try:\n",
    "                angularVelocityScore1Half[i]=pearsonr(a1,b1)[0]\n",
    "                angularVelocityScore2Half[i]=pearsonr(a2,b2)[0]\n",
    "            except ValueError:\n",
    "                angularVelocityScore1Half[i]=np.nan\n",
    "                angularVelocityScore2Half[i]=np.nan\n",
    "                \n",
    "        else:\n",
    "            angularVelocityScore1Half[i]=np.nan\n",
    "            angularVelocityScore2Half[i]=np.nan\n",
    "        if i %100==0:\n",
    "            print(\"Scored cell: \"+str(i))"
   ]
  },
  {
   "cell_type": "code",
   "execution_count": null,
   "metadata": {},
   "outputs": [],
   "source": [
    "cellMetadata[\"1HalfAngularVelocityScore\"]=angularVelocityScore1Half\n",
    "cellMetadata[\"2HalfAngularVelocityScore\"]=angularVelocityScore2Half"
   ]
  },
  {
   "cell_type": "code",
   "execution_count": null,
   "metadata": {},
   "outputs": [],
   "source": [
    "colors=[]\n",
    "cells = cellMetadata[cellMetadata['include']==1]\n",
    "for i in cells.index:\n",
    "    cell=cells.loc[i]\n",
    "    if (cell[\"angularVelocityModulated\"]==1 or cell[\"angularVelocityCCWModulated\"]==1) and not ( isnan(cell['1HalfAngularVelocityScore']) or isnan(cell['2HalfAngularVelocityScore'])) :\n",
    "        colors.append(\"#E3218F\")\n",
    "    elif not ( isnan(cell['1HalfAngularVelocityScore']) or isnan(cell['2HalfAngularVelocityScore'])) :\n",
    "        colors.append('#A3A3A3')"
   ]
  },
  {
   "cell_type": "code",
   "execution_count": null,
   "metadata": {},
   "outputs": [],
   "source": [
    "#WHOLE POPULATION\n",
    "figure(figsize=(6,6))\n",
    "x=cellMetadata[\"1HalfAngularVelocityScore\"].values\n",
    "y=cellMetadata[\"2HalfAngularVelocityScore\"].values\n",
    "bad = ~np.logical_or(np.isnan(x), np.isnan(y))\n",
    "a=np.compress(bad, x)  \n",
    "b=np.compress(bad, y) \n",
    "scatter(a,b,c=colors)\n",
    "plt.axis((-0.4,0.4,-0.4,0.4))\n",
    "#axvline(x=cellMetadata[\"AngularVelocityTh\"].values[0],linestyle='--')\n",
    "#axhline(y=cellMetadata[\"2HalfAngularVelocityTh\"].values[0],linestyle='--')\n",
    "xlabel(\"1HalfAngularVelocityScore, correlation=\"+str(pearsonr(a,b)[0])+\", pvalue=\"+str(pearsonr(a,b)[1]))\n",
    "ylabel(\"2HalfAngularVelocityScore\")\n",
    "print(\"MEC:\"+str(pearsonr(a,b)))\n",
    "savefig(\"AngularVelocityScore_Stability_1Half2Half.svg\")"
   ]
  },
  {
   "cell_type": "markdown",
   "metadata": {},
   "source": [
    "# Abs angular velocity"
   ]
  },
  {
   "cell_type": "code",
   "execution_count": null,
   "metadata": {},
   "outputs": [],
   "source": [
    "#trial data\n",
    "angularVelocity=abs(pd.read_csv(\"../TrialData/filteredAngularVelocity.csv\"))\n",
    "trialMetadata=pd.read_csv(\"../TrialData/metadata.csv\",index_col=0)\n",
    "#cells data\n",
    "rate=pd.read_csv(\"../CellData/firingRate.csv\")\n",
    "cellMetadata=pd.read_csv(\"../CellData/metadata1.csv\",index_col=0)\n",
    "angularVelocity.columns=trialMetadata[\"trialIndex\"].values"
   ]
  },
  {
   "cell_type": "markdown",
   "metadata": {},
   "source": [
    "## First and Second Half"
   ]
  },
  {
   "cell_type": "code",
   "execution_count": null,
   "metadata": {},
   "outputs": [],
   "source": [
    "angularVelocity1Half=angularVelocity[:int(len(angularVelocity)/2)]\n",
    "angularVelocity2Half=angularVelocity[int(len(angularVelocity)/2):]\n",
    "rate1Half=rate[:int(len(angularVelocity)/2)]\n",
    "rate2Half=rate[int(len(angularVelocity)/2):]\n",
    "#Downsampling"
   ]
  },
  {
   "cell_type": "code",
   "execution_count": null,
   "metadata": {},
   "outputs": [],
   "source": [
    "angularVelocityScore1Half=np.zeros(len(rate.T))\n",
    "angularVelocityScore2Half=np.zeros(len(rate.T))\n",
    "for i in range(len(rate.columns)):\n",
    "        trialId=cellMetadata.loc[rate.columns[i],:][\"trialIndex\"]\n",
    "        if cellMetadata[\"include\"][rate.columns[i]]==1:\n",
    "            x1 = rate1Half[rate.columns[i]].values\n",
    "            y1 = angularVelocity1Half[trialId].values\n",
    "            x2 = rate2Half[rate.columns[i]].values\n",
    "            y2 = angularVelocity2Half[trialId].values\n",
    "            bad1 = ~np.logical_or(np.isnan(x1), np.isnan(y1))\n",
    "            bad2 = ~np.logical_or(np.isnan(x2), np.isnan(y2))\n",
    "            a1=np.compress(bad1, x1)  \n",
    "            b1=np.compress(bad1, y1) \n",
    "            a2=np.compress(bad2, x2)  \n",
    "            b2=np.compress(bad2, y2) \n",
    "            try:\n",
    "                angularVelocityScore1Half[i]=pearsonr(a1,b1)[0]\n",
    "                angularVelocityScore2Half[i]=pearsonr(a2,b2)[0]\n",
    "            except ValueError:\n",
    "                angularVelocityScore1Half[i]=np.nan\n",
    "                angularVelocityScore2Half[i]=np.nan\n",
    "        else:\n",
    "            angularVelocityScore1Half[i]=np.nan\n",
    "            angularVelocityScore2Half[i]=np.nan\n",
    "        if i %100==0:\n",
    "            print(\"Scored cell: \"+str(i))"
   ]
  },
  {
   "cell_type": "code",
   "execution_count": null,
   "metadata": {},
   "outputs": [],
   "source": [
    "cellMetadata[\"1HalfAngularVelocityScore\"]=angularVelocityScore1Half\n",
    "cellMetadata[\"2HalfAngularVelocityScore\"]=angularVelocityScore2Half"
   ]
  },
  {
   "cell_type": "code",
   "execution_count": null,
   "metadata": {},
   "outputs": [],
   "source": [
    "colors=[]\n",
    "cells = cellMetadata[cellMetadata['include']==1]\n",
    "for i in cells.index:\n",
    "    cell=cells.loc[i]\n",
    "    if (cell[\"absAngularVelocityModulated\"]==1) and not ( isnan(cell['1HalfAngularVelocityScore']) or isnan(cell['2HalfAngularVelocityScore'])) :\n",
    "        colors.append(\"#A32D65\")\n",
    "    elif not ( isnan(cell['1HalfAngularVelocityScore']) or isnan(cell['2HalfAngularVelocityScore'])) :\n",
    "        colors.append('#A3A3A3')"
   ]
  },
  {
   "cell_type": "code",
   "execution_count": null,
   "metadata": {},
   "outputs": [],
   "source": [
    "#WHOLE POPULATION\n",
    "figure(figsize=(6,6))\n",
    "x=cellMetadata[\"1HalfAngularVelocityScore\"].values\n",
    "y=cellMetadata[\"2HalfAngularVelocityScore\"].values\n",
    "bad = ~np.logical_or(np.isnan(x), np.isnan(y))\n",
    "a=np.compress(bad, x)  \n",
    "b=np.compress(bad, y) \n",
    "scatter(a,b,c=colors)\n",
    "plt.axis((-0.4,0.4,-0.4,0.4))\n",
    "#axvline(x=cellMetadata[\"AngularVelocityTh\"].values[0],linestyle='--')\n",
    "#axhline(y=cellMetadata[\"2HalfAngularVelocityTh\"].values[0],linestyle='--')\n",
    "xlabel(\"1HalfABSAngularVelocityScore, correlation=\"+str(pearsonr(a,b)[0])+\", pvalue=\"+str(pearsonr(a,b)[1]))\n",
    "ylabel(\"2HalfABSAngularVelocityScore\")\n",
    "print(\"MEC:\"+str(pearsonr(a,b)))\n",
    "savefig(\"ABSAngularVelocityScore_Stability_1Half2Half.svg\")"
   ]
  }
 ],
 "metadata": {
  "kernelspec": {
   "display_name": "Python 3",
   "language": "python",
   "name": "python3"
  },
  "language_info": {
   "codemirror_mode": {
    "name": "ipython",
    "version": 3
   },
   "file_extension": ".py",
   "mimetype": "text/x-python",
   "name": "python",
   "nbconvert_exporter": "python",
   "pygments_lexer": "ipython3",
   "version": "3.8.5"
  }
 },
 "nbformat": 4,
 "nbformat_minor": 4
}
