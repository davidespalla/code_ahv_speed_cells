{
 "cells": [
  {
   "cell_type": "markdown",
   "metadata": {},
   "source": [
    "# Firing properties analysis"
   ]
  },
  {
   "cell_type": "code",
   "execution_count": 3,
   "metadata": {},
   "outputs": [
    {
     "name": "stdout",
     "output_type": "stream",
     "text": [
      "Populating the interactive namespace from numpy and matplotlib\n"
     ]
    }
   ],
   "source": [
    "%pylab inline\n",
    "import pandas as pd\n",
    "from scipy.stats import pearsonr\n",
    "from scipy import stats \n",
    "from scipy.ndimage import gaussian_filter"
   ]
  },
  {
   "cell_type": "code",
   "execution_count": 4,
   "metadata": {},
   "outputs": [],
   "source": [
    "#DATA import\n",
    "angularVelocity=pd.read_csv(\"TrialData/filteredAngularVelocity.csv\")\n",
    "speed=pd.read_csv(\"TrialData/filteredSpeed.csv\")\n",
    "\n",
    "trialMetadata=pd.read_csv(\"TrialData/metadata.csv\",index_col=0)\n",
    "cellMetadata=pd.read_csv(\"CellData/metadata1.csv\",index_col=0)\n",
    "\n",
    "rate=pd.read_csv(\"CellData/firingRate.csv\")\n",
    "spikes=pd.read_csv(\"CellData/spikes.csv\")\n",
    "\n",
    "angularVelocity.columns=trialMetadata[\"trialIndex\"].values\n",
    "speed.columns=trialMetadata[\"trialIndex\"].values\n"
   ]
  },
  {
   "cell_type": "code",
   "execution_count": 5,
   "metadata": {},
   "outputs": [],
   "source": [
    "cellMetadata[\"derivativeModulated\"]=np.nan\n",
    "cellMetadata[\"AHVModulated\"]=np.nan\n",
    "cellMetadata[\"AHVUnidirModulated\"]=np.nan\n",
    "for i in range(len(cellMetadata)):\n",
    "    if cellMetadata[\"include\"].values[i]==1:\n",
    "        if (cellMetadata[\"speedModulated\"].values[i]==1 or cellMetadata[\"angularVelocityModulated\"].values[i]==1 or cellMetadata[\"angularVelocityCCWModulated\"].values[i]==1 or cellMetadata[\"absAngularVelocityModulated\"].values[i]==1):\n",
    "            cellMetadata[\"derivativeModulated\"].values[i]=1\n",
    "        else:\n",
    "            cellMetadata[\"derivativeModulated\"].values[i]=0\n",
    "            \n",
    "for i in range(len(cellMetadata)):\n",
    "    if cellMetadata[\"include\"].values[i]==1:\n",
    "        if (cellMetadata[\"angularVelocityModulated\"].values[i]==1 or cellMetadata[\"angularVelocityCCWModulated\"].values[i]==1 or cellMetadata[\"absAngularVelocityModulated\"].values[i]==1):\n",
    "            cellMetadata[\"AHVModulated\"].values[i]=1\n",
    "        else:\n",
    "            cellMetadata[\"AHVModulated\"].values[i]=0\n",
    "            \n",
    "for i in range(len(cellMetadata)):\n",
    "    if cellMetadata[\"include\"].values[i]==1:\n",
    "        if (cellMetadata[\"angularVelocityModulated\"].values[i]==1 or cellMetadata[\"angularVelocityCCWModulated\"].values[i]==1 ):\n",
    "            cellMetadata[\"AHVUnidirModulated\"].values[i]=1\n",
    "        else:\n",
    "            cellMetadata[\"AHVUnidirModulated\"].values[i]=0"
   ]
  },
  {
   "cell_type": "markdown",
   "metadata": {},
   "source": [
    "## Average rate"
   ]
  },
  {
   "cell_type": "code",
   "execution_count": 7,
   "metadata": {},
   "outputs": [
    {
     "name": "stdout",
     "output_type": "stream",
     "text": [
      "2.1841666666666666\n"
     ]
    },
    {
     "data": {
      "image/png": "[encoded data removed]",
      "text/plain": [
       "<Figure size 432x432 with 1 Axes>"
      ]
     },
     "metadata": {
      "needs_background": "light"
     },
     "output_type": "display_data"
    }
   ],
   "source": [
    "### SPEED\n",
    "binwidth=0.5\n",
    "AvgRateSpeed=[]\n",
    "for cell in range(len(cellMetadata.index)):\n",
    "    if (cellMetadata[\"speedModulated\"].values[cell]==1) and (cellMetadata[\"HDModulated\"].values[cell]==0) and (cellMetadata[\"gridModulated\"].values[cell]==0):\n",
    "        r=rate[cellMetadata.index[cell]].values\n",
    "        AvgRateSpeed.append(mean(r))\n",
    "figure(figsize=(6,6))\n",
    "axvline(x=median(AvgRateSpeed), linestyle=\"--\", label= \"Median\")\n",
    "hist(AvgRateSpeed,bins=arange(0, 15 + binwidth, binwidth),density=True);\n",
    "ylim(0,0.65)\n",
    "legend()\n",
    "ylabel(\"density\")\n",
    "xlabel(\"Avg rate\")\n",
    "print(median(AvgRateSpeed))\n",
    "#plt.savefig(\"avg_rate_speed.svg\")"
   ]
  },
  {
   "cell_type": "code",
   "execution_count": 7,
   "metadata": {},
   "outputs": [
    {
     "name": "stdout",
     "output_type": "stream",
     "text": [
      "2.026666666666667\n"
     ]
    },
    {
     "data": {
      "image/png": "[encoded data removed]",
      "text/plain": [
       "<Figure size 432x432 with 1 Axes>"
      ]
     },
     "metadata": {
      "needs_background": "light"
     },
     "output_type": "display_data"
    }
   ],
   "source": [
    "### AHV\n",
    "binwidth=0.5\n",
    "AvgRateAHV=[]\n",
    "for cell in range(len(cellMetadata.index)):\n",
    "    if (cellMetadata[\"AHVModulated\"].values[cell]==1) and (cellMetadata[\"HDModulated\"].values[cell]==0) and (cellMetadata[\"gridModulated\"].values[cell]==0):\n",
    "        r=rate[cellMetadata.index[cell]].values\n",
    "        AvgRateAHV.append(mean(r))\n",
    "figure(figsize=(6,6))\n",
    "axvline(x=median(AvgRateAHV), linestyle=\"--\", label= \"Median\")\n",
    "hist(AvgRateAHV,bins=arange(0, 15 + binwidth, binwidth),density=True);\n",
    "ylim(0,0.65)\n",
    "legend()\n",
    "ylabel(\"density\")\n",
    "xlabel(\"Avg rate\")\n",
    "print(median(AvgRateAHV))\n",
    "#plt.savefig(\"avg_rate_AHV.svg\")"
   ]
  },
  {
   "cell_type": "code",
   "execution_count": 8,
   "metadata": {},
   "outputs": [
    {
     "name": "stdout",
     "output_type": "stream",
     "text": [
      "1.3808333333333334\n"
     ]
    },
    {
     "data": {
      "image/png": "[encoded data removed]",
      "text/plain": [
       "<Figure size 432x432 with 1 Axes>"
      ]
     },
     "metadata": {
      "needs_background": "light"
     },
     "output_type": "display_data"
    }
   ],
   "source": [
    "### grid\n",
    "binwidth=0.5\n",
    "AvgRategrid=[]\n",
    "for cell in range(len(cellMetadata.index)):\n",
    "    if (cellMetadata[\"speedModulated\"].values[cell]==0) and (cellMetadata[\"AHVModulated\"].values[cell]==0)  and (cellMetadata[\"gridModulated\"].values[cell]==1):\n",
    "        r=rate[cellMetadata.index[cell]].values\n",
    "        AvgRategrid.append(mean(r))\n",
    "figure(figsize=(6,6))\n",
    "axvline(x=median(AvgRategrid), linestyle=\"--\", label= \"Median\")\n",
    "hist(AvgRategrid,bins=arange(0, 15 + binwidth, binwidth),density=True);\n",
    "ylim(0,0.65)\n",
    "legend()\n",
    "ylabel(\"density\")\n",
    "xlabel(\"Avg rate\")\n",
    "print(median(AvgRategrid))\n",
    "#plt.savefig(\"avg_rate_grid.svg\")"
   ]
  },
  {
   "cell_type": "code",
   "execution_count": 9,
   "metadata": {},
   "outputs": [
    {
     "name": "stdout",
     "output_type": "stream",
     "text": [
      "1.0633333333333335\n"
     ]
    },
    {
     "data": {
      "image/png": "[encoded data removed]",
      "text/plain": [
       "<Figure size 432x432 with 1 Axes>"
      ]
     },
     "metadata": {
      "needs_background": "light"
     },
     "output_type": "display_data"
    }
   ],
   "source": [
    "### HD\n",
    "binwidth=0.5\n",
    "AvgRateHD=[]\n",
    "for cell in range(len(cellMetadata.index)):\n",
    "    if (cellMetadata[\"speedModulated\"].values[cell]==0) and (cellMetadata[\"AHVModulated\"].values[cell]==0) and (cellMetadata[\"HDModulated\"].values[cell]==1):\n",
    "        r=rate[cellMetadata.index[cell]].values\n",
    "        AvgRateHD.append(mean(r))\n",
    "figure(figsize=(6,6))\n",
    "axvline(x=median(AvgRateHD), linestyle=\"--\", label= \"Median\")\n",
    "hist(AvgRateHD,bins=arange(0, 15 + binwidth, binwidth),density=True);\n",
    "ylim(0,0.65)\n",
    "legend()\n",
    "ylabel(\"density\")\n",
    "xlabel(\"Avg rate\")\n",
    "print(median(AvgRateHD))\n",
    "#plt.savefig(\"avg_rate_HD.svg\")"
   ]
  },
  {
   "cell_type": "markdown",
   "metadata": {},
   "source": [
    "## BURSTINESS: Inter Spike Interval"
   ]
  },
  {
   "cell_type": "code",
   "execution_count": 10,
   "metadata": {},
   "outputs": [
    {
     "data": {
      "text/plain": [
       "0.4554352357320881"
      ]
     },
     "execution_count": 10,
     "metadata": {},
     "output_type": "execute_result"
    },
    {
     "data": {
      "image/png": "[encoded data removed]",
      "text/plain": [
       "<Figure size 432x432 with 1 Axes>"
      ]
     },
     "metadata": {
      "needs_background": "light"
     },
     "output_type": "display_data"
    }
   ],
   "source": [
    "BurstinessSpeed=[]\n",
    "binwidth=0.2\n",
    "for cell in range(len(cellMetadata.index)):\n",
    "    if (cellMetadata[\"speedModulated\"].values[cell]==1) and (cellMetadata[\"HDModulated\"].values[cell]==0) and (cellMetadata[\"gridModulated\"].values[cell]==0):\n",
    "        spkNan=spikes[cellMetadata.index[cell]].values\n",
    "        spk= spkNan[~numpy.isnan(spkNan)] # get rids of nan values at the end\n",
    "        ISI=[x - spk[i - 1] for i, x in enumerate(spk)][1:]\n",
    "        BurstinessSpeed.append(mean(ISI))\n",
    "figure(figsize=(6,6))\n",
    "axvline(x=median(BurstinessSpeed), linestyle=\"--\", label= \"Median\")\n",
    "hist(BurstinessSpeed,bins=arange(0, 5 + binwidth, binwidth), density=True);\n",
    "ylim(0,1.75)\n",
    "legend()\n",
    "ylabel(\"density\")\n",
    "xlabel(\"ISI\")\n",
    "median(BurstinessSpeed)\n",
    "#plt.savefig(\"ISI_speed.svg\")"
   ]
  },
  {
   "cell_type": "code",
   "execution_count": 11,
   "metadata": {},
   "outputs": [
    {
     "data": {
      "text/plain": [
       "0.4859381087105621"
      ]
     },
     "execution_count": 11,
     "metadata": {},
     "output_type": "execute_result"
    },
    {
     "data": {
      "image/png": "[encoded data removed]",
      "text/plain": [
       "<Figure size 432x432 with 1 Axes>"
      ]
     },
     "metadata": {
      "needs_background": "light"
     },
     "output_type": "display_data"
    }
   ],
   "source": [
    "BurstinessAHV=[]\n",
    "binwidth=0.2\n",
    "for cell in range(len(cellMetadata.index)):\n",
    "    if  (cellMetadata[\"AHVModulated\"].values[cell]==1) and (cellMetadata[\"HDModulated\"].values[cell]==0) and (cellMetadata[\"gridModulated\"].values[cell]==0):\n",
    "        spkNan=spikes[cellMetadata.index[cell]].values\n",
    "        spk= spkNan[~numpy.isnan(spkNan)] # get rids of nan values at the end\n",
    "        ISI=[x - spk[i - 1] for i, x in enumerate(spk)][1:]\n",
    "        BurstinessAHV.append(mean(ISI))\n",
    "figure(figsize=(6,6))\n",
    "axvline(x=median(BurstinessAHV), linestyle=\"--\", label= \"Median\")\n",
    "hist(BurstinessAHV,bins=arange(0, 5 + binwidth, binwidth), density=True);\n",
    "ylim(0,1.75)\n",
    "legend()\n",
    "ylabel(\"density\")\n",
    "xlabel(\"ISI\")\n",
    "median(BurstinessAHV)\n",
    "#plt.savefig(\"ISI_AHV.svg\")"
   ]
  },
  {
   "cell_type": "code",
   "execution_count": 12,
   "metadata": {},
   "outputs": [
    {
     "data": {
      "text/plain": [
       "0.905218912838509"
      ]
     },
     "execution_count": 12,
     "metadata": {},
     "output_type": "execute_result"
    },
    {
     "data": {
      "image/png": "[encoded data removed]",
      "text/plain": [
       "<Figure size 432x432 with 1 Axes>"
      ]
     },
     "metadata": {
      "needs_background": "light"
     },
     "output_type": "display_data"
    }
   ],
   "source": [
    "BurstinessHD=[]\n",
    "binwidth=0.2\n",
    "for cell in range(len(cellMetadata.index)):\n",
    "    if (cellMetadata[\"speedModulated\"].values[cell]==0) and (cellMetadata[\"AHVModulated\"].values[cell]==0) and (cellMetadata[\"HDModulated\"].values[cell]==1):\n",
    "        spkNan=spikes[cellMetadata.index[cell]].values\n",
    "        spk= spkNan[~numpy.isnan(spkNan)] # get rids of nan values at the end\n",
    "        ISI=[x - spk[i - 1] for i, x in enumerate(spk)][1:]\n",
    "        BurstinessHD.append(mean(ISI))\n",
    "figure(figsize=(6,6))\n",
    "axvline(x=median(BurstinessHD), linestyle=\"--\", label= \"Median\")\n",
    "hist(BurstinessHD,bins=arange(0, 5 + binwidth, binwidth), density=True);\n",
    "ylim(0,1.75)\n",
    "legend()\n",
    "ylabel(\"density\")\n",
    "xlabel(\"ISI\")\n",
    "median(BurstinessHD)\n",
    "#plt.savefig(\"ISI_HD.svg\")"
   ]
  },
  {
   "cell_type": "code",
   "execution_count": 13,
   "metadata": {},
   "outputs": [
    {
     "data": {
      "text/plain": [
       "0.7020614394915898"
      ]
     },
     "execution_count": 13,
     "metadata": {},
     "output_type": "execute_result"
    },
    {
     "data": {
      "image/png": "[encoded data removed]",
      "text/plain": [
       "<Figure size 432x432 with 1 Axes>"
      ]
     },
     "metadata": {
      "needs_background": "light"
     },
     "output_type": "display_data"
    }
   ],
   "source": [
    "Burstinessgrid=[]\n",
    "binwidth=0.2\n",
    "for cell in range(len(cellMetadata.index)):\n",
    "    if (cellMetadata[\"speedModulated\"].values[cell]==0) and (cellMetadata[\"AHVModulated\"].values[cell]==0)  and (cellMetadata[\"gridModulated\"].values[cell]==1):\n",
    "        spkNan=spikes[cellMetadata.index[cell]].values\n",
    "        spk= spkNan[~numpy.isnan(spkNan)] # get rids of nan values at the end\n",
    "        ISI=[x - spk[i - 1] for i, x in enumerate(spk)][1:]\n",
    "        Burstinessgrid.append(mean(ISI))\n",
    "figure(figsize=(6,6))\n",
    "axvline(x=median(Burstinessgrid), linestyle=\"--\", label= \"Median\")\n",
    "hist(Burstinessgrid,bins=arange(0, 5 + binwidth, binwidth), density=True);\n",
    "ylim(0,1.75)\n",
    "legend()\n",
    "ylabel(\"density\")\n",
    "xlabel(\"ISI\")\n",
    "median(Burstinessgrid)\n",
    "#plt.savefig(\"ISI_grid.svg\")"
   ]
  },
  {
   "cell_type": "markdown",
   "metadata": {},
   "source": [
    "# Peak rate: highest quintile"
   ]
  },
  {
   "cell_type": "code",
   "execution_count": 14,
   "metadata": {},
   "outputs": [
    {
     "name": "stdout",
     "output_type": "stream",
     "text": [
      "3.4067492677332405\n"
     ]
    },
    {
     "data": {
      "image/png": "[encoded data removed]",
      "text/plain": [
       "<Figure size 432x432 with 1 Axes>"
      ]
     },
     "metadata": {
      "needs_background": "light"
     },
     "output_type": "display_data"
    }
   ],
   "source": [
    "#SPEED\n",
    "PeakRateSpeed=[]\n",
    "binwidth=0.7\n",
    "for cell in range(len(cellMetadata.index)):\n",
    "    if (cellMetadata[\"speedModulated\"].values[cell]==1) and (cellMetadata[\"HDModulated\"].values[cell]==0) and (cellMetadata[\"gridModulated\"].values[cell]==0):\n",
    "        r=rate[cellMetadata.index[cell]].values\n",
    "        PeakRateSpeed.append(quantile(r,4.0/5.0))\n",
    "        \n",
    "figure(figsize=(6,6))\n",
    "axvline(x=median(PeakRateSpeed), linestyle=\"--\", label= \"Median\")\n",
    "hist(PeakRateSpeed,bins=arange(0, 15 + binwidth, binwidth), density=True);\n",
    "ylim(0,0.6)\n",
    "legend()\n",
    "ylabel(\"density\")\n",
    "xlabel(\"Peak Rate\")\n",
    "print(median(PeakRateSpeed))\n",
    "#plt.savefig(\"peak_rate_speed.svg\")  "
   ]
  },
  {
   "cell_type": "code",
   "execution_count": 15,
   "metadata": {},
   "outputs": [
    {
     "data": {
      "text/plain": [
       "3.2506209645717155"
      ]
     },
     "execution_count": 15,
     "metadata": {},
     "output_type": "execute_result"
    },
    {
     "data": {
      "image/png": "[encoded data removed]",
      "text/plain": [
       "<Figure size 432x432 with 1 Axes>"
      ]
     },
     "metadata": {
      "needs_background": "light"
     },
     "output_type": "display_data"
    }
   ],
   "source": [
    "#AHV\n",
    "PeakRateAHV=[]\n",
    "binwidth=0.7\n",
    "for cell in range(len(cellMetadata.index)):\n",
    "    if (cellMetadata[\"AHVModulated\"].values[cell]==1) and (cellMetadata[\"HDModulated\"].values[cell]==0) and (cellMetadata[\"gridModulated\"].values[cell]==0):\n",
    "        r=rate[cellMetadata.index[cell]].values\n",
    "        PeakRateAHV.append(quantile(r,4.0/5.0))\n",
    "        \n",
    "figure(figsize=(6,6))\n",
    "axvline(x=median(PeakRateAHV), linestyle=\"--\", label= \"Median\")\n",
    "hist(PeakRateAHV,bins=arange(0, 15 + binwidth, binwidth), density=True);\n",
    "ylim(0,0.6)\n",
    "legend()\n",
    "ylabel(\"density\")\n",
    "xlabel(\"Peak Rate\")\n",
    "median(PeakRateAHV)\n",
    "#plt.savefig(\"peak_rate_AHV.svg\")         "
   ]
  },
  {
   "cell_type": "code",
   "execution_count": 16,
   "metadata": {
    "scrolled": true
   },
   "outputs": [
    {
     "data": {
      "text/plain": [
       "1.2517214847951443"
      ]
     },
     "execution_count": 16,
     "metadata": {},
     "output_type": "execute_result"
    },
    {
     "data": {
      "image/png": "[encoded data removed]",
      "text/plain": [
       "<Figure size 432x432 with 1 Axes>"
      ]
     },
     "metadata": {
      "needs_background": "light"
     },
     "output_type": "display_data"
    }
   ],
   "source": [
    "#HD\n",
    "PeakRateHD=[]\n",
    "binwidth=0.7\n",
    "for cell in range(len(cellMetadata.index)):\n",
    "    if (cellMetadata[\"speedModulated\"].values[cell]==0) and (cellMetadata[\"AHVModulated\"].values[cell]==0) and (cellMetadata[\"HDModulated\"].values[cell]==1) :\n",
    "        r=rate[cellMetadata.index[cell]].values\n",
    "        PeakRateHD.append(quantile(r,4.0/5.0))\n",
    "        \n",
    "figure(figsize=(6,6))\n",
    "axvline(x=median(PeakRateHD), linestyle=\"--\", label= \"Median\")\n",
    "hist(PeakRateHD,bins=arange(0, 15 + binwidth, binwidth), density=True);\n",
    "ylim(0,0.6)\n",
    "legend()\n",
    "ylabel(\"density\")\n",
    "xlabel(\"Peak Rate\")\n",
    "median(PeakRateHD)\n",
    "#plt.savefig(\"peak_rate_HD.svg\")        "
   ]
  },
  {
   "cell_type": "code",
   "execution_count": 17,
   "metadata": {},
   "outputs": [
    {
     "data": {
      "text/plain": [
       "1.6512646868549903"
      ]
     },
     "execution_count": 17,
     "metadata": {},
     "output_type": "execute_result"
    },
    {
     "data": {
      "image/png": "[encoded data removed]",
      "text/plain": [
       "<Figure size 432x432 with 1 Axes>"
      ]
     },
     "metadata": {
      "needs_background": "light"
     },
     "output_type": "display_data"
    }
   ],
   "source": [
    "#grid\n",
    "PeakRategrid=[]\n",
    "binwidth=0.7\n",
    "for cell in range(len(cellMetadata.index)):\n",
    "    if (cellMetadata[\"speedModulated\"].values[cell]==0) and (cellMetadata[\"AHVModulated\"].values[cell]==0)  and (cellMetadata[\"gridModulated\"].values[cell]==1):\n",
    "        r=rate[cellMetadata.index[cell]].values\n",
    "        PeakRategrid.append(quantile(r,4.0/5.0))\n",
    "        \n",
    "figure(figsize=(6,6))\n",
    "axvline(x=median(PeakRategrid), linestyle=\"--\", label= \"Median\")\n",
    "hist(PeakRategrid,bins=arange(0, 15 + binwidth, binwidth), density=True);\n",
    "ylim(0,0.6)\n",
    "legend()\n",
    "ylabel(\"density\")\n",
    "xlabel(\"Peak Rate\")\n",
    "median(PeakRategrid)\n",
    "#plt.savefig(\"peak_rate_grid.svg\")        "
   ]
  },
  {
   "cell_type": "markdown",
   "metadata": {},
   "source": [
    "# Sparsity"
   ]
  },
  {
   "cell_type": "code",
   "execution_count": null,
   "metadata": {},
   "outputs": [],
   "source": [
    "# Speed\n",
    "sparsities=[]\n",
    "for cell in range(len(cellMetadata.index)):\n",
    "    if (cellMetadata[\"speedModulated\"].values[cell]==1) and (cellMetadata[\"HDModulated\"].values[cell]==0) and (cellMetadata[\"gridModulated\"].values[cell]==0):\n",
    "        r=rate[cellMetadata.index[cell]].values\n",
    "        AvgRate=mean(r)\n",
    "        s=speed[cellMetadata[\"trialIndex\"][cell]].values\n",
    "        bad = ~np.logical_or(np.isnan(r), np.isnan(s))\n",
    "        a=np.compress(bad, s)  \n",
    "        b=np.compress(bad, r)\n",
    "        x=linspace(2,50,20)\n",
    "        y=stats.binned_statistic(a,b, statistic='mean', bins=20, range=[2,50])[0]\n",
    "        sp=len([i for i in y if i>AvgRate])/len(y)\n",
    "        sparsities.append(sp)"
   ]
  },
  {
   "cell_type": "code",
   "execution_count": 34,
   "metadata": {},
   "outputs": [
    {
     "name": "stdout",
     "output_type": "stream",
     "text": [
      "Average sparsity: 0.711764705882353\n",
      "standard dev: 0.10645271218149327\n",
      "Median sparsity: 0.7\n"
     ]
    },
    {
     "data": {
      "image/png": "[encoded data removed]",
      "text/plain": [
       "<Figure size 360x360 with 1 Axes>"
      ]
     },
     "metadata": {},
     "output_type": "display_data"
    }
   ],
   "source": [
    "figure(figsize=(5,5))\n",
    "hist(sparsities,bins=15,range=[0,1],density=True);\n",
    "axvline(x=median(sparsities),linestyle=\"--\",c=\"orange\",linewidth=3)\n",
    "ylim(0,7)\n",
    "print(\"Average sparsity: \"+str(mean(sparsities)))\n",
    "print(\"standard dev: \"+str(std(sparsities)))\n",
    "print(\"Median sparsity: \"+str(median(sparsities)))\n",
    "xlabel(\"fraction of bins above average\")\n",
    "ylabel(\"frequency density\")\n",
    "#plt.savefig(\"speedcells_sparsity_hist.svg\")\n",
    "speed_sp=sparsities\n"
   ]
  },
  {
   "cell_type": "code",
   "execution_count": null,
   "metadata": {},
   "outputs": [],
   "source": [
    "# AHV\n",
    "sparsities=[]\n",
    "for cell in range(len(cellMetadata.index)):\n",
    "    if (cellMetadata[\"AHVModulated\"].values[cell]==1) and (cellMetadata[\"HDModulated\"].values[cell]==0) and (cellMetadata[\"gridModulated\"].values[cell]==0):\n",
    "        r=rate[cellMetadata.index[cell]].values\n",
    "        AvgRate=mean(r)\n",
    "        s=angularVelocity[cellMetadata[\"trialIndex\"][cell]].values\n",
    "        bad = ~np.logical_or(np.isnan(r), np.isnan(s))\n",
    "        a=np.compress(bad, s)  \n",
    "        b=np.compress(bad, r)\n",
    "        x=linspace(2,50,20)\n",
    "        y=stats.binned_statistic(a,b, statistic='mean', bins=20, range=[-3,3])[0]\n",
    "        sp=len([i for i in y if i>AvgRate])/len(y)\n",
    "        sparsities.append(sp)"
   ]
  },
  {
   "cell_type": "code",
   "execution_count": 36,
   "metadata": {},
   "outputs": [
    {
     "name": "stdout",
     "output_type": "stream",
     "text": [
      "Average sparsity: 0.5296703296703297\n",
      "standard dev: 0.14141708672001002\n",
      "Median sparsity: 0.55\n"
     ]
    },
    {
     "data": {
      "image/png": "[encoded data removed]",
      "text/plain": [
       "<Figure size 360x360 with 1 Axes>"
      ]
     },
     "metadata": {},
     "output_type": "display_data"
    }
   ],
   "source": [
    "figure(figsize=(5,5))\n",
    "hist(sparsities,bins=15,range=[0,1],density=True);\n",
    "axvline(x=median(sparsities),linestyle=\"--\",c=\"orange\",linewidth=3)\n",
    "ylim(0,7)\n",
    "print(\"Average sparsity: \"+str(mean(sparsities)))\n",
    "print(\"standard dev: \"+str(std(sparsities)))\n",
    "print(\"Median sparsity: \"+str(median(sparsities)))\n",
    "xlabel(\"fraction of bins above average\")\n",
    "ylabel(\"frequency density\")\n",
    "#plt.savefig(\"AHVcells_sparsity_hist.svg\")\n",
    "ahv_sp=sparsities"
   ]
  },
  {
   "cell_type": "code",
   "execution_count": 37,
   "metadata": {},
   "outputs": [],
   "source": [
    "# HD\n",
    "#BINs 6 deg\n",
    "#SMOOTHING STD=6 deg\n",
    "def calculateHDtuning(hd,rate):\n",
    "    x=hd\n",
    "    y=rate\n",
    "    nbins=60\n",
    "    sigma=1\n",
    "    bad = ~np.logical_or(np.isnan(x), np.isnan(y))\n",
    "    a=np.compress(bad, x)  \n",
    "    b=np.compress(bad, y) \n",
    "    rawtuning=stats.binned_statistic(a,b, statistic='mean', bins=nbins, range=[0,2*pi])[0]\n",
    "    smoothedtuning=gaussian_filter(rawtuning,sigma,mode='wrap')\n",
    "    theta=np.linspace(0,2*pi,nbins)\n",
    "    return theta,smoothedtuning"
   ]
  },
  {
   "cell_type": "code",
   "execution_count": 39,
   "metadata": {},
   "outputs": [
    {
     "name": "stdout",
     "output_type": "stream",
     "text": [
      "Average sparsity: 0.3015661938534279\n",
      "standard dev: 0.08885384440560291\n",
      "Median sparsity: 0.2833333333333333\n"
     ]
    },
    {
     "data": {
      "image/png": "[encoded data removed]",
      "text/plain": [
       "<Figure size 360x360 with 1 Axes>"
      ]
     },
     "metadata": {},
     "output_type": "display_data"
    }
   ],
   "source": [
    "figure(figsize=(5,5))\n",
    "hist(sparsities,bins=15,range=[0,1],density=True);\n",
    "axvline(x=median(sparsities),linestyle=\"--\",c=\"orange\",linewidth=3)\n",
    "ylim(0,7)\n",
    "print(\"Average sparsity: \"+str(mean(sparsities)))\n",
    "print(\"standard dev: \"+str(std(sparsities)))\n",
    "print(\"Median sparsity: \"+str(median(sparsities)))\n",
    "xlabel(\"fraction of bins above average\")\n",
    "ylabel(\"frequency density\")\n",
    "#plt.savefig(\"HDcells_sparsity_hist.svg\")\n",
    "hd_sp=sparsities"
   ]
  },
  {
   "cell_type": "code",
   "execution_count": 40,
   "metadata": {},
   "outputs": [],
   "source": [
    "def calculateRatemap(x,y,rate,dim):\n",
    "    binwidth=2 #2 cm bins\n",
    "    xrange=dim\n",
    "    yrange=dim\n",
    "    nbinsx=int(xrange/binwidth)\n",
    "    nbinsy=int(yrange/binwidth)\n",
    "    sigma=2 #2 bins = 4 cms\n",
    "    bad = ~np.logical_or(np.isnan(x), np.isnan(y))\n",
    "    a=np.compress(bad, x)  \n",
    "    b=np.compress(bad, y)\n",
    "    c=compress(bad,rate)\n",
    "    rawmap=stats.binned_statistic_2d(a,b,c, statistic='mean', bins=[nbinsx,nbinsy],range=None)[0]\n",
    "    rawmap[np.isnan(rawmap)]=0\n",
    "    smoothedmap=gaussian_filter(rawmap,sigma)\n",
    "    return smoothedmap\n"
   ]
  },
  {
   "cell_type": "code",
   "execution_count": null,
   "metadata": {},
   "outputs": [],
   "source": [
    "sparsities=[]\n",
    "for cell in range(len(cellMetadata.index)):\n",
    "    if (cellMetadata[\"speedModulated\"].values[cell]==0) and (cellMetadata[\"AHVModulated\"].values[cell]==0) and (cellMetadata[\"gridModulated\"].values[cell]==1):\n",
    "        r=rate[cellMetadata.index[cell]].values\n",
    "        AvgRate=mean(r)\n",
    "        x=xs[cellMetadata[\"trialIndex\"][cell]].values\n",
    "        y=ys[cellMetadata[\"trialIndex\"][cell]].values\n",
    "        trialId=cellMetadata[\"trialIndex\"][cell]\n",
    "        dim=trialMetadata[trialMetadata[\"trialIndex\"]==trialId][\"dim\"]\n",
    "        gridmap=calculateRatemap(x,y,r,dim)\n",
    "        sp=len([i for i in gridmap.flatten() if i>AvgRate])/len(gridmap.flatten())\n",
    "        sparsities.append(sp)"
   ]
  },
  {
   "cell_type": "code",
   "execution_count": 42,
   "metadata": {},
   "outputs": [
    {
     "name": "stdout",
     "output_type": "stream",
     "text": [
      "Average sparsity: 0.2474178257887517\n",
      "standard dev: 0.09418055512530642\n",
      "Median sparsity: 0.26180000000000003\n"
     ]
    },
    {
     "data": {
      "image/png": "[encoded data removed]",
      "text/plain": [
       "<Figure size 360x360 with 1 Axes>"
      ]
     },
     "metadata": {},
     "output_type": "display_data"
    }
   ],
   "source": [
    "figure(figsize=(5,5))\n",
    "hist(sparsities,bins=15,range=[0,1],density=True);\n",
    "axvline(x=median(sparsities),linestyle=\"--\",c=\"orange\",linewidth=3)\n",
    "ylim(0,7)\n",
    "print(\"Average sparsity: \"+str(mean(sparsities)))\n",
    "print(\"standard dev: \"+str(std(sparsities)))\n",
    "print(\"Median sparsity: \"+str(median(sparsities)))\n",
    "xlabel(\"fraction of bins above average\")\n",
    "ylabel(\"frequency density\")\n",
    "#plt.savefig(\"GRIDcells_sparsity_hist.svg\")\n",
    "grid_sp=sparsities"
   ]
  }
 ],
 "metadata": {
  "kernelspec": {
   "display_name": "Python 3",
   "language": "python",
   "name": "python3"
  },
  "language_info": {
   "codemirror_mode": {
    "name": "ipython",
    "version": 3
   },
   "file_extension": ".py",
   "mimetype": "text/x-python",
   "name": "python",
   "nbconvert_exporter": "python",
   "pygments_lexer": "ipython3",
   "version": "3.8.5"
  }
 },
 "nbformat": 4,
 "nbformat_minor": 4
}
