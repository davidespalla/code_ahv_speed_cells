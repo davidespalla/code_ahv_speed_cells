{
 "cells": [
  {
   "cell_type": "code",
   "execution_count": null,
   "metadata": {},
   "outputs": [],
   "source": [
    "%pylab inline\n",
    "import pandas as pd\n",
    "import statsmodels.api as sm\n",
    "from scipy import stats \n",
    "#import seaborn as sns\n",
    "from sklearn.model_selection import train_test_split\n",
    "#sns.set_style(\"white\")"
   ]
  },
  {
   "cell_type": "code",
   "execution_count": 42,
   "metadata": {},
   "outputs": [],
   "source": [
    "def StateVector(correlate,minbin,maxbin,nbins):\n",
    "    stateVec=np.zeros((len(correlate),nbins))\n",
    "    indexVec=digitize(correlate,linspace(minbin,maxbin,nbins))\n",
    "    for i in range(len(correlate)):\n",
    "        if indexVec[i] < nbins:\n",
    "            stateVec[i][indexVec[i]]=1\n",
    "        else :\n",
    "            stateVec[i][:]=np.nan\n",
    "    return stateVec"
   ]
  },
  {
   "cell_type": "markdown",
   "metadata": {},
   "source": [
    "# Angular Velocity"
   ]
  },
  {
   "cell_type": "code",
   "execution_count": 43,
   "metadata": {},
   "outputs": [],
   "source": [
    "#trial data\n",
    "AngularVelocity=pd.read_csv(\"../TrialData/filteredAngularVelocity.csv\")\n",
    "trialMetadata=pd.read_csv(\"../TrialData/metadata.csv\",index_col=0)\n",
    "#cells data\n",
    "rate=pd.read_csv(\"../CellData/firingRate.csv\")\n",
    "cellMetadata=pd.read_csv(\"../CellData/metadata.csv\",index_col=0)\n",
    "AngularVelocity.columns=trialMetadata[\"trialIndex\"].values"
   ]
  },
  {
   "cell_type": "markdown",
   "metadata": {},
   "source": [
    "## Model fitting"
   ]
  },
  {
   "cell_type": "code",
   "execution_count": null,
   "metadata": {
    "scrolled": true
   },
   "outputs": [],
   "source": [
    "fittedModels=[]\n",
    "pvalues=[]\n",
    "llfs=[]\n",
    "llnulls=[]\n",
    "significance=[]\n",
    "tstats=[]\n",
    "for i in range(len(rate.T)):\n",
    "    trialId=cellMetadata[\"trialIndex\"].values[i]\n",
    "    if cellMetadata[\"include\"].values[i]==1:\n",
    "        x=StateVector(AngularVelocity[trialId].values,-3,3,10)\n",
    "        y=rate.T.values[i]\n",
    "        #10-fold bootstrapping\n",
    "        logls=[]\n",
    "        null_logls=[]\n",
    "        for j in range(10):\n",
    "            X_train, X_test, y_train, y_test = train_test_split(x, y, test_size=0.1)\n",
    "            #TRAINING\n",
    "            bad = ~np.logical_or(np.isnan(X_train).any(axis=1), np.isnan(y_train))\n",
    "            a=np.compress(bad, X_train,axis=0)  \n",
    "            b=np.compress(bad, y_train) \n",
    "            poisson_model=sm.GLM(b,a, family=sm.families.Poisson())\n",
    "            fitted_model=poisson_model.fit_regularized(alpha=0.04,refit=True)\n",
    "            logls.append(fitted_model.llf)\n",
    "            null_logls.append(fitted_model.llnull)\n",
    "        #pvalue=(stats.wilcoxon(logls,null_logls)[1]/2) #to have a 1-sided test\n",
    "        llfs.append(logls)\n",
    "        llnulls.append(null_logls)\n",
    "        tstat=stats.ttest_ind(logls,null_logls)[0]\n",
    "        pvalue=stats.ttest_ind(logls,null_logls)[1]\n",
    "        tstats.append(tstat)\n",
    "        pvalues.append(pvalue)\n",
    "        if pvalue < 0.05 and tstat>0:\n",
    "            significance.append(1)\n",
    "        else:\n",
    "            significance.append(0)\n",
    "        #fit all data for tuning curve plotting    \n",
    "        bad = ~np.logical_or(np.isnan(x).any(axis=1), np.isnan(y))\n",
    "        a=np.compress(bad,x,axis=0)  \n",
    "        b=np.compress(bad,y) \n",
    "        tot_model=sm.GLM(b,a, family=sm.families.Poisson())\n",
    "        tot_fitted_model=tot_model.fit_regularized(alpha=0.04,refit=True)\n",
    "        fittedModels.append(fitted_model)\n",
    "    else:\n",
    "        fittedModels.append(np.nan)\n",
    "        tstats.append(np.nan)\n",
    "        pvalues.append(np.nan)\n",
    "        significance.append(np.nan)\n",
    "        llfs.append(np.nan)\n",
    "        llnulls.append(np.nan)\n",
    "    if i %1==0:\n",
    "        print(\"fitted model on cell:\"+str(i+1))"
   ]
  },
  {
   "cell_type": "code",
   "execution_count": 10,
   "metadata": {},
   "outputs": [],
   "source": [
    "for i in range(len(fittedModels)):\n",
    "    if cellMetadata[\"include\"].values[i]==1:\n",
    "        fittedModels[i].save(\"FittedModels/angularVelocityBin3Reg04/modelCell\"+str(i))"
   ]
  },
  {
   "cell_type": "code",
   "execution_count": 50,
   "metadata": {},
   "outputs": [],
   "source": [
    "np.save(\"GLMangularVelocitySignificance.npy\",significance)\n",
    "np.save(\"GLMangularVelocityPvalues.npy\",pvalues)\n",
    "np.save(\"GLMangularVelocityTstats.npy\",tstats)"
   ]
  },
  {
   "cell_type": "markdown",
   "metadata": {},
   "source": [
    "## Speed"
   ]
  },
  {
   "cell_type": "code",
   "execution_count": null,
   "metadata": {},
   "outputs": [],
   "source": [
    "#trial data\n",
    "speed=pd.read_csv(\"../TrialData/filteredSpeed.csv\")\n",
    "trialMetadata=pd.read_csv(\"../TrialData/metadata.csv\",index_col=0)\n",
    "#cells data\n",
    "rate=pd.read_csv(\"../CellData/firingRate.csv\")\n",
    "cellMetadata=pd.read_csv(\"../CellData/metadata.csv\",index_col=0)\n",
    "speed.columns=trialMetadata[\"trialIndex\"].values"
   ]
  },
  {
   "cell_type": "markdown",
   "metadata": {},
   "source": [
    "## Model fitting"
   ]
  },
  {
   "cell_type": "code",
   "execution_count": null,
   "metadata": {},
   "outputs": [],
   "source": [
    "fittedModels=[]\n",
    "pvalues=[]\n",
    "llfs=[]\n",
    "llnulls=[]\n",
    "significance=[]\n",
    "tstats=[]\n",
    "for i in range(len(rate.T)):\n",
    "    trialId=cellMetadata[\"trialIndex\"].values[i]\n",
    "    if cellMetadata[\"include\"].values[i]==1:\n",
    "        x=StateVector(speed[trialId].values,2,50,10)\n",
    "        y=rate.T.values[i]\n",
    "        #10-fold bootstrapping\n",
    "        logls=[]\n",
    "        null_logls=[]\n",
    "        for j in range(10):\n",
    "            X_train, X_test, y_train, y_test = train_test_split(x, y, test_size=0.1)\n",
    "            #TRAINING\n",
    "            bad = ~np.logical_or(np.isnan(X_train).any(axis=1), np.isnan(y_train))\n",
    "            a=np.compress(bad, X_train,axis=0)  \n",
    "            b=np.compress(bad, y_train) \n",
    "            poisson_model=sm.GLM(b,a, family=sm.families.Poisson())\n",
    "            fitted_model=poisson_model.fit_regularized(alpha=0.04,refit=True)\n",
    "            logls.append(fitted_model.llf)\n",
    "            null_logls.append(fitted_model.llnull)\n",
    "        #pvalue=(stats.wilcoxon(logls,null_logls)[1]/2) #to have a 1-sided test\n",
    "        llfs.append(logls)\n",
    "        llnulls.append(null_logls)\n",
    "        tstat=stats.ttest_ind(logls,null_logls)[0]\n",
    "        pvalue=stats.ttest_ind(logls,null_logls)[1]\n",
    "        tstats.append(tstat)\n",
    "        pvalues.append(pvalue)\n",
    "        if pvalue < 0.05 and tstat>0:\n",
    "            significance.append(1)\n",
    "        else:\n",
    "            significance.append(0)\n",
    "        #fit all data for tuning curve plotting    \n",
    "        bad = ~np.logical_or(np.isnan(x).any(axis=1), np.isnan(y))\n",
    "        a=np.compress(bad,x,axis=0)  \n",
    "        b=np.compress(bad,y) \n",
    "        tot_model=sm.GLM(b,a, family=sm.families.Poisson())\n",
    "        tot_fitted_model=tot_model.fit_regularized(alpha=0.04,refit=True)\n",
    "        fittedModels.append(fitted_model)\n",
    "    else:\n",
    "        fittedModels.append(np.nan)\n",
    "        pvalues.append(np.nan)\n",
    "        tstats.append(np.nan)\n",
    "        significance.append(np.nan)\n",
    "        llfs.append(np.nan)\n",
    "        llnulls.append(np.nan)\n",
    "    if i %1==0:\n",
    "        print(\"fitted model on cell:\"+str(i+1))"
   ]
  },
  {
   "cell_type": "code",
   "execution_count": null,
   "metadata": {},
   "outputs": [],
   "source": [
    "for i in range(len(fittedModels)):\n",
    "    if cellMetadata[\"include\"].values[i]==1:\n",
    "        fittedModels[i].save(\"FittedModels/speed/modelCell\"+str(i))"
   ]
  },
  {
   "cell_type": "code",
   "execution_count": null,
   "metadata": {},
   "outputs": [],
   "source": [
    "np.save(\"GLMspeedSignificance.npy\",significance)\n",
    "np.save(\"GLMspeedPvalues.npy\",pvalues)\n",
    "np.save(\"GLMspeedTstats.npy\",tstats)"
   ]
  }
 ],
 "metadata": {
  "kernelspec": {
   "display_name": "Python 3",
   "language": "python",
   "name": "python3"
  },
  "language_info": {
   "codemirror_mode": {
    "name": "ipython",
    "version": 3
   },
   "file_extension": ".py",
   "mimetype": "text/x-python",
   "name": "python",
   "nbconvert_exporter": "python",
   "pygments_lexer": "ipython3",
   "version": "3.8.5"
  }
 },
 "nbformat": 4,
 "nbformat_minor": 4
}
