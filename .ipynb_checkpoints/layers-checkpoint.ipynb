{
 "cells": [
  {
   "cell_type": "markdown",
   "metadata": {},
   "source": [
    "# LAYER SUBDIVISION"
   ]
  },
  {
   "cell_type": "code",
   "execution_count": null,
   "metadata": {},
   "outputs": [],
   "source": [
    "%pylab inline\n",
    "import pandas as pd\n",
    "#import seaborn as sns\n",
    "from scipy.stats import pearsonr\n",
    "from scipy.stats import kstest\n",
    "from statsmodels.stats import proportion\n",
    "#sns.set()"
   ]
  },
  {
   "cell_type": "code",
   "execution_count": 14,
   "metadata": {},
   "outputs": [],
   "source": [
    "trialMetadata=pd.read_csv(\"../TrialData/metadata.csv\",index_col=0)\n",
    "cellMetadata=pd.read_csv(\"../CellData/metadata1.csv\",index_col=0)"
   ]
  },
  {
   "cell_type": "code",
   "execution_count": 24,
   "metadata": {},
   "outputs": [],
   "source": [
    "cellMetadata[\"AHVModulated\"]=np.nan\n",
    "for i in range(len(cellMetadata)):\n",
    "    if cellMetadata[\"include\"].values[i]==1:\n",
    "        if (cellMetadata[\"angularVelocityModulated\"].values[i]==1 or cellMetadata[\"angularVelocityCCWModulated\"].values[i]==1 or cellMetadata[\"absAngularVelocityModulated\"].values[i]==1):\n",
    "            cellMetadata[\"AHVModulated\"].values[i]=1\n",
    "        else:\n",
    "            cellMetadata[\"AHVModulated\"].values[i]=0"
   ]
  },
  {
   "cell_type": "markdown",
   "metadata": {},
   "source": [
    "# LAYER AGGREGATION"
   ]
  },
  {
   "cell_type": "code",
   "execution_count": 16,
   "metadata": {},
   "outputs": [],
   "source": [
    "deep=[\"LV\",\"LVI\"]\n",
    "sup=[\"LI\",\"LII\",\"LIII\"]\n",
    "for i in range(len(cellMetadata)):\n",
    "    if (cellMetadata[\"region\"].values[i]==\"PrS\") and (cellMetadata[\"layer\"].values[i] in deep):\n",
    "               cellMetadata[\"layer\"].values[i]=\"DEEP\"\n",
    "    if (cellMetadata[\"region\"].values[i]==\"PrS\") and (cellMetadata[\"layer\"].values[i] in sup):\n",
    "               cellMetadata[\"layer\"].values[i]=\"SUP\"\n",
    "    if (cellMetadata[\"region\"].values[i]==\"PaS\") and (cellMetadata[\"layer\"].values[i] in deep):\n",
    "               cellMetadata[\"layer\"].values[i]=\"DEEP\"\n",
    "    if (cellMetadata[\"region\"].values[i]==\"PaS\") and (cellMetadata[\"layer\"].values[i] in sup):\n",
    "               cellMetadata[\"layer\"].values[i]=\"SUP\"\n",
    "    if (cellMetadata[\"region\"].values[i]==\"MEC\") and (cellMetadata[\"layer\"].values[i]==\"DEEP\"):\n",
    "        cellMetadata[\"region\"].values[i]=\"PaS\"\n",
    "    if (cellMetadata[\"region\"].values[i]==\"MEC\") and (cellMetadata[\"layer\"].values[i]==\"SUP\"):\n",
    "        cellMetadata[\"region\"].values[i]=\"PaS\"\n",
    "               "
   ]
  },
  {
   "cell_type": "markdown",
   "metadata": {},
   "source": [
    "# PERCENTAGES"
   ]
  },
  {
   "cell_type": "markdown",
   "metadata": {},
   "source": [
    "## Speed"
   ]
  },
  {
   "cell_type": "code",
   "execution_count": 5,
   "metadata": {
    "scrolled": true
   },
   "outputs": [
    {
     "name": "stdout",
     "output_type": "stream",
     "text": [
      "MEC\n",
      "speed modulated cells in MEC layer LII: 7/35 , 0.2000 of cells in the layer\n",
      "speed modulated cells in MEC layer LIII: 31/156 , 0.1987 of cells in the layer\n",
      "speed modulated cells in MEC layer LV: 8/68 , 0.1176 of cells in the layer\n",
      "speed modulated cells in MEC layer LVI: 18/133 , 0.1353 of cells in the layer\n",
      "PaS\n",
      "speed modulated cells in PaS layer DEEP: 48/190 , 0.2526 of cells in the layer\n",
      "speed modulated cells in PaS layer SUP: 40/249 , 0.1606 of cells in the layer\n",
      "PrS\n",
      "speed modulated cells in PrS layer DEEP: 92/378 , 0.2434 of cells in the layer\n",
      "speed modulated cells in PrS layer SUP: 33/227 , 0.1454 of cells in the layer\n",
      "\n",
      " KS test for uniformity: \n"
     ]
    },
    {
     "data": {
      "text/plain": [
       "KstestResult(statistic=0.7473684210526316, pvalue=3.978141119387324e-05)"
      ]
     },
     "execution_count": 5,
     "metadata": {},
     "output_type": "execute_result"
    }
   ],
   "source": [
    "percentages=[]\n",
    "modulated_list=[]\n",
    "tot_num_list=[]\n",
    "regions=[]\n",
    "# MEC\n",
    "print(\"MEC\")\n",
    "LayerNames=unique(cellMetadata[(cellMetadata[\"include\"]==1) & (cellMetadata[\"region\"]=='MEC')][\"layer\"].values)\n",
    "MECcells=cellMetadata[(cellMetadata[\"include\"]==1) & (cellMetadata[\"region\"]=='MEC')]\n",
    "for layer in LayerNames:\n",
    "    LayerCells=MECcells[MECcells[\"layer\"]==layer]\n",
    "    modulated=MECcells[(MECcells[\"speedModulated\"]==1) & (MECcells[\"layer\"]==layer)]\n",
    "    percentages.append(len(modulated)/len(LayerCells))\n",
    "    modulated_list.append(len(modulated))\n",
    "    tot_num_list.append(len(LayerCells))\n",
    "    regions.append(\"MEC\")\n",
    "    print(\"speed modulated cells in MEC layer \"+layer+\": \"+str(len(modulated))+\"/\"+str(len(LayerCells))+\" , \"+\"{0:.4f}\".format(len(modulated)/len(LayerCells))+\" of cells in the layer\" )\n",
    "    \n",
    "# PaS\n",
    "print(\"PaS\")\n",
    "LayerNames=unique(cellMetadata[(cellMetadata[\"include\"]==1) & (cellMetadata[\"region\"]=='PaS')][\"layer\"].values)\n",
    "PaScells=cellMetadata[(cellMetadata[\"include\"]==1) & (cellMetadata[\"region\"]=='PaS')]\n",
    "for layer in LayerNames:\n",
    "    LayerCells=PaScells[PaScells[\"layer\"]==layer]\n",
    "    modulated=PaScells[(PaScells[\"speedModulated\"]==1) & (PaScells[\"layer\"]==layer)]\n",
    "    percentages.append(len(modulated)/len(LayerCells))\n",
    "    modulated_list.append(len(modulated))\n",
    "    tot_num_list.append(len(LayerCells))\n",
    "    regions.append(\"PaS\")\n",
    "    print(\"speed modulated cells in PaS layer \"+layer+\": \"+str(len(modulated))+\"/\"+str(len(LayerCells))+\" , \"+\"{0:.4f}\".format(len(modulated)/len(LayerCells))+\" of cells in the layer\" )\n",
    "    \n",
    "#PrS    \n",
    "print(\"PrS\")\n",
    "LayerNames=unique(cellMetadata[(cellMetadata[\"include\"]==1) & (cellMetadata[\"region\"]=='PrS')][\"layer\"].values)\n",
    "PrScells=cellMetadata[(cellMetadata[\"include\"]==1) & (cellMetadata[\"region\"]=='PrS')]\n",
    "for layer in LayerNames:\n",
    "    LayerCells=PrScells[PrScells[\"layer\"]==layer]\n",
    "    modulated=PrScells[(PrScells[\"speedModulated\"]==1) & (PrScells[\"layer\"]==layer)]\n",
    "    percentages.append(len(modulated)/len(LayerCells))\n",
    "    modulated_list.append(len(modulated))\n",
    "    tot_num_list.append(len(LayerCells))\n",
    "    regions.append(\"PrS\")\n",
    "    print(\"speed modulated cells in PrS layer \"+layer+\": \"+str(len(modulated))+\"/\"+str(len(LayerCells))+\" , \"+\"{0:.4f}\".format(len(modulated)/len(LayerCells))+\" of cells in the layer\" )\n",
    "\n",
    "print(\"\\n KS test for uniformity: \")\n",
    "kstest(percentages,\"uniform\")"
   ]
  },
  {
   "cell_type": "code",
   "execution_count": 99,
   "metadata": {},
   "outputs": [],
   "source": [
    "MECLayerNames=list(unique(cellMetadata[(cellMetadata[\"include\"]==1) & (cellMetadata[\"region\"]=='MEC')][\"layer\"].values))\n",
    "PASLayerNames=list(unique(cellMetadata[(cellMetadata[\"include\"]==1) & (cellMetadata[\"region\"]=='PaS')][\"layer\"].values))\n",
    "PRSLayerNames=list(unique(cellMetadata[(cellMetadata[\"include\"]==1) & (cellMetadata[\"region\"]=='PrS')][\"layer\"].values))\n",
    "AllLayerNames=MECLayerNames+PASLayerNames+PRSLayerNames\n",
    "BarHandles=[]\n",
    "for i in range(len(AllLayerNames)):\n",
    "    BarHandles.append(regions[i]+\",\"+AllLayerNames[i])"
   ]
  },
  {
   "cell_type": "code",
   "execution_count": 100,
   "metadata": {},
   "outputs": [
    {
     "data": {
      "image/png": "[encoded data removed]",
      "text/plain": [
       "<Figure size 1440x720 with 1 Axes>"
      ]
     },
     "metadata": {},
     "output_type": "display_data"
    }
   ],
   "source": [
    "#BARPLOT\n",
    "# Make a fake dataset:\n",
    "figure(figsize=(20,10))\n",
    "height = percentages\n",
    "bars=BarHandles\n",
    "y_pos = np.arange(len(bars))\n",
    "# Create bars\n",
    "plt.bar(y_pos, height)\n",
    "#ylim([0,0.18])\n",
    "# Create names on the x-axis\n",
    "plt.xticks(y_pos, bars)\n",
    "savefig(\"S2/H1_speed_x_layer.svg\")"
   ]
  },
  {
   "cell_type": "code",
   "execution_count": 34,
   "metadata": {},
   "outputs": [
    {
     "name": "stdout",
     "output_type": "stream",
     "text": [
      "MEC LII : zstat=0.10519104773728347, pvalue=0.9162242141828959\n",
      "MEC LIII : zstat=0.17480414794988416, pvalue=0.8612335289315662\n",
      "MEC LV : zstat=-1.5471666900800471, pvalue=0.12182305591789865\n",
      "MEC LVI : zstat=-1.6252827924995157, pvalue=0.10410231622790167\n",
      "PaS DEEP : zstat=1.9349076197844175, pvalue=0.05300163298506912\n",
      "PaS SUP : zstat=-1.2022441467124971, pvalue=0.22926894967743827\n",
      "PrS DEEP : zstat=2.1696719194667, pvalue=0.030031708772676274\n",
      "PrS SUP : zstat=-1.7084634209962732, pvalue=0.08755038808740515\n"
     ]
    }
   ],
   "source": [
    "# SINGLE LAYER ENRICHMENT TEST\n",
    "from statsmodels.stats import proportion\n",
    "for i in range(len(percentages)):\n",
    "    count=[modulated_list[i],sum(modulated_list)]\n",
    "    nobs=[tot_num_list[i],sum(tot_num_list)]\n",
    "    zstat,pv=proportion.proportions_ztest(count,nobs)\n",
    "    print(regions[i]+\" \"+ AllLayerNames[i]+\" : zstat=\"+str(zstat)+\", pvalue=\"+str(pv))\n"
   ]
  },
  {
   "cell_type": "markdown",
   "metadata": {},
   "source": [
    "## all AHV"
   ]
  },
  {
   "cell_type": "code",
   "execution_count": 14,
   "metadata": {},
   "outputs": [],
   "source": [
    "cellMetadata[\"AHVModulated\"]=np.nan\n",
    "for i in range(len(cellMetadata)):\n",
    "    if cellMetadata[\"include\"].values[i]==1:\n",
    "        if (cellMetadata[\"angularVelocityModulated\"].values[i]==1 or cellMetadata[\"angularVelocityCCWModulated\"].values[i]==1 or cellMetadata[\"absAngularVelocityModulated\"].values[i]==1):\n",
    "            cellMetadata[\"AHVModulated\"].values[i]=1\n",
    "        else:\n",
    "            cellMetadata[\"AHVModulated\"].values[i]=0"
   ]
  },
  {
   "cell_type": "code",
   "execution_count": 15,
   "metadata": {},
   "outputs": [
    {
     "name": "stdout",
     "output_type": "stream",
     "text": [
      "MEC\n",
      "AHV modulated cells in MEC layer LII: 0/35 , 0.0000 of cells in the layer\n",
      "AHV modulated cells in MEC layer LIII: 32/156 , 0.2051 of cells in the layer\n",
      "AHV modulated cells in MEC layer LV: 13/68 , 0.1912 of cells in the layer\n",
      "AHV modulated cells in MEC layer LVI: 22/133 , 0.1654 of cells in the layer\n",
      "PaS\n",
      "AHV modulated cells in PaS layer DEEP: 33/190 , 0.1737 of cells in the layer\n",
      "AHV modulated cells in PaS layer SUP: 42/249 , 0.1687 of cells in the layer\n",
      "PrS\n",
      "AHV modulated cells in PrS layer DEEP: 72/378 , 0.1905 of cells in the layer\n",
      "AHV modulated cells in PrS layer SUP: 32/227 , 0.1410 of cells in the layer\n",
      "\n",
      " KS test for uniformity: \n"
     ]
    },
    {
     "data": {
      "text/plain": [
       "KstestResult(statistic=0.7948717948717949, pvalue=6.539222988433124e-06)"
      ]
     },
     "execution_count": 15,
     "metadata": {},
     "output_type": "execute_result"
    }
   ],
   "source": [
    "percentages=[]\n",
    "modulated_list=[]\n",
    "tot_num_list=[]\n",
    "regions=[]\n",
    "# MEC\n",
    "print(\"MEC\")\n",
    "LayerNames=unique(cellMetadata[(cellMetadata[\"include\"]==1) & (cellMetadata[\"region\"]=='MEC')][\"layer\"].values)\n",
    "MECcells=cellMetadata[(cellMetadata[\"include\"]==1) & (cellMetadata[\"region\"]=='MEC')]\n",
    "for layer in LayerNames:\n",
    "    LayerCells=MECcells[MECcells[\"layer\"]==layer]\n",
    "    modulated=MECcells[(MECcells[\"AHVModulated\"]==1) & (MECcells[\"layer\"]==layer)]\n",
    "    percentages.append(len(modulated)/len(LayerCells))\n",
    "    modulated_list.append(len(modulated))\n",
    "    tot_num_list.append(len(LayerCells))\n",
    "    regions.append(\"MEC\")\n",
    "    print(\"AHV modulated cells in MEC layer \"+layer+\": \"+str(len(modulated))+\"/\"+str(len(LayerCells))+\" , \"+\"{0:.4f}\".format(len(modulated)/len(LayerCells))+\" of cells in the layer\" )\n",
    "    \n",
    "# PaS\n",
    "print(\"PaS\")\n",
    "LayerNames=unique(cellMetadata[(cellMetadata[\"include\"]==1) & (cellMetadata[\"region\"]=='PaS')][\"layer\"].values)\n",
    "PaScells=cellMetadata[(cellMetadata[\"include\"]==1) & (cellMetadata[\"region\"]=='PaS')]\n",
    "for layer in LayerNames:\n",
    "    LayerCells=PaScells[PaScells[\"layer\"]==layer]\n",
    "    modulated=PaScells[(PaScells[\"AHVModulated\"]==1) & (PaScells[\"layer\"]==layer)]\n",
    "    percentages.append(len(modulated)/len(LayerCells))\n",
    "    modulated_list.append(len(modulated))\n",
    "    tot_num_list.append(len(LayerCells))\n",
    "    regions.append(\"PaS\")\n",
    "    print(\"AHV modulated cells in PaS layer \"+layer+\": \"+str(len(modulated))+\"/\"+str(len(LayerCells))+\" , \"+\"{0:.4f}\".format(len(modulated)/len(LayerCells))+\" of cells in the layer\" )\n",
    "    \n",
    "#PrS    \n",
    "print(\"PrS\")\n",
    "LayerNames=unique(cellMetadata[(cellMetadata[\"include\"]==1) & (cellMetadata[\"region\"]=='PrS')][\"layer\"].values)\n",
    "PrScells=cellMetadata[(cellMetadata[\"include\"]==1) & (cellMetadata[\"region\"]=='PrS')]\n",
    "for layer in LayerNames:\n",
    "    LayerCells=PrScells[PrScells[\"layer\"]==layer]\n",
    "    modulated=PrScells[(PrScells[\"AHVModulated\"]==1) & (PrScells[\"layer\"]==layer)]\n",
    "    percentages.append(len(modulated)/len(LayerCells))\n",
    "    modulated_list.append(len(modulated))\n",
    "    tot_num_list.append(len(LayerCells))\n",
    "    regions.append(\"PrS\")\n",
    "    print(\"AHV modulated cells in PrS layer \"+layer+\": \"+str(len(modulated))+\"/\"+str(len(LayerCells))+\" , \"+\"{0:.4f}\".format(len(modulated)/len(LayerCells))+\" of cells in the layer\" )\n",
    "\n",
    "print(\"\\n KS test for uniformity: \")\n",
    "kstest(percentages,\"uniform\")"
   ]
  },
  {
   "cell_type": "code",
   "execution_count": 17,
   "metadata": {},
   "outputs": [],
   "source": [
    "MECLayerNames=list(unique(cellMetadata[(cellMetadata[\"include\"]==1) & (cellMetadata[\"region\"]=='MEC')][\"layer\"].values))\n",
    "PASLayerNames=list(unique(cellMetadata[(cellMetadata[\"include\"]==1) & (cellMetadata[\"region\"]=='PaS')][\"layer\"].values))\n",
    "PRSLayerNames=list(unique(cellMetadata[(cellMetadata[\"include\"]==1) & (cellMetadata[\"region\"]=='PrS')][\"layer\"].values))\n",
    "AllLayerNames=MECLayerNames+PASLayerNames+PRSLayerNames\n",
    "BarHandles=[]\n",
    "for i in range(len(AllLayerNames)):\n",
    "    BarHandles.append(regions[i]+\",\"+AllLayerNames[i])"
   ]
  },
  {
   "cell_type": "code",
   "execution_count": 18,
   "metadata": {},
   "outputs": [
    {
     "name": "stdout",
     "output_type": "stream",
     "text": [
      "MEC LII : zstat=-2.683259327901794, pvalue=0.0072908430753117134\n",
      "MEC LIII : zstat=1.0567004636872268, pvalue=0.2906483133197957\n",
      "MEC LV : zstat=0.42399371016401477, pvalue=0.671570400430241\n",
      "MEC LVI : zstat=-0.1728386146165422, pvalue=0.8627782837124915\n",
      "PaS DEEP : zstat=0.08160097662875666, pvalue=0.9349640246491648\n",
      "PaS SUP : zstat=-0.10194818889456156, pvalue=0.918797799986033\n",
      "PrS DEEP : zstat=0.8720000468334314, pvalue=0.38320835200154524\n",
      "PrS SUP : zstat=-1.1384264643723896, pvalue=0.25494244864604976\n"
     ]
    }
   ],
   "source": [
    "# SINGLE LAYER ENRICHMENT TEST\n",
    "from statsmodels.stats import proportion\n",
    "for i in range(len(percentages)):\n",
    "    count=[modulated_list[i],sum(modulated_list)]\n",
    "    nobs=[tot_num_list[i],sum(tot_num_list)]\n",
    "    zstat,pv=proportion.proportions_ztest(count,nobs)\n",
    "    print(regions[i]+\" \"+ AllLayerNames[i]+\" : zstat=\"+str(zstat)+\", pvalue=\"+str(pv))"
   ]
  },
  {
   "cell_type": "code",
   "execution_count": 104,
   "metadata": {},
   "outputs": [
    {
     "data": {
      "image/png": "[encoded data removed]",
      "text/plain": [
       "<Figure size 1440x720 with 1 Axes>"
      ]
     },
     "metadata": {},
     "output_type": "display_data"
    }
   ],
   "source": [
    "#BARPLOT\n",
    "# Make a fake dataset:\n",
    "figure(figsize=(20,10))\n",
    "height = percentages\n",
    "bars=BarHandles\n",
    "y_pos = np.arange(len(bars))\n",
    "# Create bars\n",
    "plt.bar(y_pos, height)\n",
    "#ylim([0,0.18])\n",
    "# Create names on the x-axis\n",
    "plt.xticks(y_pos, bars)\n",
    "savefig(\"S2/H2_all_AHV_x_layer.svg\")"
   ]
  },
  {
   "cell_type": "code",
   "execution_count": 39,
   "metadata": {},
   "outputs": [
    {
     "name": "stdout",
     "output_type": "stream",
     "text": [
      "MEC LII : zstat=-2.683259327901794, pvalue=0.0072908430753117134\n",
      "MEC LIII : zstat=1.0567004636872268, pvalue=0.2906483133197957\n",
      "MEC LV : zstat=0.42399371016401477, pvalue=0.671570400430241\n",
      "MEC LVI : zstat=-0.1728386146165422, pvalue=0.8627782837124915\n",
      "PaS DEEP : zstat=0.08160097662875666, pvalue=0.9349640246491648\n",
      "PaS SUP : zstat=-0.10194818889456156, pvalue=0.918797799986033\n",
      "PrS DEEP : zstat=0.8720000468334314, pvalue=0.38320835200154524\n",
      "PrS SUP : zstat=-1.1384264643723896, pvalue=0.25494244864604976\n"
     ]
    }
   ],
   "source": [
    "# SINGLE LAYER ENRICHMENT TEST\n",
    "from statsmodels.stats import proportion\n",
    "for i in range(len(percentages)):\n",
    "    count=[modulated_list[i],sum(modulated_list)]\n",
    "    nobs=[tot_num_list[i],sum(tot_num_list)]\n",
    "    zstat,pv=proportion.proportions_ztest(count,nobs)\n",
    "    print(regions[i]+\" \"+ AllLayerNames[i]+\" : zstat=\"+str(zstat)+\", pvalue=\"+str(pv))\n"
   ]
  },
  {
   "cell_type": "markdown",
   "metadata": {},
   "source": [
    "## AHV unidir"
   ]
  },
  {
   "cell_type": "code",
   "execution_count": 40,
   "metadata": {},
   "outputs": [
    {
     "name": "stdout",
     "output_type": "stream",
     "text": [
      "MEC\n",
      "AHV unidir cells in MEC layer LII: 0/35 , 0.00 of cells in the layer\n",
      "AHV unidir cells in MEC layer LIII: 17/156 , 0.11 of cells in the layer\n",
      "AHV unidir cells in MEC layer LV: 5/68 , 0.07 of cells in the layer\n",
      "AHV unidir cells in MEC layer LVI: 17/133 , 0.13 of cells in the layer\n",
      "PaS\n",
      "AHV unidir cells in PaS layer DEEP: 22/190 , 0.12 of cells in the layer\n",
      "AHV unidir cells in PaS layer SUP: 25/249 , 0.10 of cells in the layer\n",
      "PrS\n",
      "AHV unidir cells in PrS layer DEEP: 35/378 , 0.09 of cells in the layer\n",
      "AHV unidir cells in PrS layer SUP: 16/227 , 0.07 of cells in the layer\n",
      "\n",
      " KS test for uniformity: \n"
     ]
    },
    {
     "data": {
      "text/plain": [
       "KstestResult(statistic=0.8721804511278195, pvalue=1.424978262054566e-07)"
      ]
     },
     "execution_count": 40,
     "metadata": {},
     "output_type": "execute_result"
    }
   ],
   "source": [
    "percentages=[]\n",
    "# MEC\n",
    "print(\"MEC\")\n",
    "LayerNames=unique(cellMetadata[(cellMetadata[\"include\"]==1) & (cellMetadata[\"region\"]=='MEC')][\"layer\"].values)\n",
    "MECcells=cellMetadata[(cellMetadata[\"include\"]==1) & (cellMetadata[\"region\"]=='MEC')]\n",
    "for layer in LayerNames:\n",
    "    LayerCells=MECcells[MECcells[\"layer\"]==layer]\n",
    "    modulatedCW=MECcells[(MECcells[\"angularVelocityModulated\"]==1) & (MECcells[\"layer\"]==layer)]\n",
    "    modulatedCCW=MECcells[(MECcells[\"angularVelocityCCWModulated\"]==1) & (MECcells[\"layer\"]==layer)]\n",
    "    modulated=modulatedCW+modulatedCCW\n",
    "    percentages.append(len(modulated)/len(LayerCells))\n",
    "    print(\"AHV unidir cells in MEC layer \"+layer+\": \"+str(len(modulated))+\"/\"+str(len(LayerCells))+\" , \"+\"{0:.2f}\".format(len(modulated)/len(LayerCells))+\" of cells in the layer\" )\n",
    "    \n",
    "# PaS\n",
    "print(\"PaS\")\n",
    "LayerNames=unique(cellMetadata[(cellMetadata[\"include\"]==1) & (cellMetadata[\"region\"]=='PaS')][\"layer\"].values)\n",
    "PaScells=cellMetadata[(cellMetadata[\"include\"]==1) & (cellMetadata[\"region\"]=='PaS')]\n",
    "for layer in LayerNames:\n",
    "    LayerCells=PaScells[PaScells[\"layer\"]==layer]\n",
    "    modulatedCW=PaScells[(PaScells[\"angularVelocityModulated\"]==1) & (PaScells[\"layer\"]==layer)]\n",
    "    modulatedCCW=PaScells[(PaScells[\"angularVelocityCCWModulated\"]==1) & (PaScells[\"layer\"]==layer)]\n",
    "    modulated=modulatedCW+modulatedCCW\n",
    "    percentages.append(len(modulated)/len(LayerCells))\n",
    "    print(\"AHV unidir cells in PaS layer \"+layer+\": \"+str(len(modulated))+\"/\"+str(len(LayerCells))+\" , \"+\"{0:.2f}\".format(len(modulated)/len(LayerCells))+\" of cells in the layer\" )\n",
    "    \n",
    "#PrS    \n",
    "print(\"PrS\")\n",
    "LayerNames=unique(cellMetadata[(cellMetadata[\"include\"]==1) & (cellMetadata[\"region\"]=='PrS')][\"layer\"].values)\n",
    "PrScells=cellMetadata[(cellMetadata[\"include\"]==1) & (cellMetadata[\"region\"]=='PrS')]\n",
    "for layer in LayerNames:\n",
    "    LayerCells=PrScells[PrScells[\"layer\"]==layer]\n",
    "    modulatedCW=PrScells[(PrScells[\"angularVelocityModulated\"]==1) & (PrScells[\"layer\"]==layer)]\n",
    "    modulatedCCW=PrScells[(PrScells[\"angularVelocityCCWModulated\"]==1) & (PrScells[\"layer\"]==layer)]\n",
    "    modulated=modulatedCW+modulatedCCW\n",
    "    percentages.append(len(modulated)/len(LayerCells))\n",
    "    print(\"AHV unidir cells in PrS layer \"+layer+\": \"+str(len(modulated))+\"/\"+str(len(LayerCells))+\" , \"+\"{0:.2f}\".format(len(modulated)/len(LayerCells))+\" of cells in the layer\" )\n",
    "    \n",
    "print(\"\\n KS test for uniformity: \")\n",
    "kstest(percentages,\"uniform\")"
   ]
  },
  {
   "cell_type": "markdown",
   "metadata": {},
   "source": [
    "## AHV Bidir"
   ]
  },
  {
   "cell_type": "code",
   "execution_count": 41,
   "metadata": {},
   "outputs": [
    {
     "name": "stdout",
     "output_type": "stream",
     "text": [
      "MEC\n",
      "AHV Bidir cells in MEC layer LII: 0/35 , 0.00 of cells in the layer\n",
      "AHV Bidir cells in MEC layer LIII: 20/156 , 0.13 of cells in the layer\n",
      "AHV Bidir cells in MEC layer LV: 9/68 , 0.13 of cells in the layer\n",
      "AHV Bidir cells in MEC layer LVI: 10/133 , 0.08 of cells in the layer\n",
      "PaS\n",
      "AHV Bidir cells in PaS layer DEEP: 15/190 , 0.08 of cells in the layer\n",
      "AHV Bidir cells in PaS layer SUP: 24/249 , 0.10 of cells in the layer\n",
      "PrS\n",
      "AHV Bidir cells in PrS layer DEEP: 46/378 , 0.12 of cells in the layer\n",
      "AHV Bidir cells in PrS layer SUP: 21/227 , 0.09 of cells in the layer\n",
      "\n",
      " KS test for uniformity: \n"
     ]
    },
    {
     "data": {
      "text/plain": [
       "KstestResult(statistic=0.8676470588235294, pvalue=1.8832102388621763e-07)"
      ]
     },
     "execution_count": 41,
     "metadata": {},
     "output_type": "execute_result"
    }
   ],
   "source": [
    "percentages=[]\n",
    "# MEC\n",
    "print(\"MEC\")\n",
    "LayerNames=unique(cellMetadata[(cellMetadata[\"include\"]==1) & (cellMetadata[\"region\"]=='MEC')][\"layer\"].values)\n",
    "MECcells=cellMetadata[(cellMetadata[\"include\"]==1) & (cellMetadata[\"region\"]=='MEC')]\n",
    "for layer in LayerNames:\n",
    "    LayerCells=MECcells[MECcells[\"layer\"]==layer]\n",
    "    modulated=MECcells[(MECcells[\"absAngularVelocityModulated\"]==1) & (MECcells[\"layer\"]==layer)]\n",
    "    percentages.append(len(modulated)/len(LayerCells))\n",
    "    print(\"AHV Bidir cells in MEC layer \"+layer+\": \"+str(len(modulated))+\"/\"+str(len(LayerCells))+\" , \"+\"{0:.2f}\".format(len(modulated)/len(LayerCells))+\" of cells in the layer\" )\n",
    "    \n",
    "# PaS\n",
    "print(\"PaS\")\n",
    "LayerNames=unique(cellMetadata[(cellMetadata[\"include\"]==1) & (cellMetadata[\"region\"]=='PaS')][\"layer\"].values)\n",
    "PaScells=cellMetadata[(cellMetadata[\"include\"]==1) & (cellMetadata[\"region\"]=='PaS')]\n",
    "for layer in LayerNames:\n",
    "    LayerCells=PaScells[PaScells[\"layer\"]==layer]\n",
    "    modulated=PaScells[(PaScells[\"absAngularVelocityModulated\"]==1) & (PaScells[\"layer\"]==layer)]\n",
    "    percentages.append(len(modulated)/len(LayerCells))\n",
    "    print(\"AHV Bidir cells in PaS layer \"+layer+\": \"+str(len(modulated))+\"/\"+str(len(LayerCells))+\" , \"+\"{0:.2f}\".format(len(modulated)/len(LayerCells))+\" of cells in the layer\" )\n",
    "    \n",
    "#PrS    \n",
    "print(\"PrS\")\n",
    "LayerNames=unique(cellMetadata[(cellMetadata[\"include\"]==1) & (cellMetadata[\"region\"]=='PrS')][\"layer\"].values)\n",
    "PrScells=cellMetadata[(cellMetadata[\"include\"]==1) & (cellMetadata[\"region\"]=='PrS')]\n",
    "for layer in LayerNames:\n",
    "    LayerCells=PrScells[PrScells[\"layer\"]==layer]\n",
    "    modulated=PrScells[(PrScells[\"absAngularVelocityModulated\"]==1) & (PrScells[\"layer\"]==layer)]\n",
    "    percentages.append(len(modulated)/len(LayerCells))\n",
    "    print(\"AHV Bidir cells in PrS layer \"+layer+\": \"+str(len(modulated))+\"/\"+str(len(LayerCells))+\" , \"+\"{0:.2f}\".format(len(modulated)/len(LayerCells))+\" of cells in the layer\" )\n",
    "    \n",
    "print(\"\\n KS test for uniformity: \")\n",
    "kstest(percentages,\"uniform\")"
   ]
  },
  {
   "cell_type": "markdown",
   "metadata": {},
   "source": [
    "## Grid"
   ]
  },
  {
   "cell_type": "code",
   "execution_count": 42,
   "metadata": {},
   "outputs": [
    {
     "name": "stdout",
     "output_type": "stream",
     "text": [
      "MEC\n",
      "grid modulated cells in MEC layer LII: 10/35 , 0.29 of cells in the layer\n",
      "grid modulated cells in MEC layer LIII: 56/156 , 0.36 of cells in the layer\n",
      "grid modulated cells in MEC layer LV: 11/68 , 0.16 of cells in the layer\n",
      "grid modulated cells in MEC layer LVI: 15/133 , 0.11 of cells in the layer\n",
      "PaS\n",
      "grid modulated cells in PaS layer DEEP: 38/190 , 0.20 of cells in the layer\n",
      "grid modulated cells in PaS layer SUP: 36/249 , 0.14 of cells in the layer\n",
      "PrS\n",
      "grid modulated cells in PrS layer DEEP: 65/378 , 0.17 of cells in the layer\n",
      "grid modulated cells in PrS layer SUP: 25/227 , 0.11 of cells in the layer\n"
     ]
    }
   ],
   "source": [
    "# MEC\n",
    "print(\"MEC\")\n",
    "LayerNames=unique(cellMetadata[(cellMetadata[\"include\"]==1) & (cellMetadata[\"region\"]=='MEC')][\"layer\"].values)\n",
    "MECcells=cellMetadata[(cellMetadata[\"include\"]==1) & (cellMetadata[\"region\"]=='MEC')]\n",
    "for layer in LayerNames:\n",
    "    LayerCells=MECcells[MECcells[\"layer\"]==layer]\n",
    "    modulated=MECcells[(MECcells[\"gridModulated\"]==1) & (MECcells[\"layer\"]==layer)]\n",
    "    print(\"grid modulated cells in MEC layer \"+layer+\": \"+str(len(modulated))+\"/\"+str(len(LayerCells))+\" , \"+\"{0:.2f}\".format(len(modulated)/len(LayerCells))+\" of cells in the layer\" )\n",
    "    \n",
    "# PaS\n",
    "print(\"PaS\")\n",
    "LayerNames=unique(cellMetadata[(cellMetadata[\"include\"]==1) & (cellMetadata[\"region\"]=='PaS')][\"layer\"].values)\n",
    "PaScells=cellMetadata[(cellMetadata[\"include\"]==1) & (cellMetadata[\"region\"]=='PaS')]\n",
    "for layer in LayerNames:\n",
    "    LayerCells=PaScells[PaScells[\"layer\"]==layer]\n",
    "    modulated=PaScells[(PaScells[\"gridModulated\"]==1) & (PaScells[\"layer\"]==layer)]\n",
    "    print(\"grid modulated cells in PaS layer \"+layer+\": \"+str(len(modulated))+\"/\"+str(len(LayerCells))+\" , \"+\"{0:.2f}\".format(len(modulated)/len(LayerCells))+\" of cells in the layer\" )\n",
    "    \n",
    "#PrS    \n",
    "print(\"PrS\")\n",
    "LayerNames=unique(cellMetadata[(cellMetadata[\"include\"]==1) & (cellMetadata[\"region\"]=='PrS')][\"layer\"].values)\n",
    "PrScells=cellMetadata[(cellMetadata[\"include\"]==1) & (cellMetadata[\"region\"]=='PrS')]\n",
    "for layer in LayerNames:\n",
    "    LayerCells=PrScells[PrScells[\"layer\"]==layer]\n",
    "    modulated=PrScells[(PrScells[\"gridModulated\"]==1) & (PrScells[\"layer\"]==layer)]\n",
    "    print(\"grid modulated cells in PrS layer \"+layer+\": \"+str(len(modulated))+\"/\"+str(len(LayerCells))+\" , \"+\"{0:.2f}\".format(len(modulated)/len(LayerCells))+\" of cells in the layer\" )"
   ]
  },
  {
   "cell_type": "markdown",
   "metadata": {},
   "source": [
    "## HD"
   ]
  },
  {
   "cell_type": "code",
   "execution_count": 43,
   "metadata": {},
   "outputs": [
    {
     "name": "stdout",
     "output_type": "stream",
     "text": [
      "MEC\n",
      "HD modulated cells in MEC layer LII: 1/35 , 0.03 of cells in the layer\n",
      "HD modulated cells in MEC layer LIII: 70/156 , 0.45 of cells in the layer\n",
      "HD modulated cells in MEC layer LV: 58/68 , 0.85 of cells in the layer\n",
      "HD modulated cells in MEC layer LVI: 82/133 , 0.62 of cells in the layer\n",
      "PaS\n",
      "HD modulated cells in PaS layer DEEP: 140/190 , 0.74 of cells in the layer\n",
      "HD modulated cells in PaS layer SUP: 153/249 , 0.61 of cells in the layer\n",
      "PrS\n",
      "HD modulated cells in PrS layer DEEP: 209/378 , 0.55 of cells in the layer\n",
      "HD modulated cells in PrS layer SUP: 120/227 , 0.53 of cells in the layer\n"
     ]
    }
   ],
   "source": [
    "# MEC\n",
    "print(\"MEC\")\n",
    "LayerNames=unique(cellMetadata[(cellMetadata[\"include\"]==1) & (cellMetadata[\"region\"]=='MEC')][\"layer\"].values)\n",
    "MECcells=cellMetadata[(cellMetadata[\"include\"]==1) & (cellMetadata[\"region\"]=='MEC')]\n",
    "for layer in LayerNames:\n",
    "    LayerCells=MECcells[MECcells[\"layer\"]==layer]\n",
    "    modulated=MECcells[(MECcells[\"HDmodulated\"]==1) & (MECcells[\"layer\"]==layer)]\n",
    "    print(\"HD modulated cells in MEC layer \"+layer+\": \"+str(len(modulated))+\"/\"+str(len(LayerCells))+\" , \"+\"{0:.2f}\".format(len(modulated)/len(LayerCells))+\" of cells in the layer\" )\n",
    "    \n",
    "# PaS\n",
    "print(\"PaS\")\n",
    "LayerNames=unique(cellMetadata[(cellMetadata[\"include\"]==1) & (cellMetadata[\"region\"]=='PaS')][\"layer\"].values)\n",
    "PaScells=cellMetadata[(cellMetadata[\"include\"]==1) & (cellMetadata[\"region\"]=='PaS')]\n",
    "for layer in LayerNames:\n",
    "    LayerCells=PaScells[PaScells[\"layer\"]==layer]\n",
    "    modulated=PaScells[(PaScells[\"HDmodulated2\"]==1) & (PaScells[\"layer\"]==layer)]\n",
    "    print(\"HD modulated cells in PaS layer \"+layer+\": \"+str(len(modulated))+\"/\"+str(len(LayerCells))+\" , \"+\"{0:.2f}\".format(len(modulated)/len(LayerCells))+\" of cells in the layer\" )\n",
    "    \n",
    "#PrS    \n",
    "print(\"PrS\")\n",
    "LayerNames=unique(cellMetadata[(cellMetadata[\"include\"]==1) & (cellMetadata[\"region\"]=='PrS')][\"layer\"].values)\n",
    "PrScells=cellMetadata[(cellMetadata[\"include\"]==1) & (cellMetadata[\"region\"]=='PrS')]\n",
    "for layer in LayerNames:\n",
    "    LayerCells=PrScells[PrScells[\"layer\"]==layer]\n",
    "    modulated=PrScells[(PrScells[\"HDmodulated2\"]==1) & (PrScells[\"layer\"]==layer)]\n",
    "    print(\"HD modulated cells in PrS layer \"+layer+\": \"+str(len(modulated))+\"/\"+str(len(LayerCells))+\" , \"+\"{0:.2f}\".format(len(modulated)/len(LayerCells))+\" of cells in the layer\" )"
   ]
  },
  {
   "cell_type": "markdown",
   "metadata": {},
   "source": [
    "## Theta"
   ]
  },
  {
   "cell_type": "code",
   "execution_count": 44,
   "metadata": {},
   "outputs": [
    {
     "name": "stdout",
     "output_type": "stream",
     "text": [
      "MEC\n",
      "theta modulated cells in MEC layer LII: 26/35 , 0.74 of cells in the layer\n",
      "theta modulated cells in MEC layer LIII: 91/156 , 0.58 of cells in the layer\n",
      "theta modulated cells in MEC layer LV: 43/68 , 0.63 of cells in the layer\n",
      "theta modulated cells in MEC layer LVI: 39/133 , 0.29 of cells in the layer\n",
      "PaS\n",
      "theta modulated cells in PaS layer DEEP: 108/190 , 0.57 of cells in the layer\n",
      "theta modulated cells in PaS layer SUP: 105/249 , 0.42 of cells in the layer\n",
      "PrS\n",
      "theta modulated cells in PrS layer DEEP: 124/378 , 0.33 of cells in the layer\n",
      "theta modulated cells in PrS layer SUP: 68/227 , 0.30 of cells in the layer\n"
     ]
    }
   ],
   "source": [
    "# MEC\n",
    "print(\"MEC\")\n",
    "LayerNames=unique(cellMetadata[(cellMetadata[\"include\"]==1) & (cellMetadata[\"region\"]=='MEC')][\"layer\"].values)\n",
    "MECcells=cellMetadata[(cellMetadata[\"include\"]==1) & (cellMetadata[\"region\"]=='MEC')]\n",
    "for layer in LayerNames:\n",
    "    LayerCells=MECcells[MECcells[\"layer\"]==layer]\n",
    "    modulated=MECcells[(MECcells[\"thetaModulated\"]==1) & (MECcells[\"layer\"]==layer)]\n",
    "    print(\"theta modulated cells in MEC layer \"+layer+\": \"+str(len(modulated))+\"/\"+str(len(LayerCells))+\" , \"+\"{0:.2f}\".format(len(modulated)/len(LayerCells))+\" of cells in the layer\" )\n",
    "    \n",
    "# PaS\n",
    "print(\"PaS\")\n",
    "LayerNames=unique(cellMetadata[(cellMetadata[\"include\"]==1) & (cellMetadata[\"region\"]=='PaS')][\"layer\"].values)\n",
    "PaScells=cellMetadata[(cellMetadata[\"include\"]==1) & (cellMetadata[\"region\"]=='PaS')]\n",
    "for layer in LayerNames:\n",
    "    LayerCells=PaScells[PaScells[\"layer\"]==layer]\n",
    "    modulated=PaScells[(PaScells[\"thetaModulated\"]==1) & (PaScells[\"layer\"]==layer)]\n",
    "    print(\"theta modulated cells in PaS layer \"+layer+\": \"+str(len(modulated))+\"/\"+str(len(LayerCells))+\" , \"+\"{0:.2f}\".format(len(modulated)/len(LayerCells))+\" of cells in the layer\" )\n",
    "    \n",
    "#PrS    \n",
    "print(\"PrS\")\n",
    "LayerNames=unique(cellMetadata[(cellMetadata[\"include\"]==1) & (cellMetadata[\"region\"]=='PrS')][\"layer\"].values)\n",
    "PrScells=cellMetadata[(cellMetadata[\"include\"]==1) & (cellMetadata[\"region\"]=='PrS')]\n",
    "for layer in LayerNames:\n",
    "    LayerCells=PrScells[PrScells[\"layer\"]==layer]\n",
    "    modulated=PrScells[(PrScells[\"thetaModulated\"]==1) & (PrScells[\"layer\"]==layer)]\n",
    "    print(\"theta modulated cells in PrS layer \"+layer+\": \"+str(len(modulated))+\"/\"+str(len(LayerCells))+\" , \"+\"{0:.2f}\".format(len(modulated)/len(LayerCells))+\" of cells in the layer\" )"
   ]
  },
  {
   "cell_type": "markdown",
   "metadata": {},
   "source": [
    "# CONJUNCTION BY LAYER"
   ]
  },
  {
   "cell_type": "markdown",
   "metadata": {},
   "source": [
    "## Speed - AHV unidir"
   ]
  },
  {
   "cell_type": "code",
   "execution_count": 45,
   "metadata": {},
   "outputs": [
    {
     "name": "stdout",
     "output_type": "stream",
     "text": [
      "MEC\n",
      "AHV unidir-speed cells in MEC layer LII: 0/35 , 0.00 of cells in the layer\n",
      "AHV unidir-speed cells in MEC layer LIII: 3/156 , 0.02 of cells in the layer\n",
      "AHV unidir-speed cells in MEC layer LV: 1/68 , 0.01 of cells in the layer\n",
      "AHV unidir-speed cells in MEC layer LVI: 8/133 , 0.06 of cells in the layer\n",
      "PaS\n",
      "AHV unidir- speed cells in PaS layer DEEP: 7/190 , 0.04 of cells in the layer\n",
      "AHV unidir- speed cells in PaS layer SUP: 4/249 , 0.02 of cells in the layer\n",
      "PrS\n",
      "AHV unidir -speed cells in PrS layer DEEP: 12/378 , 0.03 of cells in the layer\n",
      "AHV unidir -speed cells in PrS layer SUP: 5/227 , 0.02 of cells in the layer\n"
     ]
    }
   ],
   "source": [
    "# MEC\n",
    "print(\"MEC\")\n",
    "LayerNames=unique(cellMetadata[(cellMetadata[\"include\"]==1) & (cellMetadata[\"region\"]=='MEC')][\"layer\"].values)\n",
    "MECcells=cellMetadata[(cellMetadata[\"include\"]==1) & (cellMetadata[\"region\"]=='MEC')]\n",
    "for layer in LayerNames:\n",
    "    LayerCells=MECcells[MECcells[\"layer\"]==layer]\n",
    "    modulatedCW=MECcells[(MECcells[\"angularVelocityModulated\"]==1) &(MECcells[\"speedModulated\"]==1) & (MECcells[\"layer\"]==layer)]\n",
    "    modulatedCCW=MECcells[(MECcells[\"angularVelocityCCWModulated\"]==1)&(MECcells[\"speedModulated\"]==1) & (MECcells[\"layer\"]==layer)]\n",
    "    modulated=modulatedCW+modulatedCCW\n",
    "    print(\"AHV unidir-speed cells in MEC layer \"+layer+\": \"+str(len(modulated))+\"/\"+str(len(LayerCells))+\" , \"+\"{0:.2f}\".format(len(modulated)/len(LayerCells))+\" of cells in the layer\" )\n",
    "    \n",
    "# PaS\n",
    "print(\"PaS\")\n",
    "LayerNames=unique(cellMetadata[(cellMetadata[\"include\"]==1) & (cellMetadata[\"region\"]=='PaS')][\"layer\"].values)\n",
    "PaScells=cellMetadata[(cellMetadata[\"include\"]==1) & (cellMetadata[\"region\"]=='PaS')]\n",
    "for layer in LayerNames:\n",
    "    LayerCells=PaScells[PaScells[\"layer\"]==layer]\n",
    "    modulatedCW=PaScells[(PaScells[\"angularVelocityModulated\"]==1) &(PaScells[\"speedModulated\"]==1)& (PaScells[\"layer\"]==layer)]\n",
    "    modulatedCCW=PaScells[(PaScells[\"angularVelocityCCWModulated\"]==1)&(PaScells[\"speedModulated\"]==1) & (PaScells[\"layer\"]==layer)]\n",
    "    modulated=modulatedCW+modulatedCCW\n",
    "    print(\"AHV unidir- speed cells in PaS layer \"+layer+\": \"+str(len(modulated))+\"/\"+str(len(LayerCells))+\" , \"+\"{0:.2f}\".format(len(modulated)/len(LayerCells))+\" of cells in the layer\" )\n",
    "    \n",
    "#PrS    \n",
    "print(\"PrS\")\n",
    "LayerNames=unique(cellMetadata[(cellMetadata[\"include\"]==1) & (cellMetadata[\"region\"]=='PrS')][\"layer\"].values)\n",
    "PrScells=cellMetadata[(cellMetadata[\"include\"]==1) & (cellMetadata[\"region\"]=='PrS')]\n",
    "for layer in LayerNames:\n",
    "    LayerCells=PrScells[PrScells[\"layer\"]==layer]\n",
    "    modulatedCW=PrScells[(PrScells[\"angularVelocityModulated\"]==1) &(PrScells[\"speedModulated\"]==1)& (PrScells[\"layer\"]==layer)]\n",
    "    modulatedCCW=PrScells[(PrScells[\"angularVelocityCCWModulated\"]==1) &(PrScells[\"speedModulated\"]==1)& (PrScells[\"layer\"]==layer)]\n",
    "    modulated=modulatedCW+modulatedCCW\n",
    "    print(\"AHV unidir -speed cells in PrS layer \"+layer+\": \"+str(len(modulated))+\"/\"+str(len(LayerCells))+\" , \"+\"{0:.2f}\".format(len(modulated)/len(LayerCells))+\" of cells in the layer\" )"
   ]
  },
  {
   "cell_type": "markdown",
   "metadata": {},
   "source": [
    "## Speed - AHV BIDIR"
   ]
  },
  {
   "cell_type": "code",
   "execution_count": 46,
   "metadata": {},
   "outputs": [
    {
     "name": "stdout",
     "output_type": "stream",
     "text": [
      "MEC\n",
      "AHV Bidir -speed cells in MEC layer LII: 0/35 , 0.00 of cells in the layer\n",
      "AHV Bidir -speed cells in MEC layer LIII: 8/156 , 0.05 of cells in the layer\n",
      "AHV Bidir -speed cells in MEC layer LV: 2/68 , 0.03 of cells in the layer\n",
      "AHV Bidir -speed cells in MEC layer LVI: 5/133 , 0.04 of cells in the layer\n",
      "PaS\n",
      "AHV Bidir -speed cells in PaS layer DEEP: 4/190 , 0.02 of cells in the layer\n",
      "AHV Bidir -speed cells in PaS layer SUP: 7/249 , 0.03 of cells in the layer\n",
      "PrS\n",
      "AHV Bidir -speed cells in PrS layer DEEP: 25/378 , 0.07 of cells in the layer\n",
      "AHV Bidir -speed cells in PrS layer SUP: 5/227 , 0.02 of cells in the layer\n"
     ]
    }
   ],
   "source": [
    "# MEC\n",
    "print(\"MEC\")\n",
    "LayerNames=unique(cellMetadata[(cellMetadata[\"include\"]==1) & (cellMetadata[\"region\"]=='MEC')][\"layer\"].values)\n",
    "MECcells=cellMetadata[(cellMetadata[\"include\"]==1) & (cellMetadata[\"region\"]=='MEC')]\n",
    "for layer in LayerNames:\n",
    "    LayerCells=MECcells[MECcells[\"layer\"]==layer]\n",
    "    modulated=MECcells[(MECcells[\"absAngularVelocityModulated\"]==1) &(MECcells[\"speedModulated\"]==1)& (MECcells[\"layer\"]==layer)]\n",
    "    print(\"AHV Bidir -speed cells in MEC layer \"+layer+\": \"+str(len(modulated))+\"/\"+str(len(LayerCells))+\" , \"+\"{0:.2f}\".format(len(modulated)/len(LayerCells))+\" of cells in the layer\" )\n",
    "    \n",
    "# PaS\n",
    "print(\"PaS\")\n",
    "LayerNames=unique(cellMetadata[(cellMetadata[\"include\"]==1) & (cellMetadata[\"region\"]=='PaS')][\"layer\"].values)\n",
    "PaScells=cellMetadata[(cellMetadata[\"include\"]==1) & (cellMetadata[\"region\"]=='PaS')]\n",
    "for layer in LayerNames:\n",
    "    LayerCells=PaScells[PaScells[\"layer\"]==layer]\n",
    "    modulated=PaScells[(PaScells[\"absAngularVelocityModulated\"]==1) &(PaScells[\"speedModulated\"]==1)& (PaScells[\"layer\"]==layer)]\n",
    "    print(\"AHV Bidir -speed cells in PaS layer \"+layer+\": \"+str(len(modulated))+\"/\"+str(len(LayerCells))+\" , \"+\"{0:.2f}\".format(len(modulated)/len(LayerCells))+\" of cells in the layer\" )\n",
    "    \n",
    "#PrS    \n",
    "print(\"PrS\")\n",
    "LayerNames=unique(cellMetadata[(cellMetadata[\"include\"]==1) & (cellMetadata[\"region\"]=='PrS')][\"layer\"].values)\n",
    "PrScells=cellMetadata[(cellMetadata[\"include\"]==1) & (cellMetadata[\"region\"]=='PrS')]\n",
    "for layer in LayerNames:\n",
    "    LayerCells=PrScells[PrScells[\"layer\"]==layer]\n",
    "    modulated=PrScells[(PrScells[\"absAngularVelocityModulated\"]==1) &(PrScells[\"speedModulated\"]==1)& (PrScells[\"layer\"]==layer)]\n",
    "    print(\"AHV Bidir -speed cells in PrS layer \"+layer+\": \"+str(len(modulated))+\"/\"+str(len(LayerCells))+\" , \"+\"{0:.2f}\".format(len(modulated)/len(LayerCells))+\" of cells in the layer\" )"
   ]
  },
  {
   "cell_type": "markdown",
   "metadata": {},
   "source": [
    "## speed-grid"
   ]
  },
  {
   "cell_type": "code",
   "execution_count": 47,
   "metadata": {},
   "outputs": [
    {
     "name": "stdout",
     "output_type": "stream",
     "text": [
      "MEC\n",
      "grid-speed cells in MEC layer LII: 1/35 , 0.03 of cells in the layer\n",
      "grid-speed cells in MEC layer LIII: 12/156 , 0.08 of cells in the layer\n",
      "grid-speed cells in MEC layer LV: 1/68 , 0.01 of cells in the layer\n",
      "grid-speed cells in MEC layer LVI: 1/133 , 0.01 of cells in the layer\n",
      "PaS\n",
      "grid-speed cells in PaS layer DEEP: 6/190 , 0.03 of cells in the layer\n",
      "grid-speed cells in PaS layer SUP: 5/249 , 0.02 of cells in the layer\n",
      "PrS\n",
      "grid-speed cells in PrS layer DEEP: 23/378 , 0.06 of cells in the layer\n",
      "grid-speed cells in PrS layer SUP: 3/227 , 0.01 of cells in the layer\n"
     ]
    }
   ],
   "source": [
    "# MEC\n",
    "print(\"MEC\")\n",
    "LayerNames=unique(cellMetadata[(cellMetadata[\"include\"]==1) & (cellMetadata[\"region\"]=='MEC')][\"layer\"].values)\n",
    "MECcells=cellMetadata[(cellMetadata[\"include\"]==1) & (cellMetadata[\"region\"]=='MEC')]\n",
    "for layer in LayerNames:\n",
    "    LayerCells=MECcells[MECcells[\"layer\"]==layer]\n",
    "    modulated=MECcells[(MECcells[\"gridModulated\"]==1) &(MECcells[\"speedModulated\"]==1)& (MECcells[\"layer\"]==layer)]\n",
    "    print(\"grid-speed cells in MEC layer \"+layer+\": \"+str(len(modulated))+\"/\"+str(len(LayerCells))+\" , \"+\"{0:.2f}\".format(len(modulated)/len(LayerCells))+\" of cells in the layer\" )\n",
    "    \n",
    "# PaS\n",
    "print(\"PaS\")\n",
    "LayerNames=unique(cellMetadata[(cellMetadata[\"include\"]==1) & (cellMetadata[\"region\"]=='PaS')][\"layer\"].values)\n",
    "PaScells=cellMetadata[(cellMetadata[\"include\"]==1) & (cellMetadata[\"region\"]=='PaS')]\n",
    "for layer in LayerNames:\n",
    "    LayerCells=PaScells[PaScells[\"layer\"]==layer]\n",
    "    modulated=PaScells[(PaScells[\"gridModulated\"]==1) &(PaScells[\"speedModulated\"]==1)& (PaScells[\"layer\"]==layer)]\n",
    "    print(\"grid-speed cells in PaS layer \"+layer+\": \"+str(len(modulated))+\"/\"+str(len(LayerCells))+\" , \"+\"{0:.2f}\".format(len(modulated)/len(LayerCells))+\" of cells in the layer\" )\n",
    "    \n",
    "#PrS    \n",
    "print(\"PrS\")\n",
    "LayerNames=unique(cellMetadata[(cellMetadata[\"include\"]==1) & (cellMetadata[\"region\"]=='PrS')][\"layer\"].values)\n",
    "PrScells=cellMetadata[(cellMetadata[\"include\"]==1) & (cellMetadata[\"region\"]=='PrS')]\n",
    "for layer in LayerNames:\n",
    "    LayerCells=PrScells[PrScells[\"layer\"]==layer]\n",
    "    modulated=PrScells[(PrScells[\"gridModulated\"]==1) &(PrScells[\"speedModulated\"]==1)& (PrScells[\"layer\"]==layer)]\n",
    "    print(\"grid-speed cells in PrS layer \"+layer+\": \"+str(len(modulated))+\"/\"+str(len(LayerCells))+\" , \"+\"{0:.2f}\".format(len(modulated)/len(LayerCells))+\" of cells in the layer\" )"
   ]
  },
  {
   "cell_type": "markdown",
   "metadata": {},
   "source": [
    "## speed - HD"
   ]
  },
  {
   "cell_type": "code",
   "execution_count": 48,
   "metadata": {},
   "outputs": [
    {
     "name": "stdout",
     "output_type": "stream",
     "text": [
      "MEC\n",
      "HD-speed cells in MEC layer LII: 0/35 , 0.00 of cells in the layer\n",
      "HD-speed cells in MEC layer LIII: 6/156 , 0.04 of cells in the layer\n",
      "HD-speed cells in MEC layer LV: 5/68 , 0.07 of cells in the layer\n",
      "HD-speed cells in MEC layer LVI: 9/133 , 0.07 of cells in the layer\n",
      "PaS\n",
      "HD-speed cells in PaS layer DEEP: 26/190 , 0.14 of cells in the layer\n",
      "HD-speed cells in PaS layer SUP: 14/249 , 0.06 of cells in the layer\n",
      "PrS\n",
      "HD-speed cells in PrS layer DEEP: 27/378 , 0.07 of cells in the layer\n",
      "HD-speed cells in PrS layer SUP: 11/227 , 0.05 of cells in the layer\n"
     ]
    }
   ],
   "source": [
    "# MEC\n",
    "print(\"MEC\")\n",
    "LayerNames=unique(cellMetadata[(cellMetadata[\"include\"]==1) & (cellMetadata[\"region\"]=='MEC')][\"layer\"].values)\n",
    "MECcells=cellMetadata[(cellMetadata[\"include\"]==1) & (cellMetadata[\"region\"]=='MEC')]\n",
    "for layer in LayerNames:\n",
    "    LayerCells=MECcells[MECcells[\"layer\"]==layer]\n",
    "    modulated=MECcells[(MECcells[\"HDModulated\"]==1) &(MECcells[\"speedModulated\"]==1)& (MECcells[\"layer\"]==layer)]\n",
    "    print(\"HD-speed cells in MEC layer \"+layer+\": \"+str(len(modulated))+\"/\"+str(len(LayerCells))+\" , \"+\"{0:.2f}\".format(len(modulated)/len(LayerCells))+\" of cells in the layer\" )\n",
    "    \n",
    "# PaS\n",
    "print(\"PaS\")\n",
    "LayerNames=unique(cellMetadata[(cellMetadata[\"include\"]==1) & (cellMetadata[\"region\"]=='PaS')][\"layer\"].values)\n",
    "PaScells=cellMetadata[(cellMetadata[\"include\"]==1) & (cellMetadata[\"region\"]=='PaS')]\n",
    "for layer in LayerNames:\n",
    "    LayerCells=PaScells[PaScells[\"layer\"]==layer]\n",
    "    modulated=PaScells[(PaScells[\"HDModulated\"]==1) &(PaScells[\"speedModulated\"]==1)& (PaScells[\"layer\"]==layer)]\n",
    "    print(\"HD-speed cells in PaS layer \"+layer+\": \"+str(len(modulated))+\"/\"+str(len(LayerCells))+\" , \"+\"{0:.2f}\".format(len(modulated)/len(LayerCells))+\" of cells in the layer\" )\n",
    "    \n",
    "#PrS    \n",
    "print(\"PrS\")\n",
    "LayerNames=unique(cellMetadata[(cellMetadata[\"include\"]==1) & (cellMetadata[\"region\"]=='PrS')][\"layer\"].values)\n",
    "PrScells=cellMetadata[(cellMetadata[\"include\"]==1) & (cellMetadata[\"region\"]=='PrS')]\n",
    "for layer in LayerNames:\n",
    "    LayerCells=PrScells[PrScells[\"layer\"]==layer]\n",
    "    modulated=PrScells[(PrScells[\"HDModulated\"]==1) &(PrScells[\"speedModulated\"]==1)& (PrScells[\"layer\"]==layer)]\n",
    "    print(\"HD-speed cells in PrS layer \"+layer+\": \"+str(len(modulated))+\"/\"+str(len(LayerCells))+\" , \"+\"{0:.2f}\".format(len(modulated)/len(LayerCells))+\" of cells in the layer\" )"
   ]
  },
  {
   "cell_type": "markdown",
   "metadata": {},
   "source": [
    "## AHV UNIDIR - grid"
   ]
  },
  {
   "cell_type": "code",
   "execution_count": 49,
   "metadata": {},
   "outputs": [
    {
     "name": "stdout",
     "output_type": "stream",
     "text": [
      "MEC\n",
      "AHV unidir-grid cells in MEC layer LII: 0/35 , 0.00 of cells in the layer\n",
      "AHV unidir-grid cells in MEC layer LIII: 2/156 , 0.01 of cells in the layer\n",
      "AHV unidir-grid cells in MEC layer LV: 0/68 , 0.00 of cells in the layer\n",
      "AHV unidir-grid cells in MEC layer LVI: 0/133 , 0.00 of cells in the layer\n",
      "PaS\n",
      "AHV unidir- grid cells in PaS layer DEEP: 1/190 , 0.01 of cells in the layer\n",
      "AHV unidir- grid cells in PaS layer SUP: 4/249 , 0.02 of cells in the layer\n",
      "PrS\n",
      "AHV unidir -grid cells in PrS layer DEEP: 7/378 , 0.02 of cells in the layer\n",
      "AHV unidir -grid cells in PrS layer SUP: 2/227 , 0.01 of cells in the layer\n"
     ]
    }
   ],
   "source": [
    "# MEC\n",
    "print(\"MEC\")\n",
    "LayerNames=unique(cellMetadata[(cellMetadata[\"include\"]==1) & (cellMetadata[\"region\"]=='MEC')][\"layer\"].values)\n",
    "MECcells=cellMetadata[(cellMetadata[\"include\"]==1) & (cellMetadata[\"region\"]=='MEC')]\n",
    "for layer in LayerNames:\n",
    "    LayerCells=MECcells[MECcells[\"layer\"]==layer]\n",
    "    modulatedCW=MECcells[(MECcells[\"angularVelocityModulated\"]==1) &(MECcells[\"gridModulated\"]==1) & (MECcells[\"layer\"]==layer)]\n",
    "    modulatedCCW=MECcells[(MECcells[\"angularVelocityCCWModulated\"]==1)&(MECcells[\"gridModulated\"]==1) & (MECcells[\"layer\"]==layer)]\n",
    "    modulated=modulatedCW+modulatedCCW\n",
    "    print(\"AHV unidir-grid cells in MEC layer \"+layer+\": \"+str(len(modulated))+\"/\"+str(len(LayerCells))+\" , \"+\"{0:.2f}\".format(len(modulated)/len(LayerCells))+\" of cells in the layer\" )\n",
    "    \n",
    "# PaS\n",
    "print(\"PaS\")\n",
    "LayerNames=unique(cellMetadata[(cellMetadata[\"include\"]==1) & (cellMetadata[\"region\"]=='PaS')][\"layer\"].values)\n",
    "PaScells=cellMetadata[(cellMetadata[\"include\"]==1) & (cellMetadata[\"region\"]=='PaS')]\n",
    "for layer in LayerNames:\n",
    "    LayerCells=PaScells[PaScells[\"layer\"]==layer]\n",
    "    modulatedCW=PaScells[(PaScells[\"angularVelocityModulated\"]==1) &(PaScells[\"gridModulated\"]==1)& (PaScells[\"layer\"]==layer)]\n",
    "    modulatedCCW=PaScells[(PaScells[\"angularVelocityCCWModulated\"]==1)&(PaScells[\"gridModulated\"]==1) & (PaScells[\"layer\"]==layer)]\n",
    "    modulated=modulatedCW+modulatedCCW\n",
    "    print(\"AHV unidir- grid cells in PaS layer \"+layer+\": \"+str(len(modulated))+\"/\"+str(len(LayerCells))+\" , \"+\"{0:.2f}\".format(len(modulated)/len(LayerCells))+\" of cells in the layer\" )\n",
    "    \n",
    "#PrS    \n",
    "print(\"PrS\")\n",
    "LayerNames=unique(cellMetadata[(cellMetadata[\"include\"]==1) & (cellMetadata[\"region\"]=='PrS')][\"layer\"].values)\n",
    "PrScells=cellMetadata[(cellMetadata[\"include\"]==1) & (cellMetadata[\"region\"]=='PrS')]\n",
    "for layer in LayerNames:\n",
    "    LayerCells=PrScells[PrScells[\"layer\"]==layer]\n",
    "    modulatedCW=PrScells[(PrScells[\"angularVelocityModulated\"]==1) &(PrScells[\"gridModulated\"]==1)& (PrScells[\"layer\"]==layer)]\n",
    "    modulatedCCW=PrScells[(PrScells[\"angularVelocityCCWModulated\"]==1) &(PrScells[\"gridModulated\"]==1)& (PrScells[\"layer\"]==layer)]\n",
    "    modulated=modulatedCW+modulatedCCW\n",
    "    print(\"AHV unidir -grid cells in PrS layer \"+layer+\": \"+str(len(modulated))+\"/\"+str(len(LayerCells))+\" , \"+\"{0:.2f}\".format(len(modulated)/len(LayerCells))+\" of cells in the layer\" )"
   ]
  },
  {
   "cell_type": "markdown",
   "metadata": {},
   "source": [
    "## AHV UNIDIR - HD"
   ]
  },
  {
   "cell_type": "code",
   "execution_count": 50,
   "metadata": {},
   "outputs": [
    {
     "name": "stdout",
     "output_type": "stream",
     "text": [
      "MEC\n",
      "AHV unidir-HD cells in MEC layer LII: 0/35 , 0.00 of cells in the layer\n",
      "AHV unidir-HD cells in MEC layer LIII: 8/156 , 0.05 of cells in the layer\n",
      "AHV unidir-HD cells in MEC layer LV: 3/68 , 0.04 of cells in the layer\n",
      "AHV unidir-HD cells in MEC layer LVI: 11/133 , 0.08 of cells in the layer\n",
      "PaS\n",
      "AHV unidir- HD cells in PaS layer DEEP: 14/190 , 0.07 of cells in the layer\n",
      "AHV unidir- HD cells in PaS layer SUP: 12/249 , 0.05 of cells in the layer\n",
      "PrS\n",
      "AHV unidir -HD cells in PrS layer DEEP: 17/378 , 0.04 of cells in the layer\n",
      "AHV unidir -HD cells in PrS layer SUP: 8/227 , 0.04 of cells in the layer\n"
     ]
    }
   ],
   "source": [
    "# MEC\n",
    "print(\"MEC\")\n",
    "LayerNames=unique(cellMetadata[(cellMetadata[\"include\"]==1) & (cellMetadata[\"region\"]=='MEC')][\"layer\"].values)\n",
    "MECcells=cellMetadata[(cellMetadata[\"include\"]==1) & (cellMetadata[\"region\"]=='MEC')]\n",
    "for layer in LayerNames:\n",
    "    LayerCells=MECcells[MECcells[\"layer\"]==layer]\n",
    "    modulatedCW=MECcells[(MECcells[\"angularVelocityModulated\"]==1) &(MECcells[\"HDModulated\"]==1) & (MECcells[\"layer\"]==layer)]\n",
    "    modulatedCCW=MECcells[(MECcells[\"angularVelocityCCWModulated\"]==1)&(MECcells[\"HDModulated\"]==1) & (MECcells[\"layer\"]==layer)]\n",
    "    modulated=modulatedCW+modulatedCCW\n",
    "    print(\"AHV unidir-HD cells in MEC layer \"+layer+\": \"+str(len(modulated))+\"/\"+str(len(LayerCells))+\" , \"+\"{0:.2f}\".format(len(modulated)/len(LayerCells))+\" of cells in the layer\" )\n",
    "    \n",
    "# PaS\n",
    "print(\"PaS\")\n",
    "LayerNames=unique(cellMetadata[(cellMetadata[\"include\"]==1) & (cellMetadata[\"region\"]=='PaS')][\"layer\"].values)\n",
    "PaScells=cellMetadata[(cellMetadata[\"include\"]==1) & (cellMetadata[\"region\"]=='PaS')]\n",
    "for layer in LayerNames:\n",
    "    LayerCells=PaScells[PaScells[\"layer\"]==layer]\n",
    "    modulatedCW=PaScells[(PaScells[\"angularVelocityModulated\"]==1) &(PaScells[\"HDModulated\"]==1)& (PaScells[\"layer\"]==layer)]\n",
    "    modulatedCCW=PaScells[(PaScells[\"angularVelocityCCWModulated\"]==1)&(PaScells[\"HDModulated\"]==1) & (PaScells[\"layer\"]==layer)]\n",
    "    modulated=modulatedCW+modulatedCCW\n",
    "    print(\"AHV unidir- HD cells in PaS layer \"+layer+\": \"+str(len(modulated))+\"/\"+str(len(LayerCells))+\" , \"+\"{0:.2f}\".format(len(modulated)/len(LayerCells))+\" of cells in the layer\" )\n",
    "    \n",
    "#PrS    \n",
    "print(\"PrS\")\n",
    "LayerNames=unique(cellMetadata[(cellMetadata[\"include\"]==1) & (cellMetadata[\"region\"]=='PrS')][\"layer\"].values)\n",
    "PrScells=cellMetadata[(cellMetadata[\"include\"]==1) & (cellMetadata[\"region\"]=='PrS')]\n",
    "for layer in LayerNames:\n",
    "    LayerCells=PrScells[PrScells[\"layer\"]==layer]\n",
    "    modulatedCW=PrScells[(PrScells[\"angularVelocityModulated\"]==1) &(PrScells[\"HDModulated\"]==1)& (PrScells[\"layer\"]==layer)]\n",
    "    modulatedCCW=PrScells[(PrScells[\"angularVelocityCCWModulated\"]==1) &(PrScells[\"HDModulated\"]==1)& (PrScells[\"layer\"]==layer)]\n",
    "    modulated=modulatedCW+modulatedCCW\n",
    "    print(\"AHV unidir -HD cells in PrS layer \"+layer+\": \"+str(len(modulated))+\"/\"+str(len(LayerCells))+\" , \"+\"{0:.2f}\".format(len(modulated)/len(LayerCells))+\" of cells in the layer\" )"
   ]
  },
  {
   "cell_type": "markdown",
   "metadata": {},
   "source": [
    "# AHV BIDIR - GRID"
   ]
  },
  {
   "cell_type": "code",
   "execution_count": 51,
   "metadata": {},
   "outputs": [
    {
     "name": "stdout",
     "output_type": "stream",
     "text": [
      "MEC\n",
      "AHV Bidir -grid cells in MEC layer LII: 0/35 , 0.00 of cells in the layer\n",
      "AHV Bidir -grid cells in MEC layer LIII: 6/156 , 0.04 of cells in the layer\n",
      "AHV Bidir -grid cells in MEC layer LV: 2/68 , 0.03 of cells in the layer\n",
      "AHV Bidir -grid cells in MEC layer LVI: 0/133 , 0.00 of cells in the layer\n",
      "PaS\n",
      "AHV Bidir -grid cells in PaS layer DEEP: 3/190 , 0.02 of cells in the layer\n",
      "AHV Bidir -grid cells in PaS layer SUP: 2/249 , 0.01 of cells in the layer\n",
      "PrS\n",
      "AHV Bidir -grid cells in PrS layer DEEP: 9/378 , 0.02 of cells in the layer\n",
      "AHV Bidir -grid cells in PrS layer SUP: 0/227 , 0.00 of cells in the layer\n"
     ]
    }
   ],
   "source": [
    "# MEC\n",
    "print(\"MEC\")\n",
    "LayerNames=unique(cellMetadata[(cellMetadata[\"include\"]==1) & (cellMetadata[\"region\"]=='MEC')][\"layer\"].values)\n",
    "MECcells=cellMetadata[(cellMetadata[\"include\"]==1) & (cellMetadata[\"region\"]=='MEC')]\n",
    "for layer in LayerNames:\n",
    "    LayerCells=MECcells[MECcells[\"layer\"]==layer]\n",
    "    modulated=MECcells[(MECcells[\"absAngularVelocityModulated\"]==1) &(MECcells[\"gridModulated\"]==1)& (MECcells[\"layer\"]==layer)]\n",
    "    print(\"AHV Bidir -grid cells in MEC layer \"+layer+\": \"+str(len(modulated))+\"/\"+str(len(LayerCells))+\" , \"+\"{0:.2f}\".format(len(modulated)/len(LayerCells))+\" of cells in the layer\" )\n",
    "    \n",
    "# PaS\n",
    "print(\"PaS\")\n",
    "LayerNames=unique(cellMetadata[(cellMetadata[\"include\"]==1) & (cellMetadata[\"region\"]=='PaS')][\"layer\"].values)\n",
    "PaScells=cellMetadata[(cellMetadata[\"include\"]==1) & (cellMetadata[\"region\"]=='PaS')]\n",
    "for layer in LayerNames:\n",
    "    LayerCells=PaScells[PaScells[\"layer\"]==layer]\n",
    "    modulated=PaScells[(PaScells[\"absAngularVelocityModulated\"]==1) &(PaScells[\"gridModulated\"]==1)& (PaScells[\"layer\"]==layer)]\n",
    "    print(\"AHV Bidir -grid cells in PaS layer \"+layer+\": \"+str(len(modulated))+\"/\"+str(len(LayerCells))+\" , \"+\"{0:.2f}\".format(len(modulated)/len(LayerCells))+\" of cells in the layer\" )\n",
    "    \n",
    "#PrS    \n",
    "print(\"PrS\")\n",
    "LayerNames=unique(cellMetadata[(cellMetadata[\"include\"]==1) & (cellMetadata[\"region\"]=='PrS')][\"layer\"].values)\n",
    "PrScells=cellMetadata[(cellMetadata[\"include\"]==1) & (cellMetadata[\"region\"]=='PrS')]\n",
    "for layer in LayerNames:\n",
    "    LayerCells=PrScells[PrScells[\"layer\"]==layer]\n",
    "    modulated=PrScells[(PrScells[\"absAngularVelocityModulated\"]==1) &(PrScells[\"gridModulated\"]==1)& (PrScells[\"layer\"]==layer)]\n",
    "    print(\"AHV Bidir -grid cells in PrS layer \"+layer+\": \"+str(len(modulated))+\"/\"+str(len(LayerCells))+\" , \"+\"{0:.2f}\".format(len(modulated)/len(LayerCells))+\" of cells in the layer\" )"
   ]
  },
  {
   "cell_type": "markdown",
   "metadata": {},
   "source": [
    "# AHV BIDIR - HD"
   ]
  },
  {
   "cell_type": "code",
   "execution_count": 52,
   "metadata": {},
   "outputs": [
    {
     "name": "stdout",
     "output_type": "stream",
     "text": [
      "MEC\n",
      "AHV Bidir -HD cells in MEC layer LII: 0/35 , 0.00 of cells in the layer\n",
      "AHV Bidir -HD cells in MEC layer LIII: 5/156 , 0.03 of cells in the layer\n",
      "AHV Bidir -HD cells in MEC layer LV: 7/68 , 0.10 of cells in the layer\n",
      "AHV Bidir -HD cells in MEC layer LVI: 8/133 , 0.06 of cells in the layer\n",
      "PaS\n",
      "AHV Bidir -HD cells in PaS layer DEEP: 11/190 , 0.06 of cells in the layer\n",
      "AHV Bidir -HD cells in PaS layer SUP: 12/249 , 0.05 of cells in the layer\n",
      "PrS\n",
      "AHV Bidir -HD cells in PrS layer DEEP: 23/378 , 0.06 of cells in the layer\n",
      "AHV Bidir -HD cells in PrS layer SUP: 15/227 , 0.07 of cells in the layer\n"
     ]
    }
   ],
   "source": [
    "# MEC\n",
    "print(\"MEC\")\n",
    "LayerNames=unique(cellMetadata[(cellMetadata[\"include\"]==1) & (cellMetadata[\"region\"]=='MEC')][\"layer\"].values)\n",
    "MECcells=cellMetadata[(cellMetadata[\"include\"]==1) & (cellMetadata[\"region\"]=='MEC')]\n",
    "for layer in LayerNames:\n",
    "    LayerCells=MECcells[MECcells[\"layer\"]==layer]\n",
    "    modulated=MECcells[(MECcells[\"absAngularVelocityModulated\"]==1) &(MECcells[\"HDModulated\"]==1)& (MECcells[\"layer\"]==layer)]\n",
    "    print(\"AHV Bidir -HD cells in MEC layer \"+layer+\": \"+str(len(modulated))+\"/\"+str(len(LayerCells))+\" , \"+\"{0:.2f}\".format(len(modulated)/len(LayerCells))+\" of cells in the layer\" )\n",
    "    \n",
    "# PaS\n",
    "print(\"PaS\")\n",
    "LayerNames=unique(cellMetadata[(cellMetadata[\"include\"]==1) & (cellMetadata[\"region\"]=='PaS')][\"layer\"].values)\n",
    "PaScells=cellMetadata[(cellMetadata[\"include\"]==1) & (cellMetadata[\"region\"]=='PaS')]\n",
    "for layer in LayerNames:\n",
    "    LayerCells=PaScells[PaScells[\"layer\"]==layer]\n",
    "    modulated=PaScells[(PaScells[\"absAngularVelocityModulated\"]==1) &(PaScells[\"HDModulated\"]==1)& (PaScells[\"layer\"]==layer)]\n",
    "    print(\"AHV Bidir -HD cells in PaS layer \"+layer+\": \"+str(len(modulated))+\"/\"+str(len(LayerCells))+\" , \"+\"{0:.2f}\".format(len(modulated)/len(LayerCells))+\" of cells in the layer\" )\n",
    "    \n",
    "#PrS    \n",
    "print(\"PrS\")\n",
    "LayerNames=unique(cellMetadata[(cellMetadata[\"include\"]==1) & (cellMetadata[\"region\"]=='PrS')][\"layer\"].values)\n",
    "PrScells=cellMetadata[(cellMetadata[\"include\"]==1) & (cellMetadata[\"region\"]=='PrS')]\n",
    "for layer in LayerNames:\n",
    "    LayerCells=PrScells[PrScells[\"layer\"]==layer]\n",
    "    modulated=PrScells[(PrScells[\"absAngularVelocityModulated\"]==1) &(PrScells[\"HDModulated\"]==1)& (PrScells[\"layer\"]==layer)]\n",
    "    print(\"AHV Bidir -HD cells in PrS layer \"+layer+\": \"+str(len(modulated))+\"/\"+str(len(LayerCells))+\" , \"+\"{0:.2f}\".format(len(modulated)/len(LayerCells))+\" of cells in the layer\" )"
   ]
  },
  {
   "cell_type": "markdown",
   "metadata": {},
   "source": [
    "# THETA MODULATION"
   ]
  },
  {
   "cell_type": "markdown",
   "metadata": {},
   "source": [
    "## Speed"
   ]
  },
  {
   "cell_type": "code",
   "execution_count": 53,
   "metadata": {},
   "outputs": [
    {
     "name": "stdout",
     "output_type": "stream",
     "text": [
      "MEC\n",
      "speed-theta cells in MEC layer LII: 5/35 , 0.14 of cells in the layer\n",
      "speed-theta cells in MEC layer LIII: 16/156 , 0.10 of cells in the layer\n",
      "speed-theta cells in MEC layer LV: 4/68 , 0.06 of cells in the layer\n",
      "speed-theta cells in MEC layer LVI: 5/133 , 0.04 of cells in the layer\n",
      "PaS\n",
      "speed-theta cells in PaS layer DEEP: 24/190 , 0.13 of cells in the layer\n",
      "speed-theta cells in PaS layer SUP: 14/249 , 0.06 of cells in the layer\n",
      "PrS\n",
      "speed-theta cells in PrS layer DEEP: 32/378 , 0.08 of cells in the layer\n",
      "speed-theta cells in PrS layer SUP: 14/227 , 0.06 of cells in the layer\n"
     ]
    }
   ],
   "source": [
    "# MEC\n",
    "print(\"MEC\")\n",
    "LayerNames=unique(cellMetadata[(cellMetadata[\"include\"]==1) & (cellMetadata[\"region\"]=='MEC')][\"layer\"].values)\n",
    "MECcells=cellMetadata[(cellMetadata[\"include\"]==1) & (cellMetadata[\"region\"]=='MEC')]\n",
    "for layer in LayerNames:\n",
    "    LayerCells=MECcells[MECcells[\"layer\"]==layer]\n",
    "    modulated=MECcells[(MECcells[\"speedModulated\"]==1) & (MECcells[\"thetaModulated\"]==1) & (MECcells[\"layer\"]==layer)]\n",
    "    print(\"speed-theta cells in MEC layer \"+layer+\": \"+str(len(modulated))+\"/\"+str(len(LayerCells))+\" , \"+\"{0:.2f}\".format(len(modulated)/len(LayerCells))+\" of cells in the layer\" )\n",
    "    \n",
    "# PaS\n",
    "print(\"PaS\")\n",
    "LayerNames=unique(cellMetadata[(cellMetadata[\"include\"]==1) & (cellMetadata[\"region\"]=='PaS')][\"layer\"].values)\n",
    "PaScells=cellMetadata[(cellMetadata[\"include\"]==1) & (cellMetadata[\"region\"]=='PaS')]\n",
    "for layer in LayerNames:\n",
    "    LayerCells=PaScells[PaScells[\"layer\"]==layer]\n",
    "    modulated=PaScells[(PaScells[\"speedModulated\"]==1) & (PaScells[\"thetaModulated\"]==1) & (PaScells[\"layer\"]==layer)]\n",
    "    print(\"speed-theta cells in PaS layer \"+layer+\": \"+str(len(modulated))+\"/\"+str(len(LayerCells))+\" , \"+\"{0:.2f}\".format(len(modulated)/len(LayerCells))+\" of cells in the layer\" )\n",
    "    \n",
    "#PrS    \n",
    "print(\"PrS\")\n",
    "LayerNames=unique(cellMetadata[(cellMetadata[\"include\"]==1) & (cellMetadata[\"region\"]=='PrS')][\"layer\"].values)\n",
    "PrScells=cellMetadata[(cellMetadata[\"include\"]==1) & (cellMetadata[\"region\"]=='PrS')]\n",
    "for layer in LayerNames:\n",
    "    LayerCells=PrScells[PrScells[\"layer\"]==layer]\n",
    "    modulated=PrScells[(PrScells[\"speedModulated\"]==1) & (PrScells[\"thetaModulated\"]==1) & (PrScells[\"layer\"]==layer)]\n",
    "    print(\"speed-theta cells in PrS layer \"+layer+\": \"+str(len(modulated))+\"/\"+str(len(LayerCells))+\" , \"+\"{0:.2f}\".format(len(modulated)/len(LayerCells))+\" of cells in the layer\" )"
   ]
  },
  {
   "cell_type": "markdown",
   "metadata": {},
   "source": [
    "## AHV unidir"
   ]
  },
  {
   "cell_type": "code",
   "execution_count": 54,
   "metadata": {},
   "outputs": [
    {
     "name": "stdout",
     "output_type": "stream",
     "text": [
      "MEC\n",
      "AHV unidir-theta cells in MEC layer LII: 0/35 , 0.00 of cells in the layer\n",
      "AHV unidir-theta cells in MEC layer LIII: 8/156 , 0.05 of cells in the layer\n",
      "AHV unidir-theta cells in MEC layer LV: 2/68 , 0.03 of cells in the layer\n",
      "AHV unidir-theta cells in MEC layer LVI: 3/133 , 0.02 of cells in the layer\n",
      "PaS\n",
      "AHV unidir-theta cells in PaS layer DEEP: 10/190 , 0.05 of cells in the layer\n",
      "AHV unidir-theta cells in PaS layer SUP: 11/249 , 0.04 of cells in the layer\n",
      "PrS\n",
      "AHV unidir-theta cells in PrS layer DEEP: 14/378 , 0.04 of cells in the layer\n",
      "AHV unidir-theta cells in PrS layer SUP: 7/227 , 0.03 of cells in the layer\n"
     ]
    }
   ],
   "source": [
    "# MEC\n",
    "print(\"MEC\")\n",
    "LayerNames=unique(cellMetadata[(cellMetadata[\"include\"]==1) & (cellMetadata[\"region\"]=='MEC')][\"layer\"].values)\n",
    "MECcells=cellMetadata[(cellMetadata[\"include\"]==1) & (cellMetadata[\"region\"]=='MEC')]\n",
    "for layer in LayerNames:\n",
    "    LayerCells=MECcells[MECcells[\"layer\"]==layer]\n",
    "    modulatedCW=MECcells[(MECcells[\"angularVelocityModulated\"]==1) &(MECcells[\"thetaModulated\"]==1) & (MECcells[\"layer\"]==layer)]\n",
    "    modulatedCCW=MECcells[(MECcells[\"angularVelocityCCWModulated\"]==1) &(MECcells[\"thetaModulated\"]==1) & (MECcells[\"layer\"]==layer)]\n",
    "    modulated=modulatedCW+modulatedCCW\n",
    "    print(\"AHV unidir-theta cells in MEC layer \"+layer+\": \"+str(len(modulated))+\"/\"+str(len(LayerCells))+\" , \"+\"{0:.2f}\".format(len(modulated)/len(LayerCells))+\" of cells in the layer\" )\n",
    "    \n",
    "# PaS\n",
    "print(\"PaS\")\n",
    "LayerNames=unique(cellMetadata[(cellMetadata[\"include\"]==1) & (cellMetadata[\"region\"]=='PaS')][\"layer\"].values)\n",
    "PaScells=cellMetadata[(cellMetadata[\"include\"]==1) & (cellMetadata[\"region\"]=='PaS')]\n",
    "for layer in LayerNames:\n",
    "    LayerCells=PaScells[PaScells[\"layer\"]==layer]\n",
    "    modulatedCW=PaScells[(PaScells[\"angularVelocityModulated\"]==1) &(PaScells[\"thetaModulated\"]==1) & (PaScells[\"layer\"]==layer)]\n",
    "    modulatedCCW=PaScells[(PaScells[\"angularVelocityCCWModulated\"]==1) &(PaScells[\"thetaModulated\"]==1) & (PaScells[\"layer\"]==layer)]\n",
    "    modulated=modulatedCW+modulatedCCW\n",
    "    print(\"AHV unidir-theta cells in PaS layer \"+layer+\": \"+str(len(modulated))+\"/\"+str(len(LayerCells))+\" , \"+\"{0:.2f}\".format(len(modulated)/len(LayerCells))+\" of cells in the layer\" )\n",
    "    \n",
    "#PrS    \n",
    "print(\"PrS\")\n",
    "LayerNames=unique(cellMetadata[(cellMetadata[\"include\"]==1) & (cellMetadata[\"region\"]=='PrS')][\"layer\"].values)\n",
    "PrScells=cellMetadata[(cellMetadata[\"include\"]==1) & (cellMetadata[\"region\"]=='PrS')]\n",
    "for layer in LayerNames:\n",
    "    LayerCells=PrScells[PrScells[\"layer\"]==layer]\n",
    "    modulatedCW=PrScells[(PrScells[\"angularVelocityModulated\"]==1)&(PrScells[\"thetaModulated\"]==1) & (PrScells[\"layer\"]==layer)]\n",
    "    modulatedCCW=PrScells[(PrScells[\"angularVelocityCCWModulated\"]==1)&(PrScells[\"thetaModulated\"]==1) & (PrScells[\"layer\"]==layer)]\n",
    "    modulated=modulatedCW+modulatedCCW\n",
    "    print(\"AHV unidir-theta cells in PrS layer \"+layer+\": \"+str(len(modulated))+\"/\"+str(len(LayerCells))+\" , \"+\"{0:.2f}\".format(len(modulated)/len(LayerCells))+\" of cells in the layer\" )"
   ]
  },
  {
   "cell_type": "markdown",
   "metadata": {},
   "source": [
    "## AHV Bidir"
   ]
  },
  {
   "cell_type": "code",
   "execution_count": 55,
   "metadata": {},
   "outputs": [
    {
     "name": "stdout",
     "output_type": "stream",
     "text": [
      "MEC\n",
      "AHV Bidir-theta cells in MEC layer LII: 0/35 , 0.00 of cells in the layer\n",
      "AHV Bidir-theta cells in MEC layer LIII: 7/156 , 0.04 of cells in the layer\n",
      "AHV Bidir-theta cells in MEC layer LV: 7/68 , 0.10 of cells in the layer\n",
      "AHV Bidir-theta cells in MEC layer LVI: 2/133 , 0.02 of cells in the layer\n",
      "PaS\n",
      "AHV Bidir-theta cells in PaS layer DEEP: 7/190 , 0.04 of cells in the layer\n",
      "AHV Bidir-theta cells in PaS layer SUP: 8/249 , 0.03 of cells in the layer\n",
      "PrS\n",
      "AHV Bidir-theta cells in PrS layer DEEP: 18/378 , 0.05 of cells in the layer\n",
      "AHV Bidir-theta cells in PrS layer SUP: 5/227 , 0.02 of cells in the layer\n"
     ]
    }
   ],
   "source": [
    "# MEC\n",
    "print(\"MEC\")\n",
    "LayerNames=unique(cellMetadata[(cellMetadata[\"include\"]==1) & (cellMetadata[\"region\"]=='MEC')][\"layer\"].values)\n",
    "MECcells=cellMetadata[(cellMetadata[\"include\"]==1) & (cellMetadata[\"region\"]=='MEC')]\n",
    "for layer in LayerNames:\n",
    "    LayerCells=MECcells[MECcells[\"layer\"]==layer]\n",
    "    modulated=MECcells[(MECcells[\"absAngularVelocityModulated\"]==1) &(MECcells[\"thetaModulated\"]==1) & (MECcells[\"layer\"]==layer)]\n",
    "    print(\"AHV Bidir-theta cells in MEC layer \"+layer+\": \"+str(len(modulated))+\"/\"+str(len(LayerCells))+\" , \"+\"{0:.2f}\".format(len(modulated)/len(LayerCells))+\" of cells in the layer\" )\n",
    "    \n",
    "# PaS\n",
    "print(\"PaS\")\n",
    "LayerNames=unique(cellMetadata[(cellMetadata[\"include\"]==1) & (cellMetadata[\"region\"]=='PaS')][\"layer\"].values)\n",
    "PaScells=cellMetadata[(cellMetadata[\"include\"]==1) & (cellMetadata[\"region\"]=='PaS')]\n",
    "for layer in LayerNames:\n",
    "    LayerCells=PaScells[PaScells[\"layer\"]==layer]\n",
    "    modulated=PaScells[(PaScells[\"absAngularVelocityModulated\"]==1) &(PaScells[\"thetaModulated\"]==1)& (PaScells[\"layer\"]==layer)]\n",
    "    print(\"AHV Bidir-theta cells in PaS layer \"+layer+\": \"+str(len(modulated))+\"/\"+str(len(LayerCells))+\" , \"+\"{0:.2f}\".format(len(modulated)/len(LayerCells))+\" of cells in the layer\" )\n",
    "    \n",
    "#PrS    \n",
    "print(\"PrS\")\n",
    "LayerNames=unique(cellMetadata[(cellMetadata[\"include\"]==1) & (cellMetadata[\"region\"]=='PrS')][\"layer\"].values)\n",
    "PrScells=cellMetadata[(cellMetadata[\"include\"]==1) & (cellMetadata[\"region\"]=='PrS')]\n",
    "for layer in LayerNames:\n",
    "    LayerCells=PrScells[PrScells[\"layer\"]==layer]\n",
    "    modulated=PrScells[(PrScells[\"absAngularVelocityModulated\"]==1) &(PrScells[\"thetaModulated\"]==1)& (PrScells[\"layer\"]==layer)]\n",
    "    print(\"AHV Bidir-theta cells in PrS layer \"+layer+\": \"+str(len(modulated))+\"/\"+str(len(LayerCells))+\" , \"+\"{0:.2f}\".format(len(modulated)/len(LayerCells))+\" of cells in the layer\" )"
   ]
  },
  {
   "cell_type": "markdown",
   "metadata": {},
   "source": [
    "## Grid"
   ]
  },
  {
   "cell_type": "code",
   "execution_count": 56,
   "metadata": {},
   "outputs": [
    {
     "name": "stdout",
     "output_type": "stream",
     "text": [
      "MEC\n",
      "grid modulated cells in MEC layer LII: 8/35 , 0.23 of cells in the layer\n",
      "grid modulated cells in MEC layer LIII: 39/156 , 0.25 of cells in the layer\n",
      "grid modulated cells in MEC layer LV: 9/68 , 0.13 of cells in the layer\n",
      "grid modulated cells in MEC layer LVI: 8/133 , 0.06 of cells in the layer\n",
      "PaS\n",
      "grid modulated cells in PaS layer DEEP: 32/190 , 0.17 of cells in the layer\n",
      "grid modulated cells in PaS layer SUP: 22/249 , 0.09 of cells in the layer\n",
      "PrS\n",
      "grid modulated cells in PrS layer DEEP: 25/378 , 0.07 of cells in the layer\n",
      "grid modulated cells in PrS layer SUP: 12/227 , 0.05 of cells in the layer\n"
     ]
    }
   ],
   "source": [
    "# MEC\n",
    "print(\"MEC\")\n",
    "LayerNames=unique(cellMetadata[(cellMetadata[\"include\"]==1) & (cellMetadata[\"region\"]=='MEC')][\"layer\"].values)\n",
    "MECcells=cellMetadata[(cellMetadata[\"include\"]==1) & (cellMetadata[\"region\"]=='MEC')]\n",
    "for layer in LayerNames:\n",
    "    LayerCells=MECcells[MECcells[\"layer\"]==layer]\n",
    "    modulated=MECcells[(MECcells[\"gridModulated\"]==1)&(MECcells[\"thetaModulated\"]==1) & (MECcells[\"layer\"]==layer)]\n",
    "    print(\"grid modulated cells in MEC layer \"+layer+\": \"+str(len(modulated))+\"/\"+str(len(LayerCells))+\" , \"+\"{0:.2f}\".format(len(modulated)/len(LayerCells))+\" of cells in the layer\" )\n",
    "    \n",
    "# PaS\n",
    "print(\"PaS\")\n",
    "LayerNames=unique(cellMetadata[(cellMetadata[\"include\"]==1) & (cellMetadata[\"region\"]=='PaS')][\"layer\"].values)\n",
    "PaScells=cellMetadata[(cellMetadata[\"include\"]==1) & (cellMetadata[\"region\"]=='PaS')]\n",
    "for layer in LayerNames:\n",
    "    LayerCells=PaScells[PaScells[\"layer\"]==layer]\n",
    "    modulated=PaScells[(PaScells[\"gridModulated\"]==1)&(PaScells[\"thetaModulated\"]==1) & (PaScells[\"layer\"]==layer)]\n",
    "    print(\"grid modulated cells in PaS layer \"+layer+\": \"+str(len(modulated))+\"/\"+str(len(LayerCells))+\" , \"+\"{0:.2f}\".format(len(modulated)/len(LayerCells))+\" of cells in the layer\" )\n",
    "    \n",
    "#PrS    \n",
    "print(\"PrS\")\n",
    "LayerNames=unique(cellMetadata[(cellMetadata[\"include\"]==1) & (cellMetadata[\"region\"]=='PrS')][\"layer\"].values)\n",
    "PrScells=cellMetadata[(cellMetadata[\"include\"]==1) & (cellMetadata[\"region\"]=='PrS')]\n",
    "for layer in LayerNames:\n",
    "    LayerCells=PrScells[PrScells[\"layer\"]==layer]\n",
    "    modulated=PrScells[(PrScells[\"gridModulated\"]==1)&(PrScells[\"thetaModulated\"]==1) & (PrScells[\"layer\"]==layer)]\n",
    "    print(\"grid modulated cells in PrS layer \"+layer+\": \"+str(len(modulated))+\"/\"+str(len(LayerCells))+\" , \"+\"{0:.2f}\".format(len(modulated)/len(LayerCells))+\" of cells in the layer\" )"
   ]
  },
  {
   "cell_type": "markdown",
   "metadata": {},
   "source": [
    "## HD"
   ]
  },
  {
   "cell_type": "code",
   "execution_count": 57,
   "metadata": {},
   "outputs": [
    {
     "name": "stdout",
     "output_type": "stream",
     "text": [
      "MEC\n",
      "HD modulated cells in MEC layer LII: 1/35 , 0.03 of cells in the layer\n",
      "HD modulated cells in MEC layer LIII: 56/156 , 0.36 of cells in the layer\n",
      "HD modulated cells in MEC layer LV: 40/68 , 0.59 of cells in the layer\n",
      "HD modulated cells in MEC layer LVI: 18/133 , 0.14 of cells in the layer\n",
      "PaS\n",
      "HD modulated cells in PaS layer DEEP: 78/190 , 0.41 of cells in the layer\n",
      "HD modulated cells in PaS layer SUP: 73/249 , 0.29 of cells in the layer\n",
      "PrS\n",
      "HD modulated cells in PrS layer DEEP: 62/378 , 0.16 of cells in the layer\n",
      "HD modulated cells in PrS layer SUP: 26/227 , 0.11 of cells in the layer\n"
     ]
    }
   ],
   "source": [
    "# MEC\n",
    "print(\"MEC\")\n",
    "LayerNames=unique(cellMetadata[(cellMetadata[\"include\"]==1) & (cellMetadata[\"region\"]=='MEC')][\"layer\"].values)\n",
    "MECcells=cellMetadata[(cellMetadata[\"include\"]==1) & (cellMetadata[\"region\"]=='MEC')]\n",
    "for layer in LayerNames:\n",
    "    LayerCells=MECcells[MECcells[\"layer\"]==layer]\n",
    "    modulated=MECcells[(MECcells[\"HDModulated\"]==1) &(MECcells[\"thetaModulated\"]==1)& (MECcells[\"layer\"]==layer)]\n",
    "    print(\"HD modulated cells in MEC layer \"+layer+\": \"+str(len(modulated))+\"/\"+str(len(LayerCells))+\" , \"+\"{0:.2f}\".format(len(modulated)/len(LayerCells))+\" of cells in the layer\" )\n",
    "    \n",
    "# PaS\n",
    "print(\"PaS\")\n",
    "LayerNames=unique(cellMetadata[(cellMetadata[\"include\"]==1) & (cellMetadata[\"region\"]=='PaS')][\"layer\"].values)\n",
    "PaScells=cellMetadata[(cellMetadata[\"include\"]==1) & (cellMetadata[\"region\"]=='PaS')]\n",
    "for layer in LayerNames:\n",
    "    LayerCells=PaScells[PaScells[\"layer\"]==layer]\n",
    "    modulated=PaScells[(PaScells[\"HDModulated\"]==1)&(PaScells[\"thetaModulated\"]==1) & (PaScells[\"layer\"]==layer)]\n",
    "    print(\"HD modulated cells in PaS layer \"+layer+\": \"+str(len(modulated))+\"/\"+str(len(LayerCells))+\" , \"+\"{0:.2f}\".format(len(modulated)/len(LayerCells))+\" of cells in the layer\" )\n",
    "    \n",
    "#PrS    \n",
    "print(\"PrS\")\n",
    "LayerNames=unique(cellMetadata[(cellMetadata[\"include\"]==1) & (cellMetadata[\"region\"]=='PrS')][\"layer\"].values)\n",
    "PrScells=cellMetadata[(cellMetadata[\"include\"]==1) & (cellMetadata[\"region\"]=='PrS')]\n",
    "for layer in LayerNames:\n",
    "    LayerCells=PrScells[PrScells[\"layer\"]==layer]\n",
    "    modulated=PrScells[(PrScells[\"HDModulated\"]==1) &(PrScells[\"thetaModulated\"]==1)& (PrScells[\"layer\"]==layer)]\n",
    "    print(\"HD modulated cells in PrS layer \"+layer+\": \"+str(len(modulated))+\"/\"+str(len(LayerCells))+\" , \"+\"{0:.2f}\".format(len(modulated)/len(LayerCells))+\" of cells in the layer\" )"
   ]
  },
  {
   "cell_type": "markdown",
   "metadata": {},
   "source": [
    "# AHV BARPLOTS"
   ]
  },
  {
   "cell_type": "code",
   "execution_count": 105,
   "metadata": {},
   "outputs": [],
   "source": [
    "cellMetadata[\"AHVModulated\"]=np.nan\n",
    "for i in range(len(cellMetadata)):\n",
    "    if cellMetadata[\"include\"].values[i]==1:\n",
    "        if (cellMetadata[\"angularVelocityModulated\"].values[i]==1 or cellMetadata[\"angularVelocityCCWModulated\"].values[i]==1 or cellMetadata[\"absAngularVelocityModulated\"].values[i]==1):\n",
    "            cellMetadata[\"AHVModulated\"].values[i]=1\n",
    "        else:\n",
    "            cellMetadata[\"AHVModulated\"].values[i]=0\n",
    "cellMetadata[\"AHVUnidirModulated\"]=np.nan\n",
    "for i in range(len(cellMetadata)):\n",
    "    if cellMetadata[\"include\"].values[i]==1:\n",
    "        if (cellMetadata[\"angularVelocityModulated\"].values[i]==1 or cellMetadata[\"angularVelocityCCWModulated\"].values[i]==1):\n",
    "            cellMetadata[\"AHVUnidirModulated\"].values[i]=1\n",
    "        else:\n",
    "            cellMetadata[\"AHVUnidirModulated\"].values[i]=0"
   ]
  },
  {
   "cell_type": "code",
   "execution_count": 106,
   "metadata": {},
   "outputs": [
    {
     "name": "stdout",
     "output_type": "stream",
     "text": [
      "MEC\n",
      "AHV modulated cells in MEC layer LII: 0/35 , 0.0000 of cells in the layer\n",
      "CW modulated cells in MEC layer LII: 0/35 , 0.0000 of cells in the layer\n",
      "CCW modulated cells in MEC layer LII: 0/35 , 0.0000 of cells in the layer\n",
      "ABS modulated cells in MEC layer LII: 0/35 , 0.0000 of cells in the layer\n",
      "ABS x CW modulated cells in MEC layer LII: 0/35 , 0.0000 of cells in the layer\n",
      "ABS xCCW modulated cells in MEC layer LII: 0/35 , 0.0000 of cells in the layer\n",
      "AHV modulated cells in MEC layer LIII: 32/156 , 0.2051 of cells in the layer\n",
      "CW modulated cells in MEC layer LIII: 11/156 , 0.0705 of cells in the layer\n",
      "CCW modulated cells in MEC layer LIII: 6/156 , 0.0385 of cells in the layer\n",
      "ABS modulated cells in MEC layer LIII: 20/156 , 0.1282 of cells in the layer\n",
      "ABS x CW modulated cells in MEC layer LIII: 3/156 , 0.0192 of cells in the layer\n",
      "ABS xCCW modulated cells in MEC layer LIII: 2/156 , 0.0128 of cells in the layer\n",
      "AHV modulated cells in MEC layer LV: 13/68 , 0.1912 of cells in the layer\n",
      "CW modulated cells in MEC layer LV: 2/68 , 0.0294 of cells in the layer\n",
      "CCW modulated cells in MEC layer LV: 3/68 , 0.0441 of cells in the layer\n",
      "ABS modulated cells in MEC layer LV: 9/68 , 0.1324 of cells in the layer\n",
      "ABS x CW modulated cells in MEC layer LV: 1/68 , 0.0147 of cells in the layer\n",
      "ABS xCCW modulated cells in MEC layer LV: 0/68 , 0.0000 of cells in the layer\n",
      "AHV modulated cells in MEC layer LVI: 22/133 , 0.1654 of cells in the layer\n",
      "CW modulated cells in MEC layer LVI: 5/133 , 0.0376 of cells in the layer\n",
      "CCW modulated cells in MEC layer LVI: 12/133 , 0.0902 of cells in the layer\n",
      "ABS modulated cells in MEC layer LVI: 10/133 , 0.0752 of cells in the layer\n",
      "ABS x CW modulated cells in MEC layer LVI: 1/133 , 0.0075 of cells in the layer\n",
      "ABS xCCW modulated cells in MEC layer LVI: 4/133 , 0.0301 of cells in the layer\n",
      "PaS\n",
      "AHV modulated cells in PaS layer DEEP: 33/190 , 0.1737 of cells in the layer\n",
      "CW modulated cells in PaS layer DEEP: 9/190 , 0.0474 of cells in the layer\n",
      "CCW modulated cells in PaS layer DEEP: 13/190 , 0.0684 of cells in the layer\n",
      "ABS modulated cells in PaS layer DEEP: 15/190 , 0.0789 of cells in the layer\n",
      "ABS x CW modulated cells in PaS layer DEEP: 1/190 , 0.0053 of cells in the layer\n",
      "ABS xCCW modulated cells in PaS layer DEEP: 3/190 , 0.0158 of cells in the layer\n",
      "AHV modulated cells in PaS layer SUP: 42/249 , 0.1687 of cells in the layer\n",
      "CW modulated cells in PaS layer SUP: 15/249 , 0.0602 of cells in the layer\n",
      "CCW modulated cells in PaS layer SUP: 10/249 , 0.0402 of cells in the layer\n",
      "ABS modulated cells in PaS layer SUP: 24/249 , 0.0964 of cells in the layer\n",
      "ABS x CW modulated cells in PaS layer SUP: 2/249 , 0.0080 of cells in the layer\n",
      "ABS xCCW modulated cells in PaS layer SUP: 5/249 , 0.0201 of cells in the layer\n",
      "PrS\n",
      "AHV modulated cells in PrS layer DEEP: 72/378 , 0.1905 of cells in the layer\n",
      "CW modulated cells in PrS layer DEEP: 18/378 , 0.0476 of cells in the layer\n",
      "CCW modulated cells in PrS layer DEEP: 17/378 , 0.0450 of cells in the layer\n",
      "ABS modulated cells in PrS layer DEEP: 46/378 , 0.1217 of cells in the layer\n",
      "ABS x CW modulated cells in PrS layer DEEP: 5/378 , 0.0132 of cells in the layer\n",
      "ABS xCCW modulated cells in PrS layer DEEP: 4/378 , 0.0106 of cells in the layer\n",
      "AHV modulated cells in PrS layer SUP: 32/227 , 0.1410 of cells in the layer\n",
      "CW modulated cells in PrS layer SUP: 9/227 , 0.0396 of cells in the layer\n",
      "CCW modulated cells in PrS layer SUP: 7/227 , 0.0308 of cells in the layer\n",
      "ABS modulated cells in PrS layer SUP: 21/227 , 0.0925 of cells in the layer\n",
      "ABS x CW modulated cells in PrS layer SUP: 2/227 , 0.0088 of cells in the layer\n",
      "ABS xCCW modulated cells in PrS layer SUP: 3/227 , 0.0132 of cells in the layer\n"
     ]
    }
   ],
   "source": [
    "AHVpercentages=[]\n",
    "CWpercentages=[]\n",
    "CCWpercentages=[]\n",
    "ABSpercentages=[]\n",
    "ABS_CWpercentages=[]\n",
    "ABS_CCWpercentages=[]\n",
    "regions=[]\n",
    "# MEC\n",
    "print(\"MEC\")\n",
    "LayerNames=unique(cellMetadata[(cellMetadata[\"include\"]==1) & (cellMetadata[\"region\"]=='MEC')][\"layer\"].values)\n",
    "MECcells=cellMetadata[(cellMetadata[\"include\"]==1) & (cellMetadata[\"region\"]=='MEC')]\n",
    "for layer in LayerNames:\n",
    "    LayerCells=MECcells[MECcells[\"layer\"]==layer]\n",
    "    AHVmodulated=MECcells[(MECcells[\"AHVModulated\"]==1) & (MECcells[\"layer\"]==layer)]\n",
    "    CWmodulated=MECcells[(MECcells[\"angularVelocityModulated\"]==1) & (MECcells[\"layer\"]==layer)]\n",
    "    CCWmodulated=MECcells[(MECcells[\"angularVelocityCCWModulated\"]==1) & (MECcells[\"layer\"]==layer)]\n",
    "    ABSmodulated=MECcells[(MECcells[\"absAngularVelocityModulated\"]==1) & (MECcells[\"layer\"]==layer)]\n",
    "    ABS_CWmodulated=MECcells[(MECcells[\"absAngularVelocityModulated\"]==1) &(MECcells[\"angularVelocityModulated\"]==1)& (MECcells[\"layer\"]==layer)]\n",
    "    ABS_CCWmodulated=MECcells[(MECcells[\"absAngularVelocityModulated\"]==1) &(MECcells[\"angularVelocityCCWModulated\"]==1)& (MECcells[\"layer\"]==layer)]\n",
    "    AHVpercentages.append(len(AHVmodulated)/len(LayerCells))\n",
    "    CWpercentages.append(len(CWmodulated)/len(LayerCells))\n",
    "    CCWpercentages.append(len(CCWmodulated)/len(LayerCells))\n",
    "    ABSpercentages.append(len(ABSmodulated)/len(LayerCells))\n",
    "    ABS_CWpercentages.append(len(ABS_CWmodulated)/len(LayerCells))\n",
    "    ABS_CCWpercentages.append(len(ABS_CCWmodulated)/len(LayerCells))\n",
    "    regions.append(\"MEC\")\n",
    "    print(\"AHV modulated cells in MEC layer \"+layer+\": \"+str(len(AHVmodulated))+\"/\"+str(len(LayerCells))+\" , \"+\"{0:.4f}\".format(len(AHVmodulated)/len(LayerCells))+\" of cells in the layer\" )\n",
    "    print(\"CW modulated cells in MEC layer \"+layer+\": \"+str(len(CWmodulated))+\"/\"+str(len(LayerCells))+\" , \"+\"{0:.4f}\".format(len(CWmodulated)/len(LayerCells))+\" of cells in the layer\" )\n",
    "    print(\"CCW modulated cells in MEC layer \"+layer+\": \"+str(len(CCWmodulated))+\"/\"+str(len(LayerCells))+\" , \"+\"{0:.4f}\".format(len(CCWmodulated)/len(LayerCells))+\" of cells in the layer\" )\n",
    "    print(\"ABS modulated cells in MEC layer \"+layer+\": \"+str(len(ABSmodulated))+\"/\"+str(len(LayerCells))+\" , \"+\"{0:.4f}\".format(len(ABSmodulated)/len(LayerCells))+\" of cells in the layer\" )\n",
    "    print(\"ABS x CW modulated cells in MEC layer \"+layer+\": \"+str(len(ABS_CWmodulated))+\"/\"+str(len(LayerCells))+\" , \"+\"{0:.4f}\".format(len(ABS_CWmodulated)/len(LayerCells))+\" of cells in the layer\" )\n",
    "    print(\"ABS xCCW modulated cells in MEC layer \"+layer+\": \"+str(len(ABS_CCWmodulated))+\"/\"+str(len(LayerCells))+\" , \"+\"{0:.4f}\".format(len(ABS_CCWmodulated)/len(LayerCells))+\" of cells in the layer\" )\n",
    "\n",
    "# PaS\n",
    "print(\"PaS\")\n",
    "LayerNames=unique(cellMetadata[(cellMetadata[\"include\"]==1) & (cellMetadata[\"region\"]=='PaS')][\"layer\"].values)\n",
    "PaScells=cellMetadata[(cellMetadata[\"include\"]==1) & (cellMetadata[\"region\"]=='PaS')]\n",
    "for layer in LayerNames:\n",
    "    LayerCells=PaScells[PaScells[\"layer\"]==layer]\n",
    "    AHVmodulated=PaScells[(PaScells[\"AHVModulated\"]==1) & (PaScells[\"layer\"]==layer)]\n",
    "    CWmodulated=PaScells[(PaScells[\"angularVelocityModulated\"]==1) & (PaScells[\"layer\"]==layer)]\n",
    "    CCWmodulated=PaScells[(PaScells[\"angularVelocityCCWModulated\"]==1) & (PaScells[\"layer\"]==layer)]\n",
    "    ABSmodulated=PaScells[(PaScells[\"absAngularVelocityModulated\"]==1) & (PaScells[\"layer\"]==layer)]\n",
    "    ABS_CWmodulated=PaScells[(PaScells[\"absAngularVelocityModulated\"]==1) &(PaScells[\"angularVelocityModulated\"]==1)& (PaScells[\"layer\"]==layer)]\n",
    "    ABS_CCWmodulated=PaScells[(PaScells[\"absAngularVelocityModulated\"]==1) &(PaScells[\"angularVelocityCCWModulated\"]==1)& (PaScells[\"layer\"]==layer)]\n",
    "    AHVpercentages.append(len(AHVmodulated)/len(LayerCells))\n",
    "    CWpercentages.append(len(CWmodulated)/len(LayerCells))\n",
    "    CCWpercentages.append(len(CCWmodulated)/len(LayerCells))\n",
    "    ABSpercentages.append(len(ABSmodulated)/len(LayerCells))\n",
    "    ABS_CWpercentages.append(len(ABS_CWmodulated)/len(LayerCells))\n",
    "    ABS_CCWpercentages.append(len(ABS_CCWmodulated)/len(LayerCells))\n",
    "    regions.append(\"PaS\")\n",
    "    print(\"AHV modulated cells in PaS layer \"+layer+\": \"+str(len(AHVmodulated))+\"/\"+str(len(LayerCells))+\" , \"+\"{0:.4f}\".format(len(AHVmodulated)/len(LayerCells))+\" of cells in the layer\" )\n",
    "    print(\"CW modulated cells in PaS layer \"+layer+\": \"+str(len(CWmodulated))+\"/\"+str(len(LayerCells))+\" , \"+\"{0:.4f}\".format(len(CWmodulated)/len(LayerCells))+\" of cells in the layer\" )\n",
    "    print(\"CCW modulated cells in PaS layer \"+layer+\": \"+str(len(CCWmodulated))+\"/\"+str(len(LayerCells))+\" , \"+\"{0:.4f}\".format(len(CCWmodulated)/len(LayerCells))+\" of cells in the layer\" )\n",
    "    print(\"ABS modulated cells in PaS layer \"+layer+\": \"+str(len(ABSmodulated))+\"/\"+str(len(LayerCells))+\" , \"+\"{0:.4f}\".format(len(ABSmodulated)/len(LayerCells))+\" of cells in the layer\" )\n",
    "    print(\"ABS x CW modulated cells in PaS layer \"+layer+\": \"+str(len(ABS_CWmodulated))+\"/\"+str(len(LayerCells))+\" , \"+\"{0:.4f}\".format(len(ABS_CWmodulated)/len(LayerCells))+\" of cells in the layer\" )\n",
    "    print(\"ABS xCCW modulated cells in PaS layer \"+layer+\": \"+str(len(ABS_CCWmodulated))+\"/\"+str(len(LayerCells))+\" , \"+\"{0:.4f}\".format(len(ABS_CCWmodulated)/len(LayerCells))+\" of cells in the layer\" )\n",
    "\n",
    "#PrS    \n",
    "print(\"PrS\")\n",
    "LayerNames=unique(cellMetadata[(cellMetadata[\"include\"]==1) & (cellMetadata[\"region\"]=='PrS')][\"layer\"].values)\n",
    "PrScells=cellMetadata[(cellMetadata[\"include\"]==1) & (cellMetadata[\"region\"]=='PrS')]\n",
    "for layer in LayerNames:\n",
    "    LayerCells=PrScells[PrScells[\"layer\"]==layer]\n",
    "    AHVmodulated=PrScells[(PrScells[\"AHVModulated\"]==1) & (PrScells[\"layer\"]==layer)]\n",
    "    CWmodulated=PrScells[(PrScells[\"angularVelocityModulated\"]==1) & (PrScells[\"layer\"]==layer)]\n",
    "    CCWmodulated=PrScells[(PrScells[\"angularVelocityCCWModulated\"]==1) & (PrScells[\"layer\"]==layer)]\n",
    "    ABSmodulated=PrScells[(PrScells[\"absAngularVelocityModulated\"]==1) & (PrScells[\"layer\"]==layer)]\n",
    "    ABS_CWmodulated=PrScells[(PrScells[\"absAngularVelocityModulated\"]==1) &(PrScells[\"angularVelocityModulated\"]==1)& (PrScells[\"layer\"]==layer)]\n",
    "    ABS_CCWmodulated=PrScells[(PrScells[\"absAngularVelocityModulated\"]==1) &(PrScells[\"angularVelocityCCWModulated\"]==1)& (PrScells[\"layer\"]==layer)]\n",
    "    AHVpercentages.append(len(AHVmodulated)/len(LayerCells))\n",
    "    CWpercentages.append(len(CWmodulated)/len(LayerCells))\n",
    "    CCWpercentages.append(len(CCWmodulated)/len(LayerCells))\n",
    "    ABSpercentages.append(len(ABSmodulated)/len(LayerCells))\n",
    "    ABS_CWpercentages.append(len(ABS_CWmodulated)/len(LayerCells))\n",
    "    ABS_CCWpercentages.append(len(ABS_CCWmodulated)/len(LayerCells))\n",
    "    regions.append(\"PrS\")\n",
    "    print(\"AHV modulated cells in PrS layer \"+layer+\": \"+str(len(AHVmodulated))+\"/\"+str(len(LayerCells))+\" , \"+\"{0:.4f}\".format(len(AHVmodulated)/len(LayerCells))+\" of cells in the layer\" )\n",
    "    print(\"CW modulated cells in PrS layer \"+layer+\": \"+str(len(CWmodulated))+\"/\"+str(len(LayerCells))+\" , \"+\"{0:.4f}\".format(len(CWmodulated)/len(LayerCells))+\" of cells in the layer\" )\n",
    "    print(\"CCW modulated cells in PrS layer \"+layer+\": \"+str(len(CCWmodulated))+\"/\"+str(len(LayerCells))+\" , \"+\"{0:.4f}\".format(len(CCWmodulated)/len(LayerCells))+\" of cells in the layer\" )\n",
    "    print(\"ABS modulated cells in PrS layer \"+layer+\": \"+str(len(ABSmodulated))+\"/\"+str(len(LayerCells))+\" , \"+\"{0:.4f}\".format(len(ABSmodulated)/len(LayerCells))+\" of cells in the layer\" )\n",
    "    print(\"ABS x CW modulated cells in PrS layer \"+layer+\": \"+str(len(ABS_CWmodulated))+\"/\"+str(len(LayerCells))+\" , \"+\"{0:.4f}\".format(len(ABS_CWmodulated)/len(LayerCells))+\" of cells in the layer\" )\n",
    "    print(\"ABS xCCW modulated cells in PrS layer \"+layer+\": \"+str(len(ABS_CCWmodulated))+\"/\"+str(len(LayerCells))+\" , \"+\"{0:.4f}\".format(len(ABS_CCWmodulated)/len(LayerCells))+\" of cells in the layer\" )\n"
   ]
  },
  {
   "cell_type": "code",
   "execution_count": 107,
   "metadata": {},
   "outputs": [],
   "source": [
    "MECLayerNames=list(unique(cellMetadata[(cellMetadata[\"include\"]==1) & (cellMetadata[\"region\"]=='MEC')][\"layer\"].values))\n",
    "PASLayerNames=list(unique(cellMetadata[(cellMetadata[\"include\"]==1) & (cellMetadata[\"region\"]=='PaS')][\"layer\"].values))\n",
    "PRSLayerNames=list(unique(cellMetadata[(cellMetadata[\"include\"]==1) & (cellMetadata[\"region\"]=='PrS')][\"layer\"].values))\n",
    "AllLayerNames=MECLayerNames+PASLayerNames+PRSLayerNames\n",
    "BarHandles=[]\n",
    "for i in range(len(AllLayerNames)):\n",
    "    BarHandles.append(regions[i]+\",\"+AllLayerNames[i])"
   ]
  },
  {
   "cell_type": "code",
   "execution_count": 108,
   "metadata": {},
   "outputs": [
    {
     "data": {
      "image/png": "[encoded data removed]",
      "text/plain": [
       "<Figure size 3600x720 with 1 Axes>"
      ]
     },
     "metadata": {},
     "output_type": "display_data"
    }
   ],
   "source": [
    "#BARPLOT\n",
    "# Make a fake dataset:\n",
    "figure(figsize=(50,10))\n",
    "heightAHV = AHVpercentages\n",
    "heightCW = CWpercentages\n",
    "heightCCW = CCWpercentages\n",
    "heightABS = ABSpercentages\n",
    "heightABS_CW = ABS_CWpercentages\n",
    "heightABS_CCW = ABS_CCWpercentages\n",
    "\n",
    "bars=BarHandles\n",
    "y_posAHV = np.arange(len(bars))\n",
    "y_posCW = np.arange(len(bars))+len(bars)\n",
    "y_posCCW = np.arange(len(bars))+2*len(bars)\n",
    "y_posABS = np.arange(len(bars))+3*len(bars)\n",
    "y_posABS_CW = np.arange(len(bars))+4*len(bars)\n",
    "y_posABS_CCW = np.arange(len(bars))+5*len(bars)\n",
    "y_posTOT=np.arange(len(6*bars))\n",
    "# Create bars\n",
    "plt.bar(y_posAHV, heightAHV)\n",
    "plt.bar(y_posCW, heightCW)\n",
    "plt.bar(y_posCCW, heightCCW)\n",
    "plt.bar(y_posABS, heightABS)\n",
    "plt.bar(y_posABS_CW, heightABS_CW)\n",
    "plt.bar(y_posABS_CCW, heightABS_CCW)\n",
    "plt.xticks(y_posTOT,bars+bars+bars+bars+bars+bars)\n",
    "#ylim([0,0.18])\n",
    "# Create names on the x-axis\n",
    "title(\"Blue=all AHV,Orange= CW,Green=CCW, Red= BiDir, Purple= BiDir x CW, Brown=BiDir x CCW\")\n",
    "savefig(\"S2/H4_allAHV_with_subdivision_percentages_by_Layer.svg\")"
   ]
  },
  {
   "cell_type": "markdown",
   "metadata": {},
   "source": [
    "## CW-CCW-ABS"
   ]
  },
  {
   "cell_type": "code",
   "execution_count": 120,
   "metadata": {},
   "outputs": [
    {
     "name": "stdout",
     "output_type": "stream",
     "text": [
      "MEC\n",
      "AHV CW modulated cells in MEC layer LII: 0/0 , 0.0000 of AHV cells in the layer\n",
      "AHV CW modulated cells in MEC layer LIII: 11/32 , 0.3438 of AHV cells in the layer\n",
      "AHV CW modulated cells in MEC layer LV: 2/13 , 0.1538 of AHV cells in the layer\n",
      "AHV CW modulated cells in MEC layer LVI: 5/22 , 0.2273 of AHV cells in the layer\n",
      "PaS\n",
      "AHV CW modulated cells in PaS layer DEEP: 9/33 , 0.2727 of AHV cells in the layer\n",
      "AHV CW modulated cells in PaS layer SUP: 15/42 , 0.3571 of AHV cells in the layer\n",
      "PrS\n",
      "AHV CW modulated cells in PrS layer DEEP: 18/72 , 0.2500 of AHV cells in the layer\n",
      "AHV CW modulated cells in PrS layer SUP: 9/32 , 0.2812 of AHV cells in the layer\n",
      "\n",
      " KS test for uniformity: \n"
     ]
    },
    {
     "data": {
      "text/plain": [
       "KstestResult(statistic=0.6428571428571428, pvalue=0.0009517021213059085)"
      ]
     },
     "execution_count": 120,
     "metadata": {},
     "output_type": "execute_result"
    }
   ],
   "source": [
    "percentages=[]\n",
    "regions=[]\n",
    "# MEC\n",
    "print(\"MEC\")\n",
    "LayerNames=unique(cellMetadata[(cellMetadata[\"include\"]==1) & (cellMetadata[\"region\"]=='MEC')][\"layer\"].values)\n",
    "MECcells=cellMetadata[(cellMetadata[\"include\"]==1) & (cellMetadata[\"region\"]=='MEC')]\n",
    "for layer in LayerNames:\n",
    "    LayerCells=MECcells[(MECcells[\"AHVModulated\"]==1) & (MECcells[\"layer\"]==layer)]\n",
    "    modulated=MECcells[(MECcells[\"angularVelocityModulated\"]==1) & (MECcells[\"layer\"]==layer)]\n",
    "    if len(LayerCells)>0:\n",
    "        a=len(modulated)/len(LayerCells)\n",
    "        percentages.append(a)\n",
    "    else:\n",
    "        percentages.append(0)\n",
    "    regions.append(\"MEC\")\n",
    "    print(\"AHV CW modulated cells in MEC layer \"+layer+\": \"+str(len(modulated))+\"/\"+str(len(LayerCells))+\" , \"+\"{0:.4f}\".format(percentages[-1])+\" of AHV cells in the layer\" )\n",
    "    \n",
    "# PaS\n",
    "print(\"PaS\")\n",
    "LayerNames=unique(cellMetadata[(cellMetadata[\"include\"]==1) & (cellMetadata[\"region\"]=='PaS')][\"layer\"].values)\n",
    "PaScells=cellMetadata[(cellMetadata[\"include\"]==1) & (cellMetadata[\"region\"]=='PaS')]\n",
    "for layer in LayerNames:\n",
    "    LayerCells=PaScells[(PaScells[\"AHVModulated\"]==1) & (PaScells[\"layer\"]==layer)]\n",
    "    modulated=PaScells[(PaScells[\"angularVelocityModulated\"]==1) & (PaScells[\"layer\"]==layer)]\n",
    "    percentages.append(len(modulated)/len(LayerCells))\n",
    "    regions.append(\"PaS\")\n",
    "    print(\"AHV CW modulated cells in PaS layer \"+layer+\": \"+str(len(modulated))+\"/\"+str(len(LayerCells))+\" , \"+\"{0:.4f}\".format(len(modulated)/len(LayerCells))+\" of AHV cells in the layer\" )\n",
    "    \n",
    "#PrS    \n",
    "print(\"PrS\")\n",
    "LayerNames=unique(cellMetadata[(cellMetadata[\"include\"]==1) & (cellMetadata[\"region\"]=='PrS')][\"layer\"].values)\n",
    "PrScells=cellMetadata[(cellMetadata[\"include\"]==1) & (cellMetadata[\"region\"]=='PrS')]\n",
    "for layer in LayerNames:\n",
    "    LayerCells=PrScells[(PrScells[\"AHVModulated\"]==1) & (PrScells[\"layer\"]==layer)]\n",
    "    modulated=PrScells[(PrScells[\"angularVelocityModulated\"]==1) & (PrScells[\"layer\"]==layer)]\n",
    "    if len(LayerCells)>0:\n",
    "        a=len(modulated)/len(LayerCells)\n",
    "        percentages.append(a)\n",
    "    else:\n",
    "        percentages.append(0)\n",
    "    regions.append(\"PrS\")\n",
    "    print(\"AHV CW modulated cells in PrS layer \"+layer+\": \"+str(len(modulated))+\"/\"+str(len(LayerCells))+\" , \"+\"{0:.4f}\".format(percentages[-1])+\" of AHV cells in the layer\" )\n",
    "\n",
    "print(\"\\n KS test for uniformity: \")\n",
    "kstest(percentages,\"uniform\")"
   ]
  },
  {
   "cell_type": "code",
   "execution_count": 116,
   "metadata": {},
   "outputs": [],
   "source": [
    "MECLayerNames=list(unique(cellMetadata[(cellMetadata[\"include\"]==1) & (cellMetadata[\"region\"]=='MEC')][\"layer\"].values))\n",
    "PASLayerNames=list(unique(cellMetadata[(cellMetadata[\"include\"]==1) & (cellMetadata[\"region\"]=='PaS')][\"layer\"].values))\n",
    "PRSLayerNames=list(unique(cellMetadata[(cellMetadata[\"include\"]==1) & (cellMetadata[\"region\"]=='PrS')][\"layer\"].values))\n",
    "AllLayerNames=MECLayerNames+PASLayerNames+PRSLayerNames\n",
    "BarHandles=[]\n",
    "for i in range(len(AllLayerNames)):\n",
    "    BarHandles.append(regions[i]+\",\"+AllLayerNames[i])"
   ]
  },
  {
   "cell_type": "code",
   "execution_count": 117,
   "metadata": {},
   "outputs": [
    {
     "data": {
      "image/png": "[encoded data removed]",
      "text/plain": [
       "<Figure size 1440x720 with 1 Axes>"
      ]
     },
     "metadata": {},
     "output_type": "display_data"
    }
   ],
   "source": [
    "#BARPLOT\n",
    "# Make a fake dataset:\n",
    "figure(figsize=(20,10))\n",
    "height = percentages\n",
    "bars=BarHandles\n",
    "y_pos = np.arange(len(bars))\n",
    "# Create bars\n",
    "plt.bar(y_pos, height)\n",
    "#ylim([0,0.18])\n",
    "# Create names on the x-axis\n",
    "plt.xticks(y_pos, bars)\n",
    "savefig(\"S2/H3_ABS_x_layer_percentages_of_AHV.svg\")"
   ]
  },
  {
   "cell_type": "markdown",
   "metadata": {},
   "source": [
    "## Grid, HD and Grid x HD"
   ]
  },
  {
   "cell_type": "code",
   "execution_count": 38,
   "metadata": {},
   "outputs": [
    {
     "name": "stdout",
     "output_type": "stream",
     "text": [
      "MEC\n",
      "Grid modulated cells in MEC layer LII: 10/35 , 0.2857 of cells in the layer\n",
      "HD modulated cells in MEC layer LII: 1/35 , 0.0286 of cells in the layer\n",
      "Grid x HD modulated cells in MEC layer LII: 0/35 , 0.0000 of cells in the layer\n",
      "Grid modulated cells in MEC layer LIII: 56/156 , 0.3590 of cells in the layer\n",
      "HD modulated cells in MEC layer LIII: 70/156 , 0.4487 of cells in the layer\n",
      "Grid x HD modulated cells in MEC layer LIII: 29/156 , 0.1859 of cells in the layer\n",
      "Grid modulated cells in MEC layer LV: 11/68 , 0.1618 of cells in the layer\n",
      "HD modulated cells in MEC layer LV: 58/68 , 0.8529 of cells in the layer\n",
      "Grid x HD modulated cells in MEC layer LV: 9/68 , 0.1324 of cells in the layer\n",
      "Grid modulated cells in MEC layer LVI: 15/133 , 0.1128 of cells in the layer\n",
      "HD modulated cells in MEC layer LVI: 82/133 , 0.6165 of cells in the layer\n",
      "Grid x HD modulated cells in MEC layer LVI: 5/133 , 0.0376 of cells in the layer\n",
      "PaS\n",
      "Grid modulated cells in PaS layer DEEP: 38/190 , 0.2000 of cells in the layer\n",
      "HD modulated cells in PaS layer DEEP: 122/190 , 0.6421 of cells in the layer\n",
      "Grid x HD modulated cells in PaS layer DEEP: 24/190 , 0.1263 of cells in the layer\n",
      "Grid modulated cells in PaS layer SUP: 36/249 , 0.1446 of cells in the layer\n",
      "HD modulated cells in PaS layer SUP: 128/249 , 0.5141 of cells in the layer\n",
      "Grid x HD modulated cells in PaS layer SUP: 15/249 , 0.0602 of cells in the layer\n",
      "PrS\n",
      "Grid modulated cells in PrS layer DEEP: 65/378 , 0.1720 of cells in the layer\n",
      "HD modulated cells in PrS layer DEEP: 195/378 , 0.5159 of cells in the layer\n",
      "Grid x HD modulated cells in PrS layer DEEP: 17/378 , 0.0450 of cells in the layer\n",
      "Grid modulated cells in PrS layer SUP: 25/227 , 0.1101 of cells in the layer\n",
      "HD modulated cells in PrS layer SUP: 110/227 , 0.4846 of cells in the layer\n",
      "Grid x HD modulated cells in PrS layer SUP: 12/227 , 0.0529 of cells in the layer\n",
      "\n",
      " Grid KS test for uniformity: \n",
      "KstestResult(statistic=0.641025641025641, pvalue=0.0009987641013835535)\n",
      "\n",
      " HD KS test for uniformity: \n",
      "KstestResult(statistic=0.32371794871794873, pvalue=0.3024274497933348)\n",
      "\n",
      " Grid x HD KS test for uniformity: \n",
      "KstestResult(statistic=0.8141025641025641, pvalue=2.892901285411753e-06)\n"
     ]
    }
   ],
   "source": [
    "Gridpercentages=[]\n",
    "HDpercentages=[]\n",
    "GridHDpercentages=[]\n",
    "Grid_modulated_list=[]\n",
    "HD_modulated_list=[]\n",
    "GridHD_modulated_list=[]\n",
    "Grid_tot_num_list=[]\n",
    "HD_tot_num_list=[]\n",
    "GridHD_tot_num_list=[]\n",
    "regions=[]\n",
    "# MEC\n",
    "print(\"MEC\")\n",
    "LayerNames=unique(cellMetadata[(cellMetadata[\"include\"]==1) & (cellMetadata[\"region\"]=='MEC')][\"layer\"].values)\n",
    "MECcells=cellMetadata[(cellMetadata[\"include\"]==1) & (cellMetadata[\"region\"]=='MEC')]\n",
    "for layer in LayerNames:\n",
    "    LayerCells=MECcells[MECcells[\"layer\"]==layer]\n",
    "    Gridmodulated=MECcells[(MECcells[\"gridModulated\"]==1) & (MECcells[\"layer\"]==layer)]\n",
    "    HDmodulated=MECcells[(MECcells[\"HDModulated\"]==1) & (MECcells[\"layer\"]==layer)]\n",
    "    GridHDmodulated=MECcells[(MECcells[\"HDModulated\"]==1)&(MECcells[\"gridModulated\"]==1) & (MECcells[\"layer\"]==layer)]\n",
    "    Gridpercentages.append(len(Gridmodulated)/len(LayerCells))\n",
    "    HDpercentages.append(len(HDmodulated)/len(LayerCells))\n",
    "    GridHDpercentages.append(len(GridHDmodulated)/len(LayerCells))\n",
    "    Grid_modulated_list.append(len(Gridmodulated))\n",
    "    Grid_tot_num_list.append(len(LayerCells))\n",
    "    HD_modulated_list.append(len(HDmodulated))\n",
    "    HD_tot_num_list.append(len(LayerCells))\n",
    "    GridHD_modulated_list.append(len(GridHDmodulated))\n",
    "    GridHD_tot_num_list.append(len(LayerCells))\n",
    "    regions.append(\"MEC\")\n",
    "    print(\"Grid modulated cells in MEC layer \"+layer+\": \"+str(len(Gridmodulated))+\"/\"+str(len(LayerCells))+\" , \"+\"{0:.4f}\".format(len(Gridmodulated)/len(LayerCells))+\" of cells in the layer\" )\n",
    "    print(\"HD modulated cells in MEC layer \"+layer+\": \"+str(len(HDmodulated))+\"/\"+str(len(LayerCells))+\" , \"+\"{0:.4f}\".format(len(HDmodulated)/len(LayerCells))+\" of cells in the layer\" )\n",
    "    print(\"Grid x HD modulated cells in MEC layer \"+layer+\": \"+str(len(GridHDmodulated))+\"/\"+str(len(LayerCells))+\" , \"+\"{0:.4f}\".format(len(GridHDmodulated)/len(LayerCells))+\" of cells in the layer\" )\n",
    "\n",
    "# PaS\n",
    "print(\"PaS\")\n",
    "LayerNames=unique(cellMetadata[(cellMetadata[\"include\"]==1) & (cellMetadata[\"region\"]=='PaS')][\"layer\"].values)\n",
    "PaScells=cellMetadata[(cellMetadata[\"include\"]==1) & (cellMetadata[\"region\"]=='PaS')]\n",
    "for layer in LayerNames:\n",
    "    LayerCells=PaScells[PaScells[\"layer\"]==layer]\n",
    "    Gridmodulated=PaScells[(PaScells[\"gridModulated\"]==1) & (PaScells[\"layer\"]==layer)]\n",
    "    HDmodulated=PaScells[(PaScells[\"HDModulated\"]==1) & (PaScells[\"layer\"]==layer)]\n",
    "    GridHDmodulated=PaScells[(PaScells[\"HDModulated\"]==1)&(PaScells[\"gridModulated\"]==1) & (PaScells[\"layer\"]==layer)]\n",
    "    Gridpercentages.append(len(Gridmodulated)/len(LayerCells))\n",
    "    HDpercentages.append(len(HDmodulated)/len(LayerCells))\n",
    "    GridHDpercentages.append(len(GridHDmodulated)/len(LayerCells))\n",
    "    Grid_modulated_list.append(len(Gridmodulated))\n",
    "    Grid_tot_num_list.append(len(LayerCells))\n",
    "    HD_modulated_list.append(len(HDmodulated))\n",
    "    HD_tot_num_list.append(len(LayerCells))\n",
    "    GridHD_modulated_list.append(len(GridHDmodulated))\n",
    "    GridHD_tot_num_list.append(len(LayerCells))\n",
    "    regions.append(\"PaS\")\n",
    "    print(\"Grid modulated cells in PaS layer \"+layer+\": \"+str(len(Gridmodulated))+\"/\"+str(len(LayerCells))+\" , \"+\"{0:.4f}\".format(len(Gridmodulated)/len(LayerCells))+\" of cells in the layer\" )\n",
    "    print(\"HD modulated cells in PaS layer \"+layer+\": \"+str(len(HDmodulated))+\"/\"+str(len(LayerCells))+\" , \"+\"{0:.4f}\".format(len(HDmodulated)/len(LayerCells))+\" of cells in the layer\" )\n",
    "    print(\"Grid x HD modulated cells in PaS layer \"+layer+\": \"+str(len(GridHDmodulated))+\"/\"+str(len(LayerCells))+\" , \"+\"{0:.4f}\".format(len(GridHDmodulated)/len(LayerCells))+\" of cells in the layer\" )\n",
    "    \n",
    "# PrS\n",
    "print(\"PrS\")\n",
    "LayerNames=unique(cellMetadata[(cellMetadata[\"include\"]==1) & (cellMetadata[\"region\"]=='PrS')][\"layer\"].values)\n",
    "PrScells=cellMetadata[(cellMetadata[\"include\"]==1) & (cellMetadata[\"region\"]=='PrS')]\n",
    "for layer in LayerNames:\n",
    "    LayerCells=PrScells[PrScells[\"layer\"]==layer]\n",
    "    Gridmodulated=PrScells[(PrScells[\"gridModulated\"]==1) & (PrScells[\"layer\"]==layer)]\n",
    "    HDmodulated=PrScells[(PrScells[\"HDModulated\"]==1) & (PrScells[\"layer\"]==layer)]\n",
    "    GridHDmodulated=PrScells[(PrScells[\"HDModulated\"]==1)&(PrScells[\"gridModulated\"]==1) & (PrScells[\"layer\"]==layer)]\n",
    "    Gridpercentages.append(len(Gridmodulated)/len(LayerCells))\n",
    "    HDpercentages.append(len(HDmodulated)/len(LayerCells))\n",
    "    GridHDpercentages.append(len(GridHDmodulated)/len(LayerCells))\n",
    "    Grid_modulated_list.append(len(Gridmodulated))\n",
    "    Grid_tot_num_list.append(len(LayerCells))\n",
    "    HD_modulated_list.append(len(HDmodulated))\n",
    "    HD_tot_num_list.append(len(LayerCells))\n",
    "    GridHD_modulated_list.append(len(GridHDmodulated))\n",
    "    GridHD_tot_num_list.append(len(LayerCells))\n",
    "    regions.append(\"PrS\")\n",
    "    print(\"Grid modulated cells in PrS layer \"+layer+\": \"+str(len(Gridmodulated))+\"/\"+str(len(LayerCells))+\" , \"+\"{0:.4f}\".format(len(Gridmodulated)/len(LayerCells))+\" of cells in the layer\" )\n",
    "    print(\"HD modulated cells in PrS layer \"+layer+\": \"+str(len(HDmodulated))+\"/\"+str(len(LayerCells))+\" , \"+\"{0:.4f}\".format(len(HDmodulated)/len(LayerCells))+\" of cells in the layer\" )\n",
    "    print(\"Grid x HD modulated cells in PrS layer \"+layer+\": \"+str(len(GridHDmodulated))+\"/\"+str(len(LayerCells))+\" , \"+\"{0:.4f}\".format(len(GridHDmodulated)/len(LayerCells))+\" of cells in the layer\" )\n",
    "\n",
    "    \n",
    "print(\"\\n Grid KS test for uniformity: \")\n",
    "print(kstest(Gridpercentages,\"uniform\"))\n",
    "print(\"\\n HD KS test for uniformity: \")\n",
    "print(kstest(HDpercentages,\"uniform\"))\n",
    "print(\"\\n Grid x HD KS test for uniformity: \")\n",
    "print(kstest(GridHDpercentages,\"uniform\"))"
   ]
  },
  {
   "cell_type": "code",
   "execution_count": 36,
   "metadata": {},
   "outputs": [],
   "source": [
    "MECLayerNames=list(unique(cellMetadata[(cellMetadata[\"include\"]==1) & (cellMetadata[\"region\"]=='MEC')][\"layer\"].values))\n",
    "PASLayerNames=list(unique(cellMetadata[(cellMetadata[\"include\"]==1) & (cellMetadata[\"region\"]=='PaS')][\"layer\"].values))\n",
    "PRSLayerNames=list(unique(cellMetadata[(cellMetadata[\"include\"]==1) & (cellMetadata[\"region\"]=='PrS')][\"layer\"].values))\n",
    "AllLayerNames=MECLayerNames+PASLayerNames+PRSLayerNames\n",
    "BarHandles=[]\n",
    "for i in range(len(AllLayerNames)):\n",
    "    BarHandles.append(regions[i]+\",\"+AllLayerNames[i])"
   ]
  },
  {
   "cell_type": "code",
   "execution_count": 39,
   "metadata": {},
   "outputs": [
    {
     "name": "stdout",
     "output_type": "stream",
     "text": [
      "GRID\n",
      "MEC LII : zstat=1.6317533474045525, pvalue=0.10273145682029036\n",
      "MEC LIII : zstat=5.399956167313326, pvalue=6.665718152997935e-08\n",
      "MEC LV : zstat=-0.3481102401030846, pvalue=0.7277573942456802\n",
      "MEC LVI : zstat=-1.9115000435881038, pvalue=0.05594035120167476\n",
      "PaS DEEP : zstat=0.7312883714214498, pvalue=0.46460303179923546\n",
      "PaS SUP : zstat=-1.2967941241257492, pvalue=0.19470203298115185\n",
      "PrS DEEP : zstat=-0.2862555493593853, pvalue=0.774682400652928\n",
      "PrS SUP : zstat=-2.545871383013575, pvalue=0.010900534300515909\n"
     ]
    }
   ],
   "source": [
    "# SINGLE LAYER ENRICHMENT TEST\n",
    "print(\"GRID\")\n",
    "from statsmodels.stats import proportion\n",
    "for i in range(len(percentages)):\n",
    "    count=[Grid_modulated_list[i],sum(Grid_modulated_list)]\n",
    "    nobs=[Grid_tot_num_list[i],sum(Grid_tot_num_list)]\n",
    "    zstat,pv=proportion.proportions_ztest(count,nobs)\n",
    "    print(regions[i]+\" \"+ AllLayerNames[i]+\" : zstat=\"+str(zstat)+\", pvalue=\"+str(pv))"
   ]
  },
  {
   "cell_type": "code",
   "execution_count": 40,
   "metadata": {},
   "outputs": [
    {
     "name": "stdout",
     "output_type": "stream",
     "text": [
      "HD\n",
      "MEC LII : zstat=-5.907449506514661, pvalue=3.4744477191510876e-09\n",
      "MEC LIII : zstat=-2.012206964362684, pvalue=0.04419812466729045\n",
      "MEC LV : zstat=5.172836761313967, pvalue=2.3056643330439615e-07\n",
      "MEC LVI : zstat=1.840048409092013, pvalue=0.06576113052055685\n",
      "PaS DEEP : zstat=2.827649514071061, pvalue=0.004689111305995259\n",
      "PaS SUP : zstat=-0.5653905497409503, pvalue=0.5718081509753725\n",
      "PrS DEEP : zstat=-0.6083605733830875, pvalue=0.5429483546149076\n",
      "PrS SUP : zstat=-1.3696644269760625, pvalue=0.17079167799563166\n"
     ]
    }
   ],
   "source": [
    "# SINGLE LAYER ENRICHMENT TEST\n",
    "print(\"HD\")\n",
    "from statsmodels.stats import proportion\n",
    "for i in range(len(percentages)):\n",
    "    count=[HD_modulated_list[i],sum(HD_modulated_list)]\n",
    "    nobs=[HD_tot_num_list[i],sum(HD_tot_num_list)]\n",
    "    zstat,pv=proportion.proportions_ztest(count,nobs)\n",
    "    print(regions[i]+\" \"+ AllLayerNames[i]+\" : zstat=\"+str(zstat)+\", pvalue=\"+str(pv))"
   ]
  },
  {
   "cell_type": "code",
   "execution_count": 71,
   "metadata": {},
   "outputs": [
    {
     "data": {
      "image/png": "[encoded data removed]",
      "text/plain": [
       "<Figure size 1440x720 with 1 Axes>"
      ]
     },
     "metadata": {},
     "output_type": "display_data"
    }
   ],
   "source": [
    "#BARPLOT\n",
    "# Make a fake dataset:\n",
    "figure(figsize=(20,10))\n",
    "heightGrid = Gridpercentages\n",
    "heightHD = HDpercentages\n",
    "heightGridHD = GridHDpercentages\n",
    "bars=BarHandles\n",
    "y_pos = np.arange(len(bars))\n",
    "# Create bars\n",
    "plt.bar(y_pos, heightHD)\n",
    "plt.bar(y_pos, heightGrid)\n",
    "plt.bar(y_pos, heightGridHD)\n",
    "#ylim([0,0.18])\n",
    "# Create names on the x-axis\n",
    "plt.xticks(y_pos, bars)\n",
    "title(\"Blue=HD,Orange=Grid,Green=Grid x HD\")\n",
    "savefig(\"S5/H1_Grid_HD_GridxHD_percentages_by_Layer.svg\")"
   ]
  },
  {
   "cell_type": "markdown",
   "metadata": {},
   "source": [
    "## Grid, HD and Grid x HD a conjunction with SPEED"
   ]
  },
  {
   "cell_type": "code",
   "execution_count": 122,
   "metadata": {
    "scrolled": true
   },
   "outputs": [
    {
     "name": "stdout",
     "output_type": "stream",
     "text": [
      "MEC\n",
      "Grid modulated SPEED cells in MEC layer LII: 1/35 , 0.0286 of cells in the layer\n",
      "HD modulated SPEED cells in MEC layer LII: 0/35 , 0.0000 of cells in the layer\n",
      "Grid x HD modulated SPEED cells in MEC layer LII: 0/35 , 0.0000 of cells in the layer\n",
      "Grid modulated SPEED cells in MEC layer LIII: 12/156 , 0.0769 of cells in the layer\n",
      "HD modulated SPEED cells in MEC layer LIII: 6/156 , 0.0385 of cells in the layer\n",
      "Grid x HD modulated SPEED cells in MEC layer LIII: 2/156 , 0.0128 of cells in the layer\n",
      "Grid modulated SPEED cells in MEC layer LV: 1/68 , 0.0147 of cells in the layer\n",
      "HD modulated SPEED cells in MEC layer LV: 5/68 , 0.0735 of cells in the layer\n",
      "Grid x HD modulated SPEED cells in MEC layer LV: 0/68 , 0.0000 of cells in the layer\n",
      "Grid modulated SPEED cells in MEC layer LVI: 1/133 , 0.0075 of cells in the layer\n",
      "HD modulated SPEED cells in MEC layer LVI: 9/133 , 0.0677 of cells in the layer\n",
      "Grid x HD modulated SPEED cells in MEC layer LVI: 0/133 , 0.0000 of cells in the layer\n",
      "PaS\n",
      "Grid modulated SPEEDcells in PaS layer DEEP: 6/190 , 0.0316 of cells in the layer\n",
      "HD modulated SPEED cells in PaS layer DEEP: 26/190 , 0.1368 of cells in the layer\n",
      "Grid x HD modulated SPEED cells in PaS layer DEEP: 3/190 , 0.0158 of cells in the layer\n",
      "Grid modulated SPEEDcells in PaS layer SUP: 5/249 , 0.0201 of cells in the layer\n",
      "HD modulated SPEED cells in PaS layer SUP: 14/249 , 0.0562 of cells in the layer\n",
      "Grid x HD modulated SPEED cells in PaS layer SUP: 0/249 , 0.0000 of cells in the layer\n",
      "PrS\n",
      "Grid modulated SPEED cells in PrS layer DEEP: 23/378 , 0.0608 of cells in the layer\n",
      "HD modulated SPEED cells in PrS layer DEEP: 27/378 , 0.0714 of cells in the layer\n",
      "Grid x HD modulated SPEED cells in PrS layer DEEP: 3/378 , 0.0079 of cells in the layer\n",
      "Grid modulated SPEED cells in PrS layer SUP: 3/227 , 0.0132 of cells in the layer\n",
      "HD modulated SPEED cells in PrS layer SUP: 11/227 , 0.0485 of cells in the layer\n",
      "Grid x HD modulated SPEED cells in PrS layer SUP: 1/227 , 0.0044 of cells in the layer\n",
      "\n",
      " Grid KS test for uniformity: \n",
      "KstestResult(statistic=0.9230769230769231, pvalue=2.451789438140395e-09)\n",
      "\n",
      " HD KS test for uniformity: \n",
      "KstestResult(statistic=0.8631578947368421, pvalue=2.4591712244337316e-07)\n",
      "\n",
      " Grid x HD KS test for uniformity: \n",
      "KstestResult(statistic=0.9842105263157894, pvalue=7.771561172376096e-15)\n"
     ]
    }
   ],
   "source": [
    "Gridpercentages=[]\n",
    "HDpercentages=[]\n",
    "GridHDpercentages=[]\n",
    "regions=[]\n",
    "# MEC\n",
    "print(\"MEC\")\n",
    "LayerNames=unique(cellMetadata[(cellMetadata[\"include\"]==1) & (cellMetadata[\"region\"]=='MEC')][\"layer\"].values)\n",
    "MECcells=cellMetadata[(cellMetadata[\"include\"]==1) & (cellMetadata[\"region\"]=='MEC')]\n",
    "for layer in LayerNames:\n",
    "    LayerCells=MECcells[MECcells[\"layer\"]==layer]\n",
    "    Gridmodulated=MECcells[(MECcells[\"speedModulated\"]==1) &(MECcells[\"gridModulated\"]==1) & (MECcells[\"layer\"]==layer)]\n",
    "    HDmodulated=MECcells[(MECcells[\"speedModulated\"]==1) &(MECcells[\"HDModulated\"]==1) & (MECcells[\"layer\"]==layer)]\n",
    "    GridHDmodulated=MECcells[(MECcells[\"speedModulated\"]==1) &(MECcells[\"HDModulated\"]==1)&(MECcells[\"gridModulated\"]==1) & (MECcells[\"layer\"]==layer)]\n",
    "    Gridpercentages.append(len(Gridmodulated)/len(LayerCells))\n",
    "    HDpercentages.append(len(HDmodulated)/len(LayerCells))\n",
    "    GridHDpercentages.append(len(GridHDmodulated)/len(LayerCells))\n",
    "    regions.append(\"MEC\")\n",
    "    print(\"Grid modulated SPEED cells in MEC layer \"+layer+\": \"+str(len(Gridmodulated))+\"/\"+str(len(LayerCells))+\" , \"+\"{0:.4f}\".format(len(Gridmodulated)/len(LayerCells))+\" of cells in the layer\" )\n",
    "    print(\"HD modulated SPEED cells in MEC layer \"+layer+\": \"+str(len(HDmodulated))+\"/\"+str(len(LayerCells))+\" , \"+\"{0:.4f}\".format(len(HDmodulated)/len(LayerCells))+\" of cells in the layer\" )\n",
    "    print(\"Grid x HD modulated SPEED cells in MEC layer \"+layer+\": \"+str(len(GridHDmodulated))+\"/\"+str(len(LayerCells))+\" , \"+\"{0:.4f}\".format(len(GridHDmodulated)/len(LayerCells))+\" of cells in the layer\" )\n",
    "\n",
    "# PaS\n",
    "print(\"PaS\")\n",
    "LayerNames=unique(cellMetadata[(cellMetadata[\"include\"]==1) & (cellMetadata[\"region\"]=='PaS')][\"layer\"].values)\n",
    "PaScells=cellMetadata[(cellMetadata[\"include\"]==1) & (cellMetadata[\"region\"]=='PaS')]\n",
    "for layer in LayerNames:\n",
    "    LayerCells=PaScells[PaScells[\"layer\"]==layer]\n",
    "    Gridmodulated=PaScells[(PaScells[\"speedModulated\"]==1) &(PaScells[\"gridModulated\"]==1) & (PaScells[\"layer\"]==layer)]\n",
    "    HDmodulated=PaScells[(PaScells[\"speedModulated\"]==1) &(PaScells[\"HDModulated\"]==1) & (PaScells[\"layer\"]==layer)]\n",
    "    GridHDmodulated=PaScells[(PaScells[\"speedModulated\"]==1) &(PaScells[\"HDModulated\"]==1)&(PaScells[\"gridModulated\"]==1) & (PaScells[\"layer\"]==layer)]\n",
    "    Gridpercentages.append(len(Gridmodulated)/len(LayerCells))\n",
    "    HDpercentages.append(len(HDmodulated)/len(LayerCells))\n",
    "    GridHDpercentages.append(len(GridHDmodulated)/len(LayerCells))\n",
    "    regions.append(\"PaS\")\n",
    "    print(\"Grid modulated SPEEDcells in PaS layer \"+layer+\": \"+str(len(Gridmodulated))+\"/\"+str(len(LayerCells))+\" , \"+\"{0:.4f}\".format(len(Gridmodulated)/len(LayerCells))+\" of cells in the layer\" )\n",
    "    print(\"HD modulated SPEED cells in PaS layer \"+layer+\": \"+str(len(HDmodulated))+\"/\"+str(len(LayerCells))+\" , \"+\"{0:.4f}\".format(len(HDmodulated)/len(LayerCells))+\" of cells in the layer\" )\n",
    "    print(\"Grid x HD modulated SPEED cells in PaS layer \"+layer+\": \"+str(len(GridHDmodulated))+\"/\"+str(len(LayerCells))+\" , \"+\"{0:.4f}\".format(len(GridHDmodulated)/len(LayerCells))+\" of cells in the layer\" )\n",
    "    \n",
    "# PrS\n",
    "print(\"PrS\")\n",
    "LayerNames=unique(cellMetadata[(cellMetadata[\"include\"]==1) & (cellMetadata[\"region\"]=='PrS')][\"layer\"].values)\n",
    "PrScells=cellMetadata[(cellMetadata[\"include\"]==1) & (cellMetadata[\"region\"]=='PrS')]\n",
    "for layer in LayerNames:\n",
    "    LayerCells=PrScells[PrScells[\"layer\"]==layer]\n",
    "    Gridmodulated=PrScells[(PrScells[\"speedModulated\"]==1) &(PrScells[\"gridModulated\"]==1) & (PrScells[\"layer\"]==layer)]\n",
    "    HDmodulated=PrScells[(PrScells[\"speedModulated\"]==1) &(PrScells[\"HDModulated\"]==1) & (PrScells[\"layer\"]==layer)]\n",
    "    GridHDmodulated=PrScells[(PrScells[\"speedModulated\"]==1) &(PrScells[\"HDModulated\"]==1)&(PrScells[\"gridModulated\"]==1) & (PrScells[\"layer\"]==layer)]\n",
    "    Gridpercentages.append(len(Gridmodulated)/len(LayerCells))\n",
    "    HDpercentages.append(len(HDmodulated)/len(LayerCells))\n",
    "    GridHDpercentages.append(len(GridHDmodulated)/len(LayerCells))\n",
    "    regions.append(\"PrS\")\n",
    "    print(\"Grid modulated SPEED cells in PrS layer \"+layer+\": \"+str(len(Gridmodulated))+\"/\"+str(len(LayerCells))+\" , \"+\"{0:.4f}\".format(len(Gridmodulated)/len(LayerCells))+\" of cells in the layer\" )\n",
    "    print(\"HD modulated SPEED cells in PrS layer \"+layer+\": \"+str(len(HDmodulated))+\"/\"+str(len(LayerCells))+\" , \"+\"{0:.4f}\".format(len(HDmodulated)/len(LayerCells))+\" of cells in the layer\" )\n",
    "    print(\"Grid x HD modulated SPEED cells in PrS layer \"+layer+\": \"+str(len(GridHDmodulated))+\"/\"+str(len(LayerCells))+\" , \"+\"{0:.4f}\".format(len(GridHDmodulated)/len(LayerCells))+\" of cells in the layer\" )\n",
    "\n",
    "    \n",
    "print(\"\\n Grid KS test for uniformity: \")\n",
    "print(kstest(Gridpercentages,\"uniform\"))\n",
    "print(\"\\n HD KS test for uniformity: \")\n",
    "print(kstest(HDpercentages,\"uniform\"))\n",
    "print(\"\\n Grid x HD KS test for uniformity: \")\n",
    "print(kstest(GridHDpercentages,\"uniform\"))"
   ]
  },
  {
   "cell_type": "code",
   "execution_count": 73,
   "metadata": {},
   "outputs": [],
   "source": [
    "MECLayerNames=list(unique(cellMetadata[(cellMetadata[\"include\"]==1) & (cellMetadata[\"region\"]=='MEC')][\"layer\"].values))\n",
    "PASLayerNames=list(unique(cellMetadata[(cellMetadata[\"include\"]==1) & (cellMetadata[\"region\"]=='PaS')][\"layer\"].values))\n",
    "PRSLayerNames=list(unique(cellMetadata[(cellMetadata[\"include\"]==1) & (cellMetadata[\"region\"]=='PrS')][\"layer\"].values))\n",
    "AllLayerNames=MECLayerNames+PASLayerNames+PRSLayerNames\n",
    "BarHandles=[]\n",
    "for i in range(len(AllLayerNames)):\n",
    "    BarHandles.append(regions[i]+\",\"+AllLayerNames[i])"
   ]
  },
  {
   "cell_type": "code",
   "execution_count": 75,
   "metadata": {},
   "outputs": [
    {
     "data": {
      "image/png": "[encoded data removed]",
      "text/plain": [
       "<Figure size 2160x720 with 1 Axes>"
      ]
     },
     "metadata": {},
     "output_type": "display_data"
    }
   ],
   "source": [
    "#BARPLOT\n",
    "# Make a fake dataset:\n",
    "figure(figsize=(30,10))\n",
    "heightGrid = Gridpercentages\n",
    "heightHD = HDpercentages\n",
    "heightGridHD = GridHDpercentages\n",
    "bars=BarHandles\n",
    "y_posHD = np.arange(len(bars))\n",
    "y_posGrid = np.arange(len(bars))+len(bars)\n",
    "y_posGridHD = np.arange(len(bars))+2*len(bars)\n",
    "y_posTOT=np.arange(len(3*bars))\n",
    "# Create bars\n",
    "plt.bar(y_posHD, heightHD)\n",
    "plt.bar(y_posGrid, heightGrid)\n",
    "plt.bar(y_posGridHD, heightGridHD)\n",
    "plt.xticks(y_posTOT, bars+bars+bars)\n",
    "#ylim([0,0.18])\n",
    "# Create names on the x-axis\n",
    "title(\"Blue=HD,Orange=Grid,Green=Grid x HD\")\n",
    "savefig(\"S5/H2_SPEED_Grid_HD_GridxHD_percentages_by_Layer.svg\")"
   ]
  },
  {
   "cell_type": "markdown",
   "metadata": {},
   "source": [
    "## Grid, HD and Grid x HD a conjunction with AHV"
   ]
  },
  {
   "cell_type": "code",
   "execution_count": 123,
   "metadata": {},
   "outputs": [
    {
     "name": "stdout",
     "output_type": "stream",
     "text": [
      "MEC\n",
      "Grid modulated AHV cells in MEC layer LII: 0/35 , 0.0000 of cells in the layer\n",
      "HD modulated AHV cells in MEC layer LII: 0/35 , 0.0000 of cells in the layer\n",
      "Grid x HD modulated AHV cells in MEC layer LII: 0/35 , 0.0000 of cells in the layer\n",
      "Grid modulated AHV cells in MEC layer LIII: 8/156 , 0.0513 of cells in the layer\n",
      "HD modulated AHV cells in MEC layer LIII: 12/156 , 0.0769 of cells in the layer\n",
      "Grid x HD modulated AHV cells in MEC layer LIII: 4/156 , 0.0256 of cells in the layer\n",
      "Grid modulated AHV cells in MEC layer LV: 2/68 , 0.0294 of cells in the layer\n",
      "HD modulated AHV cells in MEC layer LV: 10/68 , 0.1471 of cells in the layer\n",
      "Grid x HD modulated AHV cells in MEC layer LV: 2/68 , 0.0294 of cells in the layer\n",
      "Grid modulated AHV cells in MEC layer LVI: 0/133 , 0.0000 of cells in the layer\n",
      "HD modulated AHV cells in MEC layer LVI: 14/133 , 0.1053 of cells in the layer\n",
      "Grid x HD modulated AHV cells in MEC layer LVI: 0/133 , 0.0000 of cells in the layer\n",
      "PaS\n",
      "Grid modulated AHVcells in PaS layer DEEP: 3/190 , 0.0158 of cells in the layer\n",
      "HD modulated AHV cells in PaS layer DEEP: 21/190 , 0.1105 of cells in the layer\n",
      "Grid x HD modulated AHV cells in PaS layer DEEP: 1/190 , 0.0053 of cells in the layer\n",
      "Grid modulated AHVcells in PaS layer SUP: 5/249 , 0.0201 of cells in the layer\n",
      "HD modulated AHV cells in PaS layer SUP: 21/249 , 0.0843 of cells in the layer\n",
      "Grid x HD modulated AHV cells in PaS layer SUP: 2/249 , 0.0080 of cells in the layer\n",
      "PrS\n",
      "Grid modulated AHV cells in PrS layer DEEP: 13/378 , 0.0344 of cells in the layer\n",
      "HD modulated AHV cells in PrS layer DEEP: 38/378 , 0.1005 of cells in the layer\n",
      "Grid x HD modulated AHV cells in PrS layer DEEP: 5/378 , 0.0132 of cells in the layer\n",
      "Grid modulated AHV cells in PrS layer SUP: 2/227 , 0.0088 of cells in the layer\n",
      "HD modulated AHV cells in PrS layer SUP: 20/227 , 0.0881 of cells in the layer\n",
      "Grid x HD modulated AHV cells in PrS layer SUP: 0/227 , 0.0000 of cells in the layer\n",
      "\n",
      " Grid KS test for uniformity: \n",
      "KstestResult(statistic=0.9487179487179487, pvalue=9.566503145208571e-11)\n",
      "\n",
      " HD KS test for uniformity: \n",
      "KstestResult(statistic=0.8529411764705882, pvalue=4.3751517697643294e-07)\n",
      "\n",
      " Grid x HD KS test for uniformity: \n",
      "KstestResult(statistic=0.9705882352941176, pvalue=1.119992987241858e-12)\n"
     ]
    }
   ],
   "source": [
    "Gridpercentages=[]\n",
    "HDpercentages=[]\n",
    "GridHDpercentages=[]\n",
    "regions=[]\n",
    "# MEC\n",
    "print(\"MEC\")\n",
    "LayerNames=unique(cellMetadata[(cellMetadata[\"include\"]==1) & (cellMetadata[\"region\"]=='MEC')][\"layer\"].values)\n",
    "MECcells=cellMetadata[(cellMetadata[\"include\"]==1) & (cellMetadata[\"region\"]=='MEC')]\n",
    "for layer in LayerNames:\n",
    "    LayerCells=MECcells[MECcells[\"layer\"]==layer]\n",
    "    Gridmodulated=MECcells[(MECcells[\"AHVModulated\"]==1) &(MECcells[\"gridModulated\"]==1) & (MECcells[\"layer\"]==layer)]\n",
    "    HDmodulated=MECcells[(MECcells[\"AHVModulated\"]==1) &(MECcells[\"HDModulated\"]==1) & (MECcells[\"layer\"]==layer)]\n",
    "    GridHDmodulated=MECcells[(MECcells[\"AHVModulated\"]==1) &(MECcells[\"HDModulated\"]==1)&(MECcells[\"gridModulated\"]==1) & (MECcells[\"layer\"]==layer)]\n",
    "    Gridpercentages.append(len(Gridmodulated)/len(LayerCells))\n",
    "    HDpercentages.append(len(HDmodulated)/len(LayerCells))\n",
    "    GridHDpercentages.append(len(GridHDmodulated)/len(LayerCells))\n",
    "    regions.append(\"MEC\")\n",
    "    print(\"Grid modulated AHV cells in MEC layer \"+layer+\": \"+str(len(Gridmodulated))+\"/\"+str(len(LayerCells))+\" , \"+\"{0:.4f}\".format(len(Gridmodulated)/len(LayerCells))+\" of cells in the layer\" )\n",
    "    print(\"HD modulated AHV cells in MEC layer \"+layer+\": \"+str(len(HDmodulated))+\"/\"+str(len(LayerCells))+\" , \"+\"{0:.4f}\".format(len(HDmodulated)/len(LayerCells))+\" of cells in the layer\" )\n",
    "    print(\"Grid x HD modulated AHV cells in MEC layer \"+layer+\": \"+str(len(GridHDmodulated))+\"/\"+str(len(LayerCells))+\" , \"+\"{0:.4f}\".format(len(GridHDmodulated)/len(LayerCells))+\" of cells in the layer\" )\n",
    "\n",
    "# PaS\n",
    "print(\"PaS\")\n",
    "LayerNames=unique(cellMetadata[(cellMetadata[\"include\"]==1) & (cellMetadata[\"region\"]=='PaS')][\"layer\"].values)\n",
    "PaScells=cellMetadata[(cellMetadata[\"include\"]==1) & (cellMetadata[\"region\"]=='PaS')]\n",
    "for layer in LayerNames:\n",
    "    LayerCells=PaScells[PaScells[\"layer\"]==layer]\n",
    "    Gridmodulated=PaScells[(PaScells[\"AHVModulated\"]==1) &(PaScells[\"gridModulated\"]==1) & (PaScells[\"layer\"]==layer)]\n",
    "    HDmodulated=PaScells[(PaScells[\"AHVModulated\"]==1) &(PaScells[\"HDModulated\"]==1) & (PaScells[\"layer\"]==layer)]\n",
    "    GridHDmodulated=PaScells[(PaScells[\"AHVModulated\"]==1) &(PaScells[\"HDModulated\"]==1)&(PaScells[\"gridModulated\"]==1) & (PaScells[\"layer\"]==layer)]\n",
    "    Gridpercentages.append(len(Gridmodulated)/len(LayerCells))\n",
    "    HDpercentages.append(len(HDmodulated)/len(LayerCells))\n",
    "    GridHDpercentages.append(len(GridHDmodulated)/len(LayerCells))\n",
    "    regions.append(\"PaS\")\n",
    "    print(\"Grid modulated AHVcells in PaS layer \"+layer+\": \"+str(len(Gridmodulated))+\"/\"+str(len(LayerCells))+\" , \"+\"{0:.4f}\".format(len(Gridmodulated)/len(LayerCells))+\" of cells in the layer\" )\n",
    "    print(\"HD modulated AHV cells in PaS layer \"+layer+\": \"+str(len(HDmodulated))+\"/\"+str(len(LayerCells))+\" , \"+\"{0:.4f}\".format(len(HDmodulated)/len(LayerCells))+\" of cells in the layer\" )\n",
    "    print(\"Grid x HD modulated AHV cells in PaS layer \"+layer+\": \"+str(len(GridHDmodulated))+\"/\"+str(len(LayerCells))+\" , \"+\"{0:.4f}\".format(len(GridHDmodulated)/len(LayerCells))+\" of cells in the layer\" )\n",
    "    \n",
    "# PrS\n",
    "print(\"PrS\")\n",
    "LayerNames=unique(cellMetadata[(cellMetadata[\"include\"]==1) & (cellMetadata[\"region\"]=='PrS')][\"layer\"].values)\n",
    "PrScells=cellMetadata[(cellMetadata[\"include\"]==1) & (cellMetadata[\"region\"]=='PrS')]\n",
    "for layer in LayerNames:\n",
    "    LayerCells=PrScells[PrScells[\"layer\"]==layer]\n",
    "    Gridmodulated=PrScells[(PrScells[\"AHVModulated\"]==1) &(PrScells[\"gridModulated\"]==1) & (PrScells[\"layer\"]==layer)]\n",
    "    HDmodulated=PrScells[(PrScells[\"AHVModulated\"]==1) &(PrScells[\"HDModulated\"]==1) & (PrScells[\"layer\"]==layer)]\n",
    "    GridHDmodulated=PrScells[(PrScells[\"AHVModulated\"]==1) &(PrScells[\"HDModulated\"]==1)&(PrScells[\"gridModulated\"]==1) & (PrScells[\"layer\"]==layer)]\n",
    "    Gridpercentages.append(len(Gridmodulated)/len(LayerCells))\n",
    "    HDpercentages.append(len(HDmodulated)/len(LayerCells))\n",
    "    GridHDpercentages.append(len(GridHDmodulated)/len(LayerCells))\n",
    "    regions.append(\"PrS\")\n",
    "    print(\"Grid modulated AHV cells in PrS layer \"+layer+\": \"+str(len(Gridmodulated))+\"/\"+str(len(LayerCells))+\" , \"+\"{0:.4f}\".format(len(Gridmodulated)/len(LayerCells))+\" of cells in the layer\" )\n",
    "    print(\"HD modulated AHV cells in PrS layer \"+layer+\": \"+str(len(HDmodulated))+\"/\"+str(len(LayerCells))+\" , \"+\"{0:.4f}\".format(len(HDmodulated)/len(LayerCells))+\" of cells in the layer\" )\n",
    "    print(\"Grid x HD modulated AHV cells in PrS layer \"+layer+\": \"+str(len(GridHDmodulated))+\"/\"+str(len(LayerCells))+\" , \"+\"{0:.4f}\".format(len(GridHDmodulated)/len(LayerCells))+\" of cells in the layer\" )\n",
    "\n",
    "    \n",
    "print(\"\\n Grid KS test for uniformity: \")\n",
    "print(kstest(Gridpercentages,\"uniform\"))\n",
    "print(\"\\n HD KS test for uniformity: \")\n",
    "print(kstest(HDpercentages,\"uniform\"))\n",
    "print(\"\\n Grid x HD KS test for uniformity: \")\n",
    "print(kstest(GridHDpercentages,\"uniform\"))"
   ]
  },
  {
   "cell_type": "code",
   "execution_count": 77,
   "metadata": {},
   "outputs": [],
   "source": [
    "MECLayerNames=list(unique(cellMetadata[(cellMetadata[\"include\"]==1) & (cellMetadata[\"region\"]=='MEC')][\"layer\"].values))\n",
    "PASLayerNames=list(unique(cellMetadata[(cellMetadata[\"include\"]==1) & (cellMetadata[\"region\"]=='PaS')][\"layer\"].values))\n",
    "PRSLayerNames=list(unique(cellMetadata[(cellMetadata[\"include\"]==1) & (cellMetadata[\"region\"]=='PrS')][\"layer\"].values))\n",
    "AllLayerNames=MECLayerNames+PASLayerNames+PRSLayerNames\n",
    "BarHandles=[]\n",
    "for i in range(len(AllLayerNames)):\n",
    "    BarHandles.append(regions[i]+\",\"+AllLayerNames[i])"
   ]
  },
  {
   "cell_type": "code",
   "execution_count": 78,
   "metadata": {},
   "outputs": [
    {
     "data": {
      "image/png": "[encoded data removed]",
      "text/plain": [
       "<Figure size 2160x720 with 1 Axes>"
      ]
     },
     "metadata": {},
     "output_type": "display_data"
    }
   ],
   "source": [
    "#BARPLOT\n",
    "# Make a fake dataset:\n",
    "figure(figsize=(30,10))\n",
    "heightGrid = Gridpercentages\n",
    "heightHD = HDpercentages\n",
    "heightGridHD = GridHDpercentages\n",
    "bars=BarHandles\n",
    "y_posHD = np.arange(len(bars))\n",
    "y_posGrid = np.arange(len(bars))+len(bars)\n",
    "y_posGridHD = np.arange(len(bars))+2*len(bars)\n",
    "y_posTOT=np.arange(len(3*bars))\n",
    "# Create bars\n",
    "plt.bar(y_posHD, heightHD)\n",
    "plt.bar(y_posGrid, heightGrid)\n",
    "plt.bar(y_posGridHD, heightGridHD)\n",
    "plt.xticks(y_posTOT, bars+bars+bars)\n",
    "#ylim([0,0.18])\n",
    "# Create names on the x-axis\n",
    "title(\"Blue=HD,Orange=Grid,Green=Grid x HD\")\n",
    "savefig(\"S5/H3_AHV_Grid_HD_GridxHD_percentages_by_Layer.svg\")"
   ]
  },
  {
   "cell_type": "markdown",
   "metadata": {},
   "source": [
    "## SPEED, AHV, SPEED x AHV"
   ]
  },
  {
   "cell_type": "code",
   "execution_count": 124,
   "metadata": {
    "scrolled": true
   },
   "outputs": [
    {
     "name": "stdout",
     "output_type": "stream",
     "text": [
      "MEC\n",
      "speed modulated cells in MEC layer LII: 7/35 , 0.2000 of cells in the layer\n",
      "AHV modulated cells in MEC layer LII: 0/35 , 0.0000 of cells in the layer\n",
      "speed x AHV modulated cells in MEC layer LII: 0/35 , 0.0000 of cells in the layer\n",
      "speed modulated cells in MEC layer LIII: 31/156 , 0.1987 of cells in the layer\n",
      "AHV modulated cells in MEC layer LIII: 32/156 , 0.2051 of cells in the layer\n",
      "speed x AHV modulated cells in MEC layer LIII: 9/156 , 0.0577 of cells in the layer\n",
      "speed modulated cells in MEC layer LV: 8/68 , 0.1176 of cells in the layer\n",
      "AHV modulated cells in MEC layer LV: 13/68 , 0.1912 of cells in the layer\n",
      "speed x AHV modulated cells in MEC layer LV: 3/68 , 0.0441 of cells in the layer\n",
      "speed modulated cells in MEC layer LVI: 18/133 , 0.1353 of cells in the layer\n",
      "AHV modulated cells in MEC layer LVI: 22/133 , 0.1654 of cells in the layer\n",
      "speed x AHV modulated cells in MEC layer LVI: 9/133 , 0.0677 of cells in the layer\n",
      "PaS\n",
      "speed modulated cells in PaS layer DEEP: 48/190 , 0.2526 of cells in the layer\n",
      "AHV modulated cells in PaS layer DEEP: 33/190 , 0.1737 of cells in the layer\n",
      "speed x AHV modulated cells in PaS layer DEEP: 11/190 , 0.0579 of cells in the layer\n",
      "speed modulated cells in PaS layer SUP: 40/249 , 0.1606 of cells in the layer\n",
      "AHV modulated cells in PaS layer SUP: 42/249 , 0.1687 of cells in the layer\n",
      "speed x AHV modulated cells in PaS layer SUP: 10/249 , 0.0402 of cells in the layer\n",
      "PrS\n",
      "speed modulated cells in PrS layer DEEP: 92/378 , 0.2434 of cells in the layer\n",
      "AHV modulated cells in PrS layer DEEP: 72/378 , 0.1905 of cells in the layer\n",
      "speed x AHV modulated cells in PrS layer DEEP: 32/378 , 0.0847 of cells in the layer\n",
      "speed modulated cells in PrS layer SUP: 33/227 , 0.1454 of cells in the layer\n",
      "AHV modulated cells in PrS layer SUP: 32/227 , 0.1410 of cells in the layer\n",
      "speed x AHV modulated cells in PrS layer SUP: 9/227 , 0.0396 of cells in the layer\n",
      "\n",
      " speed KS test for uniformity: \n",
      "KstestResult(statistic=0.7473684210526316, pvalue=3.978141119387324e-05)\n",
      "\n",
      " AHV KS test for uniformity: \n",
      "KstestResult(statistic=0.7948717948717949, pvalue=6.539222988433124e-06)\n",
      "\n",
      " speed x AHV KS test for uniformity: \n",
      "KstestResult(statistic=0.9153439153439153, pvalue=5.275886172384503e-09)\n"
     ]
    }
   ],
   "source": [
    "speedpercentages=[]\n",
    "AHVpercentages=[]\n",
    "speedAHVpercentages=[]\n",
    "regions=[]\n",
    "# MEC\n",
    "print(\"MEC\")\n",
    "LayerNames=unique(cellMetadata[(cellMetadata[\"include\"]==1) & (cellMetadata[\"region\"]=='MEC')][\"layer\"].values)\n",
    "MECcells=cellMetadata[(cellMetadata[\"include\"]==1) & (cellMetadata[\"region\"]=='MEC')]\n",
    "for layer in LayerNames:\n",
    "    LayerCells=MECcells[MECcells[\"layer\"]==layer]\n",
    "    speedmodulated=MECcells[(MECcells[\"speedModulated\"]==1) & (MECcells[\"layer\"]==layer)]\n",
    "    AHVmodulated=MECcells[(MECcells[\"AHVModulated\"]==1) & (MECcells[\"layer\"]==layer)]\n",
    "    speedAHVmodulated=MECcells[(MECcells[\"AHVModulated\"]==1)&(MECcells[\"speedModulated\"]==1) & (MECcells[\"layer\"]==layer)]\n",
    "    speedpercentages.append(len(speedmodulated)/len(LayerCells))\n",
    "    AHVpercentages.append(len(AHVmodulated)/len(LayerCells))\n",
    "    speedAHVpercentages.append(len(speedAHVmodulated)/len(LayerCells))\n",
    "    regions.append(\"MEC\")\n",
    "    print(\"speed modulated cells in MEC layer \"+layer+\": \"+str(len(speedmodulated))+\"/\"+str(len(LayerCells))+\" , \"+\"{0:.4f}\".format(len(speedmodulated)/len(LayerCells))+\" of cells in the layer\" )\n",
    "    print(\"AHV modulated cells in MEC layer \"+layer+\": \"+str(len(AHVmodulated))+\"/\"+str(len(LayerCells))+\" , \"+\"{0:.4f}\".format(len(AHVmodulated)/len(LayerCells))+\" of cells in the layer\" )\n",
    "    print(\"speed x AHV modulated cells in MEC layer \"+layer+\": \"+str(len(speedAHVmodulated))+\"/\"+str(len(LayerCells))+\" , \"+\"{0:.4f}\".format(len(speedAHVmodulated)/len(LayerCells))+\" of cells in the layer\" )\n",
    "\n",
    "# PaS\n",
    "print(\"PaS\")\n",
    "LayerNames=unique(cellMetadata[(cellMetadata[\"include\"]==1) & (cellMetadata[\"region\"]=='PaS')][\"layer\"].values)\n",
    "PaScells=cellMetadata[(cellMetadata[\"include\"]==1) & (cellMetadata[\"region\"]=='PaS')]\n",
    "for layer in LayerNames:\n",
    "    LayerCells=PaScells[PaScells[\"layer\"]==layer]\n",
    "    speedmodulated=PaScells[(PaScells[\"speedModulated\"]==1) & (PaScells[\"layer\"]==layer)]\n",
    "    AHVmodulated=PaScells[(PaScells[\"AHVModulated\"]==1) & (PaScells[\"layer\"]==layer)]\n",
    "    speedAHVmodulated=PaScells[(PaScells[\"AHVModulated\"]==1)&(PaScells[\"speedModulated\"]==1) & (PaScells[\"layer\"]==layer)]\n",
    "    speedpercentages.append(len(speedmodulated)/len(LayerCells))\n",
    "    AHVpercentages.append(len(AHVmodulated)/len(LayerCells))\n",
    "    speedAHVpercentages.append(len(speedAHVmodulated)/len(LayerCells))\n",
    "    regions.append(\"PaS\")\n",
    "    print(\"speed modulated cells in PaS layer \"+layer+\": \"+str(len(speedmodulated))+\"/\"+str(len(LayerCells))+\" , \"+\"{0:.4f}\".format(len(speedmodulated)/len(LayerCells))+\" of cells in the layer\" )\n",
    "    print(\"AHV modulated cells in PaS layer \"+layer+\": \"+str(len(AHVmodulated))+\"/\"+str(len(LayerCells))+\" , \"+\"{0:.4f}\".format(len(AHVmodulated)/len(LayerCells))+\" of cells in the layer\" )\n",
    "    print(\"speed x AHV modulated cells in PaS layer \"+layer+\": \"+str(len(speedAHVmodulated))+\"/\"+str(len(LayerCells))+\" , \"+\"{0:.4f}\".format(len(speedAHVmodulated)/len(LayerCells))+\" of cells in the layer\" )\n",
    "    \n",
    "# PrS\n",
    "print(\"PrS\")\n",
    "LayerNames=unique(cellMetadata[(cellMetadata[\"include\"]==1) & (cellMetadata[\"region\"]=='PrS')][\"layer\"].values)\n",
    "PrScells=cellMetadata[(cellMetadata[\"include\"]==1) & (cellMetadata[\"region\"]=='PrS')]\n",
    "for layer in LayerNames:\n",
    "    LayerCells=PrScells[PrScells[\"layer\"]==layer]\n",
    "    speedmodulated=PrScells[(PrScells[\"speedModulated\"]==1) & (PrScells[\"layer\"]==layer)]\n",
    "    AHVmodulated=PrScells[(PrScells[\"AHVModulated\"]==1) & (PrScells[\"layer\"]==layer)]\n",
    "    speedAHVmodulated=PrScells[(PrScells[\"AHVModulated\"]==1)&(PrScells[\"speedModulated\"]==1) & (PrScells[\"layer\"]==layer)]\n",
    "    speedpercentages.append(len(speedmodulated)/len(LayerCells))\n",
    "    AHVpercentages.append(len(AHVmodulated)/len(LayerCells))\n",
    "    speedAHVpercentages.append(len(speedAHVmodulated)/len(LayerCells))\n",
    "    regions.append(\"PrS\")\n",
    "    print(\"speed modulated cells in PrS layer \"+layer+\": \"+str(len(speedmodulated))+\"/\"+str(len(LayerCells))+\" , \"+\"{0:.4f}\".format(len(speedmodulated)/len(LayerCells))+\" of cells in the layer\" )\n",
    "    print(\"AHV modulated cells in PrS layer \"+layer+\": \"+str(len(AHVmodulated))+\"/\"+str(len(LayerCells))+\" , \"+\"{0:.4f}\".format(len(AHVmodulated)/len(LayerCells))+\" of cells in the layer\" )\n",
    "    print(\"speed x AHV modulated cells in PrS layer \"+layer+\": \"+str(len(speedAHVmodulated))+\"/\"+str(len(LayerCells))+\" , \"+\"{0:.4f}\".format(len(speedAHVmodulated)/len(LayerCells))+\" of cells in the layer\" )\n",
    "\n",
    "    \n",
    "print(\"\\n speed KS test for uniformity: \")\n",
    "print(kstest(speedpercentages,\"uniform\"))\n",
    "print(\"\\n AHV KS test for uniformity: \")\n",
    "print(kstest(AHVpercentages,\"uniform\"))\n",
    "print(\"\\n speed x AHV KS test for uniformity: \")\n",
    "print(kstest(speedAHVpercentages,\"uniform\"))"
   ]
  },
  {
   "cell_type": "code",
   "execution_count": 80,
   "metadata": {},
   "outputs": [],
   "source": [
    "MECLayerNames=list(unique(cellMetadata[(cellMetadata[\"include\"]==1) & (cellMetadata[\"region\"]=='MEC')][\"layer\"].values))\n",
    "PASLayerNames=list(unique(cellMetadata[(cellMetadata[\"include\"]==1) & (cellMetadata[\"region\"]=='PaS')][\"layer\"].values))\n",
    "PRSLayerNames=list(unique(cellMetadata[(cellMetadata[\"include\"]==1) & (cellMetadata[\"region\"]=='PrS')][\"layer\"].values))\n",
    "AllLayerNames=MECLayerNames+PASLayerNames+PRSLayerNames\n",
    "BarHandles=[]\n",
    "for i in range(len(AllLayerNames)):\n",
    "    BarHandles.append(regions[i]+\",\"+AllLayerNames[i])"
   ]
  },
  {
   "cell_type": "code",
   "execution_count": 81,
   "metadata": {
    "scrolled": true
   },
   "outputs": [
    {
     "data": {
      "image/png": "[encoded data removed]",
      "text/plain": [
       "<Figure size 2160x720 with 1 Axes>"
      ]
     },
     "metadata": {},
     "output_type": "display_data"
    }
   ],
   "source": [
    "#BARPLOT\n",
    "# Make a fake dataset:\n",
    "figure(figsize=(30,10))\n",
    "heightspeed = speedpercentages\n",
    "heightAHV = AHVpercentages\n",
    "heightspeedAHV = speedAHVpercentages\n",
    "bars=BarHandles\n",
    "y_posAHV = np.arange(len(bars))\n",
    "y_posspeed = np.arange(len(bars))+len(bars)\n",
    "y_posspeedAHV = np.arange(len(bars))+2*len(bars)\n",
    "y_posTOT=np.arange(len(3*bars))\n",
    "# Create bars\n",
    "plt.bar(y_posAHV, heightAHV)\n",
    "plt.bar(y_posspeed, heightspeed)\n",
    "plt.bar(y_posspeedAHV, heightspeedAHV)\n",
    "plt.xticks(y_posTOT, bars+bars+bars)\n",
    "#ylim([0,0.18])\n",
    "# Create names on the x-axis\n",
    "title(\"Blue=AHV,Orange=speed,Green=speed x AHV\")\n",
    "savefig(\"S5/H4_AHV_speed__speedxAHV_percentages_by_Layer.svg\")"
   ]
  },
  {
   "cell_type": "markdown",
   "metadata": {},
   "source": [
    "## THETA"
   ]
  },
  {
   "cell_type": "code",
   "execution_count": 125,
   "metadata": {},
   "outputs": [
    {
     "name": "stdout",
     "output_type": "stream",
     "text": [
      "MEC\n",
      "theta modulated cells in MEC layer LII: 26/35 , 0.7429 of cells in the layer\n",
      "theta modulated cells in MEC layer LIII: 91/156 , 0.5833 of cells in the layer\n",
      "theta modulated cells in MEC layer LV: 43/68 , 0.6324 of cells in the layer\n",
      "theta modulated cells in MEC layer LVI: 39/133 , 0.2932 of cells in the layer\n",
      "PaS\n",
      "theta modulated cells in PaS layer DEEP: 108/190 , 0.5684 of cells in the layer\n",
      "theta modulated cells in PaS layer SUP: 105/249 , 0.4217 of cells in the layer\n",
      "PrS\n",
      "theta modulated cells in PrS layer DEEP: 124/378 , 0.3280 of cells in the layer\n",
      "theta modulated cells in PrS layer SUP: 68/227 , 0.2996 of cells in the layer\n",
      "\n",
      " KS test for uniformity: \n"
     ]
    },
    {
     "data": {
      "text/plain": [
       "KstestResult(statistic=0.2932330827067669, pvalue=0.42051602604022564)"
      ]
     },
     "execution_count": 125,
     "metadata": {},
     "output_type": "execute_result"
    }
   ],
   "source": [
    "percentages=[]\n",
    "regions=[]\n",
    "# MEC\n",
    "print(\"MEC\")\n",
    "LayerNames=unique(cellMetadata[(cellMetadata[\"include\"]==1) & (cellMetadata[\"region\"]=='MEC')][\"layer\"].values)\n",
    "MECcells=cellMetadata[(cellMetadata[\"include\"]==1) & (cellMetadata[\"region\"]=='MEC')]\n",
    "for layer in LayerNames:\n",
    "    LayerCells=MECcells[MECcells[\"layer\"]==layer]\n",
    "    modulated=MECcells[(MECcells[\"thetaModulated\"]==1) & (MECcells[\"layer\"]==layer)]\n",
    "    percentages.append(len(modulated)/len(LayerCells))\n",
    "    regions.append(\"MEC\")\n",
    "    print(\"theta modulated cells in MEC layer \"+layer+\": \"+str(len(modulated))+\"/\"+str(len(LayerCells))+\" , \"+\"{0:.4f}\".format(len(modulated)/len(LayerCells))+\" of cells in the layer\" )\n",
    "    \n",
    "# PaS\n",
    "print(\"PaS\")\n",
    "LayerNames=unique(cellMetadata[(cellMetadata[\"include\"]==1) & (cellMetadata[\"region\"]=='PaS')][\"layer\"].values)\n",
    "PaScells=cellMetadata[(cellMetadata[\"include\"]==1) & (cellMetadata[\"region\"]=='PaS')]\n",
    "for layer in LayerNames:\n",
    "    LayerCells=PaScells[PaScells[\"layer\"]==layer]\n",
    "    modulated=PaScells[(PaScells[\"thetaModulated\"]==1) & (PaScells[\"layer\"]==layer)]\n",
    "    percentages.append(len(modulated)/len(LayerCells))\n",
    "    regions.append(\"PaS\")\n",
    "    print(\"theta modulated cells in PaS layer \"+layer+\": \"+str(len(modulated))+\"/\"+str(len(LayerCells))+\" , \"+\"{0:.4f}\".format(len(modulated)/len(LayerCells))+\" of cells in the layer\" )\n",
    "    \n",
    "#PrS    \n",
    "print(\"PrS\")\n",
    "LayerNames=unique(cellMetadata[(cellMetadata[\"include\"]==1) & (cellMetadata[\"region\"]=='PrS')][\"layer\"].values)\n",
    "PrScells=cellMetadata[(cellMetadata[\"include\"]==1) & (cellMetadata[\"region\"]=='PrS')]\n",
    "for layer in LayerNames:\n",
    "    LayerCells=PrScells[PrScells[\"layer\"]==layer]\n",
    "    modulated=PrScells[(PrScells[\"thetaModulated\"]==1) & (PrScells[\"layer\"]==layer)]\n",
    "    percentages.append(len(modulated)/len(LayerCells))\n",
    "    regions.append(\"PrS\")\n",
    "    print(\"theta modulated cells in PrS layer \"+layer+\": \"+str(len(modulated))+\"/\"+str(len(LayerCells))+\" , \"+\"{0:.4f}\".format(len(modulated)/len(LayerCells))+\" of cells in the layer\" )\n",
    "\n",
    "print(\"\\n KS test for uniformity: \")\n",
    "kstest(percentages,\"uniform\")"
   ]
  },
  {
   "cell_type": "code",
   "execution_count": 83,
   "metadata": {},
   "outputs": [],
   "source": [
    "MECLayerNames=list(unique(cellMetadata[(cellMetadata[\"include\"]==1) & (cellMetadata[\"region\"]=='MEC')][\"layer\"].values))\n",
    "PASLayerNames=list(unique(cellMetadata[(cellMetadata[\"include\"]==1) & (cellMetadata[\"region\"]=='PaS')][\"layer\"].values))\n",
    "PRSLayerNames=list(unique(cellMetadata[(cellMetadata[\"include\"]==1) & (cellMetadata[\"region\"]=='PrS')][\"layer\"].values))\n",
    "AllLayerNames=MECLayerNames+PASLayerNames+PRSLayerNames\n",
    "BarHandles=[]\n",
    "for i in range(len(AllLayerNames)):\n",
    "    BarHandles.append(regions[i]+\",\"+AllLayerNames[i])"
   ]
  },
  {
   "cell_type": "code",
   "execution_count": 84,
   "metadata": {},
   "outputs": [
    {
     "data": {
      "image/png": "[encoded data removed]",
      "text/plain": [
       "<Figure size 1440x720 with 1 Axes>"
      ]
     },
     "metadata": {},
     "output_type": "display_data"
    }
   ],
   "source": [
    "#BARPLOT\n",
    "# Make a fake dataset:\n",
    "figure(figsize=(20,10))\n",
    "height = percentages\n",
    "bars=BarHandles\n",
    "y_pos = np.arange(len(bars))\n",
    "# Create bars\n",
    "plt.bar(y_pos, height)\n",
    "#ylim([0,0.18])\n",
    "# Create names on the x-axis\n",
    "plt.xticks(y_pos, bars)\n",
    "savefig(\"S6/H1_theta_by_layer.svg\")"
   ]
  },
  {
   "cell_type": "markdown",
   "metadata": {},
   "source": [
    "## THETA x SPEED"
   ]
  },
  {
   "cell_type": "code",
   "execution_count": 126,
   "metadata": {},
   "outputs": [
    {
     "name": "stdout",
     "output_type": "stream",
     "text": [
      "MEC\n",
      "theta modulated SPEED cells in MEC layer LII: 5/35 , 0.1429 of cells in the layer\n",
      "theta modulated SPEED cells in MEC layer LIII: 16/156 , 0.1026 of cells in the layer\n",
      "theta modulated SPEED cells in MEC layer LV: 4/68 , 0.0588 of cells in the layer\n",
      "theta modulated SPEED cells in MEC layer LVI: 5/133 , 0.0376 of cells in the layer\n",
      "PaS\n",
      "theta modulated SPEED cells in PaS layer DEEP: 24/190 , 0.1263 of cells in the layer\n",
      "theta modulated SPEED cells in PaS layer SUP: 14/249 , 0.0562 of cells in the layer\n",
      "PrS\n",
      "theta modulated SPEED cells in PrS layer DEEP: 32/378 , 0.0847 of cells in the layer\n",
      "theta modulated SPEED cells in PrS layer SUP: 14/227 , 0.0617 of cells in the layer\n",
      "\n",
      " KS test for uniformity: \n"
     ]
    },
    {
     "data": {
      "text/plain": [
       "KstestResult(statistic=0.8571428571428572, pvalue=3.469409917133959e-07)"
      ]
     },
     "execution_count": 126,
     "metadata": {},
     "output_type": "execute_result"
    }
   ],
   "source": [
    "percentages=[]\n",
    "regions=[]\n",
    "# MEC\n",
    "print(\"MEC\")\n",
    "LayerNames=unique(cellMetadata[(cellMetadata[\"include\"]==1) & (cellMetadata[\"region\"]=='MEC')][\"layer\"].values)\n",
    "MECcells=cellMetadata[(cellMetadata[\"include\"]==1) & (cellMetadata[\"region\"]=='MEC')]\n",
    "for layer in LayerNames:\n",
    "    LayerCells=MECcells[MECcells[\"layer\"]==layer]\n",
    "    modulated=MECcells[(MECcells[\"thetaModulated\"]==1) & (MECcells[\"speedModulated\"]==1) & (MECcells[\"layer\"]==layer)]\n",
    "    percentages.append(len(modulated)/len(LayerCells))\n",
    "    regions.append(\"MEC\")\n",
    "    print(\"theta modulated SPEED cells in MEC layer \"+layer+\": \"+str(len(modulated))+\"/\"+str(len(LayerCells))+\" , \"+\"{0:.4f}\".format(len(modulated)/len(LayerCells))+\" of cells in the layer\" )\n",
    "    \n",
    "# PaS\n",
    "print(\"PaS\")\n",
    "LayerNames=unique(cellMetadata[(cellMetadata[\"include\"]==1) & (cellMetadata[\"region\"]=='PaS')][\"layer\"].values)\n",
    "PaScells=cellMetadata[(cellMetadata[\"include\"]==1) & (cellMetadata[\"region\"]=='PaS')]\n",
    "for layer in LayerNames:\n",
    "    LayerCells=PaScells[PaScells[\"layer\"]==layer]\n",
    "    modulated=PaScells[(PaScells[\"thetaModulated\"]==1) & (PaScells[\"speedModulated\"]==1) & (PaScells[\"layer\"]==layer)]\n",
    "    percentages.append(len(modulated)/len(LayerCells))\n",
    "    regions.append(\"PaS\")\n",
    "    print(\"theta modulated SPEED cells in PaS layer \"+layer+\": \"+str(len(modulated))+\"/\"+str(len(LayerCells))+\" , \"+\"{0:.4f}\".format(len(modulated)/len(LayerCells))+\" of cells in the layer\" )\n",
    "    \n",
    "#PrS    \n",
    "print(\"PrS\")\n",
    "LayerNames=unique(cellMetadata[(cellMetadata[\"include\"]==1) & (cellMetadata[\"region\"]=='PrS')][\"layer\"].values)\n",
    "PrScells=cellMetadata[(cellMetadata[\"include\"]==1) & (cellMetadata[\"region\"]=='PrS')]\n",
    "for layer in LayerNames:\n",
    "    LayerCells=PrScells[PrScells[\"layer\"]==layer]\n",
    "    modulated=PrScells[(PrScells[\"thetaModulated\"]==1)& (PrScells[\"speedModulated\"]==1) & (PrScells[\"layer\"]==layer)]\n",
    "    percentages.append(len(modulated)/len(LayerCells))\n",
    "    regions.append(\"PrS\")\n",
    "    print(\"theta modulated SPEED cells in PrS layer \"+layer+\": \"+str(len(modulated))+\"/\"+str(len(LayerCells))+\" , \"+\"{0:.4f}\".format(len(modulated)/len(LayerCells))+\" of cells in the layer\" )\n",
    "\n",
    "print(\"\\n KS test for uniformity: \")\n",
    "kstest(percentages,\"uniform\")"
   ]
  },
  {
   "cell_type": "code",
   "execution_count": 86,
   "metadata": {},
   "outputs": [],
   "source": [
    "MECLayerNames=list(unique(cellMetadata[(cellMetadata[\"include\"]==1) & (cellMetadata[\"region\"]=='MEC')][\"layer\"].values))\n",
    "PASLayerNames=list(unique(cellMetadata[(cellMetadata[\"include\"]==1) & (cellMetadata[\"region\"]=='PaS')][\"layer\"].values))\n",
    "PRSLayerNames=list(unique(cellMetadata[(cellMetadata[\"include\"]==1) & (cellMetadata[\"region\"]=='PrS')][\"layer\"].values))\n",
    "AllLayerNames=MECLayerNames+PASLayerNames+PRSLayerNames\n",
    "BarHandles=[]\n",
    "for i in range(len(AllLayerNames)):\n",
    "    BarHandles.append(regions[i]+\",\"+AllLayerNames[i])"
   ]
  },
  {
   "cell_type": "code",
   "execution_count": 87,
   "metadata": {},
   "outputs": [
    {
     "data": {
      "image/png": "[encoded data removed]",
      "text/plain": [
       "<Figure size 1440x720 with 1 Axes>"
      ]
     },
     "metadata": {},
     "output_type": "display_data"
    }
   ],
   "source": [
    "#BARPLOT\n",
    "# Make a fake dataset:\n",
    "figure(figsize=(20,10))\n",
    "height = percentages\n",
    "bars=BarHandles\n",
    "y_pos = np.arange(len(bars))\n",
    "# Create bars\n",
    "plt.bar(y_pos, height)\n",
    "#ylim([0,0.18])\n",
    "# Create names on the x-axis\n",
    "plt.xticks(y_pos, bars)\n",
    "savefig(\"S6/H2_theta_x_SPEED_by_layer.svg\")"
   ]
  },
  {
   "cell_type": "code",
   "execution_count": 48,
   "metadata": {},
   "outputs": [
    {
     "name": "stdout",
     "output_type": "stream",
     "text": [
      "2.426055399806423 0.015263940020008736\n"
     ]
    }
   ],
   "source": [
    "#speed x theta: in MEC Sup > MEC deep\n",
    "modulated1=5+16\n",
    "modulated2=4+5\n",
    "tot1=35+156\n",
    "tot2=68+133\n",
    "count=[modulated1,modulated2]\n",
    "nobs=[tot1,tot2]\n",
    "zstat,pv=proportion.proportions_ztest(count,nobs)\n",
    "print(zstat,pv)"
   ]
  },
  {
   "cell_type": "code",
   "execution_count": 49,
   "metadata": {},
   "outputs": [
    {
     "name": "stdout",
     "output_type": "stream",
     "text": [
      "-2.5876547018625775 0.009663179324077193\n"
     ]
    }
   ],
   "source": [
    "#speed x theta: in MEC Sup > MEC deep\n",
    "modulated1=14\n",
    "modulated2=24\n",
    "tot1=249\n",
    "tot2=190\n",
    "count=[modulated1,modulated2]\n",
    "nobs=[tot1,tot2]\n",
    "zstat,pv=proportion.proportions_ztest(count,nobs)\n",
    "print(zstat,pv)"
   ]
  },
  {
   "cell_type": "markdown",
   "metadata": {},
   "source": [
    "## THETA x SPEED percentages of speed"
   ]
  },
  {
   "cell_type": "code",
   "execution_count": 127,
   "metadata": {},
   "outputs": [
    {
     "name": "stdout",
     "output_type": "stream",
     "text": [
      "MEC\n",
      "theta modulated SPEED cells in MEC layer LII: 5/7 , 0.7143 of speed cells in the layer\n",
      "theta modulated SPEED cells in MEC layer LIII: 16/31 , 0.5161 of speed cells in the layer\n",
      "theta modulated SPEED cells in MEC layer LV: 4/8 , 0.5000 of speed cells in the layer\n",
      "theta modulated SPEED cells in MEC layer LVI: 5/18 , 0.2778 of speed cells in the layer\n",
      "PaS\n",
      "theta modulated SPEED cells in PaS layer DEEP: 24/48 , 0.5000 of speed cells in the layer\n",
      "theta modulated SPEED cells in PaS layer SUP: 14/40 , 0.3500 of speed cells in the layer\n",
      "PrS\n",
      "theta modulated SPEED cells in PrS layer DEEP: 32/92 , 0.3478 of speed cells in the layer\n",
      "theta modulated SPEED cells in PrS layer SUP: 14/33 , 0.4242 of speed cells in the layer\n",
      "\n",
      " KS test for uniformity: \n"
     ]
    },
    {
     "data": {
      "text/plain": [
       "KstestResult(statistic=0.3588709677419355, pvalue=0.1986100279491303)"
      ]
     },
     "execution_count": 127,
     "metadata": {},
     "output_type": "execute_result"
    }
   ],
   "source": [
    "percentages=[]\n",
    "regions=[]\n",
    "# MEC\n",
    "print(\"MEC\")\n",
    "LayerNames=unique(cellMetadata[(cellMetadata[\"include\"]==1) & (cellMetadata[\"region\"]=='MEC')][\"layer\"].values)\n",
    "MECcells=cellMetadata[(cellMetadata[\"include\"]==1) & (cellMetadata[\"region\"]=='MEC')]\n",
    "for layer in LayerNames:\n",
    "    LayerCells=MECcells[MECcells[\"layer\"]==layer]\n",
    "    speedCells=MECcells[(MECcells[\"speedModulated\"]==1) & (MECcells[\"layer\"]==layer)]\n",
    "    modulated=MECcells[(MECcells[\"thetaModulated\"]==1) & (MECcells[\"speedModulated\"]==1) & (MECcells[\"layer\"]==layer)]\n",
    "    percentages.append(len(modulated)/len(speedCells))\n",
    "    regions.append(\"MEC\")\n",
    "    print(\"theta modulated SPEED cells in MEC layer \"+layer+\": \"+str(len(modulated))+\"/\"+str(len(speedCells))+\" , \"+\"{0:.4f}\".format(len(modulated)/len(speedCells))+\" of speed cells in the layer\" )\n",
    "    \n",
    "# PaS\n",
    "print(\"PaS\")\n",
    "LayerNames=unique(cellMetadata[(cellMetadata[\"include\"]==1) & (cellMetadata[\"region\"]=='PaS')][\"layer\"].values)\n",
    "PaScells=cellMetadata[(cellMetadata[\"include\"]==1) & (cellMetadata[\"region\"]=='PaS')]\n",
    "for layer in LayerNames:\n",
    "    LayerCells=PaScells[PaScells[\"layer\"]==layer]\n",
    "    speedCells=PaScells[ (PaScells[\"speedModulated\"]==1) & (PaScells[\"layer\"]==layer)]\n",
    "    modulated=PaScells[(PaScells[\"thetaModulated\"]==1) & (PaScells[\"speedModulated\"]==1) & (PaScells[\"layer\"]==layer)]\n",
    "    percentages.append(len(modulated)/len(speedCells))\n",
    "    regions.append(\"PaS\")\n",
    "    print(\"theta modulated SPEED cells in PaS layer \"+layer+\": \"+str(len(modulated))+\"/\"+str(len(speedCells))+\" , \"+\"{0:.4f}\".format(len(modulated)/len(speedCells))+\" of speed cells in the layer\" )\n",
    "    \n",
    "#PrS    \n",
    "print(\"PrS\")\n",
    "LayerNames=unique(cellMetadata[(cellMetadata[\"include\"]==1) & (cellMetadata[\"region\"]=='PrS')][\"layer\"].values)\n",
    "PrScells=cellMetadata[(cellMetadata[\"include\"]==1) & (cellMetadata[\"region\"]=='PrS')]\n",
    "for layer in LayerNames:\n",
    "    LayerCells=PrScells[PrScells[\"layer\"]==layer]\n",
    "    speedCells=PrScells[ (PrScells[\"speedModulated\"]==1) & (PrScells[\"layer\"]==layer)]\n",
    "    modulated=PrScells[(PrScells[\"thetaModulated\"]==1)& (PrScells[\"speedModulated\"]==1) & (PrScells[\"layer\"]==layer)]\n",
    "    percentages.append(len(modulated)/len(speedCells))\n",
    "    regions.append(\"PrS\")\n",
    "    print(\"theta modulated SPEED cells in PrS layer \"+layer+\": \"+str(len(modulated))+\"/\"+str(len(speedCells))+\" , \"+\"{0:.4f}\".format(len(modulated)/len(speedCells))+\" of speed cells in the layer\" )\n",
    "\n",
    "print(\"\\n KS test for uniformity: \")\n",
    "kstest(percentages,\"uniform\")"
   ]
  },
  {
   "cell_type": "code",
   "execution_count": 89,
   "metadata": {},
   "outputs": [],
   "source": [
    "MECLayerNames=list(unique(cellMetadata[(cellMetadata[\"include\"]==1) & (cellMetadata[\"region\"]=='MEC')][\"layer\"].values))\n",
    "PASLayerNames=list(unique(cellMetadata[(cellMetadata[\"include\"]==1) & (cellMetadata[\"region\"]=='PaS')][\"layer\"].values))\n",
    "PRSLayerNames=list(unique(cellMetadata[(cellMetadata[\"include\"]==1) & (cellMetadata[\"region\"]=='PrS')][\"layer\"].values))\n",
    "AllLayerNames=MECLayerNames+PASLayerNames+PRSLayerNames\n",
    "BarHandles=[]\n",
    "for i in range(len(AllLayerNames)):\n",
    "    BarHandles.append(regions[i]+\",\"+AllLayerNames[i])"
   ]
  },
  {
   "cell_type": "code",
   "execution_count": 90,
   "metadata": {},
   "outputs": [
    {
     "data": {
      "image/png": "[encoded data removed]",
      "text/plain": [
       "<Figure size 1440x720 with 1 Axes>"
      ]
     },
     "metadata": {},
     "output_type": "display_data"
    }
   ],
   "source": [
    "#BARPLOT\n",
    "# Make a fake dataset:\n",
    "figure(figsize=(20,10))\n",
    "height = percentages\n",
    "bars=BarHandles\n",
    "y_pos = np.arange(len(bars))\n",
    "# Create bars\n",
    "plt.bar(y_pos, height)\n",
    "#ylim([0,0.18])\n",
    "# Create names on the x-axis\n",
    "plt.xticks(y_pos, bars)\n",
    "savefig(\"S6/H5_theta_x_SPEED_by_layer_percentages_of_speed.svg\")"
   ]
  },
  {
   "cell_type": "markdown",
   "metadata": {},
   "source": [
    "## THETA x AHV"
   ]
  },
  {
   "cell_type": "code",
   "execution_count": 91,
   "metadata": {},
   "outputs": [
    {
     "name": "stdout",
     "output_type": "stream",
     "text": [
      "MEC\n",
      "theta modulated AHV cells in MEC layer LII: 0/35 , 0.0000 of cells in the layer\n",
      "theta modulated AHV cells in MEC layer LIII: 14/156 , 0.0897 of cells in the layer\n",
      "theta modulated AHV cells in MEC layer LV: 9/68 , 0.1324 of cells in the layer\n",
      "theta modulated AHV cells in MEC layer LVI: 3/133 , 0.0226 of cells in the layer\n",
      "PaS\n",
      "theta modulated AHV cells in PaS layer DEEP: 15/190 , 0.0789 of cells in the layer\n",
      "theta modulated AHV cells in PaS layer SUP: 15/249 , 0.0602 of cells in the layer\n",
      "PrS\n",
      "theta modulated AHV cells in PrS layer DEEP: 29/378 , 0.0767 of cells in the layer\n",
      "theta modulated AHV cells in PrS layer SUP: 10/227 , 0.0441 of cells in the layer\n",
      "\n",
      " KS test for uniformity: \n"
     ]
    },
    {
     "data": {
      "text/plain": [
       "KstestResult(statistic=0.8676470588235294, pvalue=1.8832102388621763e-07)"
      ]
     },
     "execution_count": 91,
     "metadata": {},
     "output_type": "execute_result"
    }
   ],
   "source": [
    "percentages=[]\n",
    "regions=[]\n",
    "# MEC\n",
    "print(\"MEC\")\n",
    "LayerNames=unique(cellMetadata[(cellMetadata[\"include\"]==1) & (cellMetadata[\"region\"]=='MEC')][\"layer\"].values)\n",
    "MECcells=cellMetadata[(cellMetadata[\"include\"]==1) & (cellMetadata[\"region\"]=='MEC')]\n",
    "for layer in LayerNames:\n",
    "    LayerCells=MECcells[MECcells[\"layer\"]==layer]\n",
    "    modulated=MECcells[(MECcells[\"thetaModulated\"]==1) & (MECcells[\"AHVModulated\"]==1) & (MECcells[\"layer\"]==layer)]\n",
    "    percentages.append(len(modulated)/len(LayerCells))\n",
    "    regions.append(\"MEC\")\n",
    "    print(\"theta modulated AHV cells in MEC layer \"+layer+\": \"+str(len(modulated))+\"/\"+str(len(LayerCells))+\" , \"+\"{0:.4f}\".format(len(modulated)/len(LayerCells))+\" of cells in the layer\" )\n",
    "    \n",
    "# PaS\n",
    "print(\"PaS\")\n",
    "LayerNames=unique(cellMetadata[(cellMetadata[\"include\"]==1) & (cellMetadata[\"region\"]=='PaS')][\"layer\"].values)\n",
    "PaScells=cellMetadata[(cellMetadata[\"include\"]==1) & (cellMetadata[\"region\"]=='PaS')]\n",
    "for layer in LayerNames:\n",
    "    LayerCells=PaScells[PaScells[\"layer\"]==layer]\n",
    "    modulated=PaScells[(PaScells[\"thetaModulated\"]==1) & (PaScells[\"AHVModulated\"]==1) & (PaScells[\"layer\"]==layer)]\n",
    "    percentages.append(len(modulated)/len(LayerCells))\n",
    "    regions.append(\"PaS\")\n",
    "    print(\"theta modulated AHV cells in PaS layer \"+layer+\": \"+str(len(modulated))+\"/\"+str(len(LayerCells))+\" , \"+\"{0:.4f}\".format(len(modulated)/len(LayerCells))+\" of cells in the layer\" )\n",
    "    \n",
    "#PrS    \n",
    "print(\"PrS\")\n",
    "LayerNames=unique(cellMetadata[(cellMetadata[\"include\"]==1) & (cellMetadata[\"region\"]=='PrS')][\"layer\"].values)\n",
    "PrScells=cellMetadata[(cellMetadata[\"include\"]==1) & (cellMetadata[\"region\"]=='PrS')]\n",
    "for layer in LayerNames:\n",
    "    LayerCells=PrScells[PrScells[\"layer\"]==layer]\n",
    "    modulated=PrScells[(PrScells[\"thetaModulated\"]==1)& (PrScells[\"AHVModulated\"]==1) & (PrScells[\"layer\"]==layer)]\n",
    "    percentages.append(len(modulated)/len(LayerCells))\n",
    "    regions.append(\"PrS\")\n",
    "    print(\"theta modulated AHV cells in PrS layer \"+layer+\": \"+str(len(modulated))+\"/\"+str(len(LayerCells))+\" , \"+\"{0:.4f}\".format(len(modulated)/len(LayerCells))+\" of cells in the layer\" )\n",
    "\n",
    "print(\"\\n KS test for uniformity: \")\n",
    "kstest(percentages,\"uniform\")"
   ]
  },
  {
   "cell_type": "code",
   "execution_count": 92,
   "metadata": {},
   "outputs": [],
   "source": [
    "MECLayerNames=list(unique(cellMetadata[(cellMetadata[\"include\"]==1) & (cellMetadata[\"region\"]=='MEC')][\"layer\"].values))\n",
    "PASLayerNames=list(unique(cellMetadata[(cellMetadata[\"include\"]==1) & (cellMetadata[\"region\"]=='PaS')][\"layer\"].values))\n",
    "PRSLayerNames=list(unique(cellMetadata[(cellMetadata[\"include\"]==1) & (cellMetadata[\"region\"]=='PrS')][\"layer\"].values))\n",
    "AllLayerNames=MECLayerNames+PASLayerNames+PRSLayerNames\n",
    "BarHandles=[]\n",
    "for i in range(len(AllLayerNames)):\n",
    "    BarHandles.append(regions[i]+\",\"+AllLayerNames[i])"
   ]
  },
  {
   "cell_type": "code",
   "execution_count": 93,
   "metadata": {},
   "outputs": [
    {
     "data": {
      "image/png": "[encoded data removed]",
      "text/plain": [
       "<Figure size 1440x720 with 1 Axes>"
      ]
     },
     "metadata": {},
     "output_type": "display_data"
    }
   ],
   "source": [
    "#BARPLOT\n",
    "# Make a fake dataset:\n",
    "figure(figsize=(20,10))\n",
    "height = percentages\n",
    "bars=BarHandles\n",
    "y_pos = np.arange(len(bars))\n",
    "# Create bars\n",
    "plt.bar(y_pos, height)\n",
    "#ylim([0,0.18])\n",
    "# Create names on the x-axis\n",
    "plt.xticks(y_pos, bars)\n",
    "savefig(\"S6/H3_theta_x_AHV_by_layer.svg\")"
   ]
  },
  {
   "cell_type": "markdown",
   "metadata": {},
   "source": [
    "## THETA x AHV percentages of AHV"
   ]
  },
  {
   "cell_type": "code",
   "execution_count": 128,
   "metadata": {},
   "outputs": [
    {
     "name": "stdout",
     "output_type": "stream",
     "text": [
      "MEC\n",
      "theta modulated AHV cells in MEC layer LII: 0/0 , 0.0000 of AHV cells in the layer\n",
      "theta modulated AHV cells in MEC layer LIII: 14/32 , 0.4375 of AHV cells in the layer\n",
      "theta modulated AHV cells in MEC layer LV: 9/13 , 0.6923 of AHV cells in the layer\n",
      "theta modulated AHV cells in MEC layer LVI: 3/22 , 0.1364 of AHV cells in the layer\n",
      "PaS\n",
      "theta modulated AHV cells in PaS layer DEEP: 15/33 , 0.4545 of AHV cells in the layer\n",
      "theta modulated AHV cells in PaS layer SUP: 15/42 , 0.3571 of AHV cells in the layer\n",
      "PrS\n",
      "theta modulated AHV cells in PrS layer DEEP: 29/72 , 0.4028 of AHV cells in the layer\n",
      "theta modulated AHV cells in PrS layer SUP: 10/32 , 0.3125 of AHV cells in the layer\n",
      "\n",
      " KS test for uniformity: \n"
     ]
    },
    {
     "data": {
      "text/plain": [
       "KstestResult(statistic=0.42045454545454547, pvalue=0.0851485462940964)"
      ]
     },
     "execution_count": 128,
     "metadata": {},
     "output_type": "execute_result"
    }
   ],
   "source": [
    "percentages=[]\n",
    "regions=[]\n",
    "# MEC\n",
    "print(\"MEC\")\n",
    "LayerNames=unique(cellMetadata[(cellMetadata[\"include\"]==1) & (cellMetadata[\"region\"]=='MEC')][\"layer\"].values)\n",
    "MECcells=cellMetadata[(cellMetadata[\"include\"]==1) & (cellMetadata[\"region\"]=='MEC')]\n",
    "for layer in LayerNames:\n",
    "    LayerCells=MECcells[MECcells[\"layer\"]==layer]\n",
    "    AHVCells=MECcells[(MECcells[\"AHVModulated\"]==1) & (MECcells[\"layer\"]==layer)]\n",
    "    modulated=MECcells[(MECcells[\"thetaModulated\"]==1) & (MECcells[\"AHVModulated\"]==1) & (MECcells[\"layer\"]==layer)]\n",
    "    if len(AHVCells)!=0:\n",
    "        percentages.append(len(modulated)/len(AHVCells))\n",
    "    else:\n",
    "        percentages.append(0)\n",
    "    regions.append(\"MEC\")\n",
    "    print(\"theta modulated AHV cells in MEC layer \"+layer+\": \"+str(len(modulated))+\"/\"+str(len(AHVCells))+\" , \"+\"{0:.4f}\".format(percentages[-1])+\" of AHV cells in the layer\" )\n",
    "    \n",
    "# PaS\n",
    "print(\"PaS\")\n",
    "LayerNames=unique(cellMetadata[(cellMetadata[\"include\"]==1) & (cellMetadata[\"region\"]=='PaS')][\"layer\"].values)\n",
    "PaScells=cellMetadata[(cellMetadata[\"include\"]==1) & (cellMetadata[\"region\"]=='PaS')]\n",
    "for layer in LayerNames:\n",
    "    LayerCells=PaScells[PaScells[\"layer\"]==layer]\n",
    "    AHVCells=PaScells[(PaScells[\"AHVModulated\"]==1) & (PaScells[\"layer\"]==layer)]\n",
    "    modulated=PaScells[(PaScells[\"thetaModulated\"]==1) & (PaScells[\"AHVModulated\"]==1) & (PaScells[\"layer\"]==layer)]\n",
    "    percentages.append(len(modulated)/len(AHVCells))\n",
    "    regions.append(\"PaS\")\n",
    "    print(\"theta modulated AHV cells in PaS layer \"+layer+\": \"+str(len(modulated))+\"/\"+str(len(AHVCells))+\" , \"+\"{0:.4f}\".format(len(modulated)/len(AHVCells))+\" of AHV cells in the layer\" )\n",
    "    \n",
    "#PrS    \n",
    "print(\"PrS\")\n",
    "LayerNames=unique(cellMetadata[(cellMetadata[\"include\"]==1) & (cellMetadata[\"region\"]=='PrS')][\"layer\"].values)\n",
    "PrScells=cellMetadata[(cellMetadata[\"include\"]==1) & (cellMetadata[\"region\"]=='PrS')]\n",
    "for layer in LayerNames:\n",
    "    LayerCells=PrScells[PrScells[\"layer\"]==layer]\n",
    "    AHVCells=PrScells[(PrScells[\"AHVModulated\"]==1) & (PrScells[\"layer\"]==layer)]\n",
    "    modulated=PrScells[(PrScells[\"thetaModulated\"]==1)& (PrScells[\"AHVModulated\"]==1) & (PrScells[\"layer\"]==layer)]\n",
    "    percentages.append(len(modulated)/len(AHVCells))\n",
    "    regions.append(\"PrS\")\n",
    "    print(\"theta modulated AHV cells in PrS layer \"+layer+\": \"+str(len(modulated))+\"/\"+str(len(AHVCells))+\" , \"+\"{0:.4f}\".format(len(modulated)/len(AHVCells))+\" of AHV cells in the layer\" )\n",
    "\n",
    "print(\"\\n KS test for uniformity: \")\n",
    "kstest(percentages,\"uniform\")"
   ]
  },
  {
   "cell_type": "code",
   "execution_count": 96,
   "metadata": {},
   "outputs": [],
   "source": [
    "MECLayerNames=list(unique(cellMetadata[(cellMetadata[\"include\"]==1) & (cellMetadata[\"region\"]=='MEC')][\"layer\"].values))\n",
    "PASLayerNames=list(unique(cellMetadata[(cellMetadata[\"include\"]==1) & (cellMetadata[\"region\"]=='PaS')][\"layer\"].values))\n",
    "PRSLayerNames=list(unique(cellMetadata[(cellMetadata[\"include\"]==1) & (cellMetadata[\"region\"]=='PrS')][\"layer\"].values))\n",
    "AllLayerNames=MECLayerNames+PASLayerNames+PRSLayerNames\n",
    "BarHandles=[]\n",
    "for i in range(len(AllLayerNames)):\n",
    "    BarHandles.append(regions[i]+\",\"+AllLayerNames[i])"
   ]
  },
  {
   "cell_type": "code",
   "execution_count": 97,
   "metadata": {
    "scrolled": true
   },
   "outputs": [
    {
     "data": {
      "image/png": "[encoded data removed]",
      "text/plain": [
       "<Figure size 1440x720 with 1 Axes>"
      ]
     },
     "metadata": {},
     "output_type": "display_data"
    }
   ],
   "source": [
    "#BARPLOT\n",
    "# Make a fake dataset:\n",
    "figure(figsize=(20,10))\n",
    "height = percentages\n",
    "bars=BarHandles\n",
    "y_pos = np.arange(len(bars))\n",
    "# Create bars\n",
    "plt.bar(y_pos, height)\n",
    "#ylim([0,0.18])\n",
    "# Create names on the x-axis\n",
    "plt.xticks(y_pos, bars)\n",
    "savefig(\"S6/H4_theta_x_AHV_by_layer_percentages_of_AHV.svg\")"
   ]
  }
 ],
 "metadata": {
  "kernelspec": {
   "display_name": "Python 3",
   "language": "python",
   "name": "python3"
  },
  "language_info": {
   "codemirror_mode": {
    "name": "ipython",
    "version": 3
   },
   "file_extension": ".py",
   "mimetype": "text/x-python",
   "name": "python",
   "nbconvert_exporter": "python",
   "pygments_lexer": "ipython3",
   "version": "3.8.5"
  }
 },
 "nbformat": 4,
 "nbformat_minor": 4
}
