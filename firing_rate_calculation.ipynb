{
 "cells": [
  {
   "cell_type": "code",
   "execution_count": 1,
   "metadata": {},
   "outputs": [
    {
     "name": "stdout",
     "output_type": "stream",
     "text": [
      "Populating the interactive namespace from numpy and matplotlib\n"
     ]
    }
   ],
   "source": [
    "%pylab inline\n",
    "import pandas as pd\n",
    "import seaborn as sns\n",
    "from scipy.ndimage import gaussian_filter"
   ]
  },
  {
   "cell_type": "markdown",
   "metadata": {},
   "source": [
    "# Firing rate"
   ]
  },
  {
   "cell_type": "code",
   "execution_count": 2,
   "metadata": {},
   "outputs": [],
   "source": [
    "spikes=pd.read_csv(\"CellData/spikes.csv\").T\n",
    "#timestamps are in seconds?"
   ]
  },
  {
   "cell_type": "code",
   "execution_count": 4,
   "metadata": {},
   "outputs": [],
   "source": [
    "def calculateRate(spikes,totTime,binwidth,smoothwindow):\n",
    "    bincenters=np.linspace(binwidth/2,totTime-binwidth/2,int(totTime/binwidth))\n",
    "    spikecount=np.zeros(len(bincenters))\n",
    "    rspikes=[x for x in spikes if not isnan(x)]\n",
    "    for i in range(len(rspikes)):\n",
    "        for j in range(len(bincenters)):\n",
    "            if  ((bincenters[j]-binwidth/2) < rspikes[i] and rspikes[i] <= (bincenters[j]+binwidth/2)):\n",
    "                spikecount[j]=spikecount[j]+1\n",
    "    rate=spikecount/binwidth\n",
    "    sigma=int(smoothwindow/binwidth)\n",
    "    rate=gaussian_filter(rate,sigma)\n",
    "    return rate\n"
   ]
  },
  {
   "cell_type": "code",
   "execution_count": 5,
   "metadata": {},
   "outputs": [],
   "source": [
    "def calculateSpikeCount(spikes,totTime,binwidth):\n",
    "    bincenters=np.linspace(binwidth/2,totTime-binwidth/2,int(totTime/binwidth))\n",
    "    spikecount=np.zeros(len(bincenters))\n",
    "    rspikes=[x for x in spikes if not isnan(x)]\n",
    "    for i in range(len(rspikes)):\n",
    "        for j in range(len(bincenters)):\n",
    "            if  ((bincenters[j]-binwidth/2) < rspikes[i] and rspikes[i] <= (bincenters[j]+binwidth/2)):\n",
    "                spikecount[j]=spikecount[j]+1\n",
    "    return spikecount"
   ]
  },
  {
   "cell_type": "code",
   "execution_count": 50,
   "metadata": {},
   "outputs": [],
   "source": [
    "def calculateSpikeTrain(spikes,totTime,samplerate):\n",
    "    rspikes=[x for x in spikes if not isnan(x)]\n",
    "    nbins=int(totTime/samplerate)\n",
    "    binedges=np.linspace(0,totTime,nbins)\n",
    "    spiketrain=np.zeros(nbins)\n",
    "    for i in range(len(rspikes)):\n",
    "        j= int(rspikes[i]/samplerate)\n",
    "        if j<nbins:\n",
    "            spiketrain[j]=1\n",
    "    return spiketrain"
   ]
  },
  {
   "cell_type": "code",
   "execution_count": 7,
   "metadata": {},
   "outputs": [],
   "source": [
    "totTime = 600.0\n",
    "sRate = 0.02\n",
    "smoothwindow = 0.25"
   ]
  },
  {
   "cell_type": "code",
   "execution_count": null,
   "metadata": {
    "tags": []
   },
   "outputs": [],
   "source": [
    "rate=[]\n",
    "for i in range(len(spikes.T)):\n",
    "    rate.append(calculateRate(spikes[i],totTime,sRate,smoothwindow))\n",
    "    if i%10==0:\n",
    "        print(\"Done cell #: \"+str(i))\n",
    "np.save(\"CellData/firingRate.npy\",asarray(rate))"
   ]
  },
  {
   "cell_type": "markdown",
   "metadata": {},
   "source": [
    "# 2ms spike train for autocorrelogram"
   ]
  },
  {
   "cell_type": "code",
   "execution_count": 20,
   "metadata": {},
   "outputs": [],
   "source": [
    "totTime = 600.0\n",
    "sRate = 0.002 #2 ms window for autocorrelogram (see Boccara 2010, Langston 2010)"
   ]
  },
  {
   "cell_type": "code",
   "execution_count": null,
   "metadata": {
    "scrolled": true
   },
   "outputs": [],
   "source": [
    "Trains=[]\n",
    "for i in range(len(spikes.values)):\n",
    "    Trains.append(calculateSpikeTrain(spikes.values[i],totTime,sRate))\n",
    "    if i%10==0:\n",
    "        print(\"Done cell #: \"+str(i))\n",
    "np.save(\"CellData/spikeTrain2ms.npy\",asarray(Trains))"
   ]
  },
  {
   "cell_type": "markdown",
   "metadata": {},
   "source": [
    "# SHUFFLING"
   ]
  },
  {
   "cell_type": "code",
   "execution_count": 1,
   "metadata": {},
   "outputs": [],
   "source": [
    "import random\n",
    "def rshuffle(x,minshift):\n",
    "    out=np.zeros(len(x))\n",
    "    shift=random.randrange(minshift,len(x),1)\n",
    "    for i in range(len(out)):\n",
    "        newindex=(i+shift)%len(x)\n",
    "        out[newindex]=x[i]\n",
    "    return out"
   ]
  },
  {
   "cell_type": "code",
   "execution_count": null,
   "metadata": {},
   "outputs": [],
   "source": [
    "#Shuffle rates 100 times per cell\n",
    "minshift=1500\n",
    "nshuffle=100\n",
    "rate1=rate\n",
    "rateShuff=np.zeros((len(rate1.columns),nshuffle,len(rate1)))\n",
    "for i in range(len(rate1.columns)):\n",
    "    for j in range(nshuffle):\n",
    "        trialId=cellMetadata.loc[rate1.columns[i],:][\"trialIndex\"]\n",
    "        x = rshuffle(rate1[rate1.columns[i]],minshift)\n",
    "        rateShuff[i][j]=x\n",
    "    print(\"Done cell \"+str(i))\n",
    "np.save(\"firingRateShuffled.npy\",rateShuff)"
   ]
  }
 ],
 "metadata": {
  "kernelspec": {
   "display_name": "Python 3",
   "language": "python",
   "name": "python3"
  },
  "language_info": {
   "codemirror_mode": {
    "name": "ipython",
    "version": 3
   },
   "file_extension": ".py",
   "mimetype": "text/x-python",
   "name": "python",
   "nbconvert_exporter": "python",
   "pygments_lexer": "ipython3",
   "version": "3.8.5"
  }
 },
 "nbformat": 4,
 "nbformat_minor": 4
}
